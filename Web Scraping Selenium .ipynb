{
 "cells": [
  {
   "cell_type": "markdown",
   "metadata": {},
   "source": [
    "# Q1 scrape jobtitle,companyname,location,experiences for Data analyst"
   ]
  },
  {
   "cell_type": "code",
   "execution_count": null,
   "metadata": {},
   "outputs": [],
   "source": [
    "#install selenium\n",
    "!pip install selenium"
   ]
  },
  {
   "cell_type": "code",
   "execution_count": 2,
   "metadata": {},
   "outputs": [],
   "source": [
    "#Import other libraries\n",
    "import selenium\n",
    "import pandas as pd\n",
    "from selenium import webdriver"
   ]
  },
  {
   "cell_type": "code",
   "execution_count": 3,
   "metadata": {},
   "outputs": [],
   "source": [
    "#install chrome drivers\n",
    "driver=webdriver.Chrome(\"chromedriver.exe\")"
   ]
  },
  {
   "cell_type": "code",
   "execution_count": 4,
   "metadata": {},
   "outputs": [],
   "source": [
    "url='http://www.naukri.com/'\n",
    "driver.get(url)"
   ]
  },
  {
   "cell_type": "code",
   "execution_count": 5,
   "metadata": {},
   "outputs": [
    {
     "data": {
      "text/plain": [
       "<selenium.webdriver.remote.webelement.WebElement (session=\"6c7391376643d3dd31383c31992a6d1d\", element=\"957afc9b-1494-4c20-91fe-6dd20a263169\")>"
      ]
     },
     "execution_count": 5,
     "metadata": {},
     "output_type": "execute_result"
    }
   ],
   "source": [
    "search_job=driver.find_element_by_id('qsb-keyword-sugg')\n",
    "search_job"
   ]
  },
  {
   "cell_type": "code",
   "execution_count": 6,
   "metadata": {},
   "outputs": [],
   "source": [
    "search_job.send_keys(\"Data Analyst\")\n"
   ]
  },
  {
   "cell_type": "code",
   "execution_count": 8,
   "metadata": {},
   "outputs": [],
   "source": [
    "search_loc=driver.find_element_by_id('qsb-location-sugg')\n",
    "search_loc.send_keys(\"Bangalore\")"
   ]
  },
  {
   "cell_type": "code",
   "execution_count": 10,
   "metadata": {},
   "outputs": [],
   "source": [
    "search_btn=driver.find_element_by_xpath(\"//button[@class='btn']\")\n",
    "search_btn.click()"
   ]
  },
  {
   "cell_type": "code",
   "execution_count": 12,
   "metadata": {},
   "outputs": [
    {
     "data": {
      "text/plain": [
       "[<selenium.webdriver.remote.webelement.WebElement (session=\"6c7391376643d3dd31383c31992a6d1d\", element=\"ebd51481-7dd6-4d65-96be-07e2532f0893\")>,\n",
       " <selenium.webdriver.remote.webelement.WebElement (session=\"6c7391376643d3dd31383c31992a6d1d\", element=\"90cc3136-8e96-4e21-9bec-ae3d2af7bfe7\")>,\n",
       " <selenium.webdriver.remote.webelement.WebElement (session=\"6c7391376643d3dd31383c31992a6d1d\", element=\"980cbaa7-8def-4bf5-aaab-6a947a57722a\")>,\n",
       " <selenium.webdriver.remote.webelement.WebElement (session=\"6c7391376643d3dd31383c31992a6d1d\", element=\"3080747e-a583-42af-b7aa-0fd4cbd2eb47\")>,\n",
       " <selenium.webdriver.remote.webelement.WebElement (session=\"6c7391376643d3dd31383c31992a6d1d\", element=\"8d34ead7-3087-4dc3-8a67-71a3685573a2\")>,\n",
       " <selenium.webdriver.remote.webelement.WebElement (session=\"6c7391376643d3dd31383c31992a6d1d\", element=\"65e8a785-82b0-4b32-92f9-6f5b154b7e0a\")>,\n",
       " <selenium.webdriver.remote.webelement.WebElement (session=\"6c7391376643d3dd31383c31992a6d1d\", element=\"11a23801-7113-4283-8170-56695ade336f\")>,\n",
       " <selenium.webdriver.remote.webelement.WebElement (session=\"6c7391376643d3dd31383c31992a6d1d\", element=\"1d80ac24-1ed5-40c2-83a2-2462eca07fd6\")>,\n",
       " <selenium.webdriver.remote.webelement.WebElement (session=\"6c7391376643d3dd31383c31992a6d1d\", element=\"de14e333-f9d4-49e7-b5c2-c199406fdfc4\")>,\n",
       " <selenium.webdriver.remote.webelement.WebElement (session=\"6c7391376643d3dd31383c31992a6d1d\", element=\"cd9b58c2-c4dc-41e4-a8a7-e26b039aec9b\")>,\n",
       " <selenium.webdriver.remote.webelement.WebElement (session=\"6c7391376643d3dd31383c31992a6d1d\", element=\"16aa9e06-f795-455c-ab53-a57f5c4e80f3\")>,\n",
       " <selenium.webdriver.remote.webelement.WebElement (session=\"6c7391376643d3dd31383c31992a6d1d\", element=\"f2767c63-fcaa-41ff-86e4-e1eda571f76e\")>,\n",
       " <selenium.webdriver.remote.webelement.WebElement (session=\"6c7391376643d3dd31383c31992a6d1d\", element=\"d0f18632-9e60-4dd9-a440-3c08d0bbb18f\")>,\n",
       " <selenium.webdriver.remote.webelement.WebElement (session=\"6c7391376643d3dd31383c31992a6d1d\", element=\"a37ade49-4f70-4db7-bab9-2da43a76c407\")>,\n",
       " <selenium.webdriver.remote.webelement.WebElement (session=\"6c7391376643d3dd31383c31992a6d1d\", element=\"fce00806-7bd7-4ce0-8419-68762e3a8317\")>,\n",
       " <selenium.webdriver.remote.webelement.WebElement (session=\"6c7391376643d3dd31383c31992a6d1d\", element=\"5dc235fd-9aa5-4f47-bd13-cb3f5a1a7c38\")>,\n",
       " <selenium.webdriver.remote.webelement.WebElement (session=\"6c7391376643d3dd31383c31992a6d1d\", element=\"8deb4739-1bad-4a50-b45d-a32792358d81\")>,\n",
       " <selenium.webdriver.remote.webelement.WebElement (session=\"6c7391376643d3dd31383c31992a6d1d\", element=\"de5b7e75-debd-4fe9-a084-7c78a6d6662e\")>,\n",
       " <selenium.webdriver.remote.webelement.WebElement (session=\"6c7391376643d3dd31383c31992a6d1d\", element=\"a96215d7-6035-47fc-ae4b-8239636430a5\")>,\n",
       " <selenium.webdriver.remote.webelement.WebElement (session=\"6c7391376643d3dd31383c31992a6d1d\", element=\"c521a72c-e6ff-4ef8-9b2a-85039d5c8c89\")>]"
      ]
     },
     "execution_count": 12,
     "metadata": {},
     "output_type": "execute_result"
    }
   ],
   "source": [
    "#lets extract all the tags of JOb_titles\n",
    "titles=driver.find_elements_by_xpath(\"//a[@class='title fw500 ellipsis']\")\n",
    "titles"
   ]
  },
  {
   "cell_type": "code",
   "execution_count": 13,
   "metadata": {},
   "outputs": [
    {
     "data": {
      "text/plain": [
       "['Business Analyst / Data Analyst - SQL Queries, Power BI & Python exp.',\n",
       " 'Immediate job openings For Partner Consultant - Sizing(Data Analyst) ',\n",
       " 'Data Analyst',\n",
       " 'Senior Data Analyst',\n",
       " 'Senior Data Analyst',\n",
       " 'Senior Data Analyst',\n",
       " 'Senior Data Analyst',\n",
       " 'Data Analyst, Component Engineering',\n",
       " 'Data Analyst(Immediate) - GSR Buz Services - Bangalore',\n",
       " 'Data Analyst',\n",
       " 'Business Analyst / Data Analyst - SQL Queries, Power BI & Python exp.',\n",
       " 'Data Analyst',\n",
       " 'Data Analyst',\n",
       " 'Hiring For Data Analyst @ Flipkart on Contract',\n",
       " 'Business Data Analyst - MIS & Reporting',\n",
       " 'Data Analyst',\n",
       " 'Lab Data Analyst - SAS Progamming',\n",
       " 'Lead Data Analyst',\n",
       " 'Data Analyst',\n",
       " 'Data Analyst']"
      ]
     },
     "execution_count": 13,
     "metadata": {},
     "output_type": "execute_result"
    }
   ],
   "source": [
    "#Now the job title is inside the tag extracted above\n",
    "#so will run a loop to iterate over the tags extracted above and extract the job titles\n",
    "job_titles=[]\n",
    "for i in titles:\n",
    "    job_titles.append(i.text)\n",
    "job_titles"
   ]
  },
  {
   "cell_type": "code",
   "execution_count": 14,
   "metadata": {},
   "outputs": [
    {
     "data": {
      "text/plain": [
       "[<selenium.webdriver.remote.webelement.WebElement (session=\"6c7391376643d3dd31383c31992a6d1d\", element=\"bd961ccb-5f13-4811-b3e8-f27c6d35259e\")>,\n",
       " <selenium.webdriver.remote.webelement.WebElement (session=\"6c7391376643d3dd31383c31992a6d1d\", element=\"5e229917-5f1b-462a-9f12-1557e3fab37f\")>,\n",
       " <selenium.webdriver.remote.webelement.WebElement (session=\"6c7391376643d3dd31383c31992a6d1d\", element=\"ec68e2c2-d473-402d-a007-40d10440de00\")>,\n",
       " <selenium.webdriver.remote.webelement.WebElement (session=\"6c7391376643d3dd31383c31992a6d1d\", element=\"9d07bf72-a090-4775-aba3-2500a18910a9\")>,\n",
       " <selenium.webdriver.remote.webelement.WebElement (session=\"6c7391376643d3dd31383c31992a6d1d\", element=\"d82c223d-08af-4390-a85e-cb3840a289e4\")>,\n",
       " <selenium.webdriver.remote.webelement.WebElement (session=\"6c7391376643d3dd31383c31992a6d1d\", element=\"21edd48b-201e-4a7e-a770-2b5742b06bad\")>,\n",
       " <selenium.webdriver.remote.webelement.WebElement (session=\"6c7391376643d3dd31383c31992a6d1d\", element=\"c418065a-95d3-45e1-871e-a7aa641161fb\")>,\n",
       " <selenium.webdriver.remote.webelement.WebElement (session=\"6c7391376643d3dd31383c31992a6d1d\", element=\"94fb4c1e-5048-442d-b946-12a26c50323e\")>,\n",
       " <selenium.webdriver.remote.webelement.WebElement (session=\"6c7391376643d3dd31383c31992a6d1d\", element=\"24f6d647-e5b0-41e7-beaa-2b9d59fbc6da\")>,\n",
       " <selenium.webdriver.remote.webelement.WebElement (session=\"6c7391376643d3dd31383c31992a6d1d\", element=\"485a288f-7e42-4191-acf8-f603c8ee48d3\")>,\n",
       " <selenium.webdriver.remote.webelement.WebElement (session=\"6c7391376643d3dd31383c31992a6d1d\", element=\"a647d067-0d6e-4d6d-938c-54896293391c\")>,\n",
       " <selenium.webdriver.remote.webelement.WebElement (session=\"6c7391376643d3dd31383c31992a6d1d\", element=\"e53c0ee7-baff-4a22-af94-d42c07c39747\")>,\n",
       " <selenium.webdriver.remote.webelement.WebElement (session=\"6c7391376643d3dd31383c31992a6d1d\", element=\"a30492b9-a584-412b-99ea-7532219040e4\")>,\n",
       " <selenium.webdriver.remote.webelement.WebElement (session=\"6c7391376643d3dd31383c31992a6d1d\", element=\"53a5e5f1-21fb-4855-9791-19440360a0b5\")>,\n",
       " <selenium.webdriver.remote.webelement.WebElement (session=\"6c7391376643d3dd31383c31992a6d1d\", element=\"8081370b-9f68-4038-85b9-a4ec4742e803\")>,\n",
       " <selenium.webdriver.remote.webelement.WebElement (session=\"6c7391376643d3dd31383c31992a6d1d\", element=\"d76a43c9-9ab2-4edf-9018-93b4be17f22e\")>,\n",
       " <selenium.webdriver.remote.webelement.WebElement (session=\"6c7391376643d3dd31383c31992a6d1d\", element=\"f31b1f94-59fa-44a0-b135-66a8b2e8f167\")>,\n",
       " <selenium.webdriver.remote.webelement.WebElement (session=\"6c7391376643d3dd31383c31992a6d1d\", element=\"7b7ad447-d56d-4964-a19a-908b7469aeec\")>,\n",
       " <selenium.webdriver.remote.webelement.WebElement (session=\"6c7391376643d3dd31383c31992a6d1d\", element=\"a2d354dd-163f-4f27-98d6-a26af5708d08\")>,\n",
       " <selenium.webdriver.remote.webelement.WebElement (session=\"6c7391376643d3dd31383c31992a6d1d\", element=\"0a8d6fa9-48c5-488e-bb17-e0ca1d4bfa1c\")>]"
      ]
     },
     "execution_count": 14,
     "metadata": {},
     "output_type": "execute_result"
    }
   ],
   "source": [
    "#now we will extract Location tags\n",
    "location_tag=driver.find_elements_by_xpath(\"//li[@class='fleft grey-text br2 placeHolderLi location']\")\n",
    "location_tag"
   ]
  },
  {
   "cell_type": "code",
   "execution_count": 15,
   "metadata": {},
   "outputs": [
    {
     "data": {
      "text/plain": [
       "['Chennai, Coimbatore, Bangalore/Bengaluru',\n",
       " 'Bangalore/Bengaluru(Marathahalli)',\n",
       " 'Bangalore/Bengaluru',\n",
       " 'Bangalore/Bengaluru',\n",
       " 'Bangalore/Bengaluru',\n",
       " 'Bangalore/Bengaluru',\n",
       " 'Bangalore/Bengaluru(2nd Phase JP Nagar)',\n",
       " 'Bangalore/Bengaluru',\n",
       " 'Bangalore/Bengaluru',\n",
       " 'Bangalore/Bengaluru(Ulsoor)',\n",
       " 'Bangalore/Bengaluru',\n",
       " 'Bangalore/Bengaluru',\n",
       " 'Bangalore/Bengaluru',\n",
       " 'Bangalore/Bengaluru',\n",
       " 'Mumbai, Bangalore/Bengaluru',\n",
       " 'Bangalore/Bengaluru',\n",
       " 'Bangalore/Bengaluru, Mumbai (All Areas)',\n",
       " 'Bangalore/Bengaluru',\n",
       " 'Bangalore/Bengaluru',\n",
       " 'Bangalore/Bengaluru']"
      ]
     },
     "execution_count": 15,
     "metadata": {},
     "output_type": "execute_result"
    }
   ],
   "source": [
    "location=[]\n",
    "for i in location_tag:\n",
    "    location.append(i.text)\n",
    "location"
   ]
  },
  {
   "cell_type": "code",
   "execution_count": 16,
   "metadata": {},
   "outputs": [
    {
     "data": {
      "text/plain": [
       "[<selenium.webdriver.remote.webelement.WebElement (session=\"6c7391376643d3dd31383c31992a6d1d\", element=\"3334e00d-4583-41cc-9a0d-dedb47f42e3f\")>,\n",
       " <selenium.webdriver.remote.webelement.WebElement (session=\"6c7391376643d3dd31383c31992a6d1d\", element=\"bf85624c-20aa-4816-9147-d6d6f57e7df5\")>,\n",
       " <selenium.webdriver.remote.webelement.WebElement (session=\"6c7391376643d3dd31383c31992a6d1d\", element=\"0e073556-4508-4c82-8ac5-c0a27f934237\")>,\n",
       " <selenium.webdriver.remote.webelement.WebElement (session=\"6c7391376643d3dd31383c31992a6d1d\", element=\"ba92b9e8-4a90-4e47-8305-fea340890ede\")>,\n",
       " <selenium.webdriver.remote.webelement.WebElement (session=\"6c7391376643d3dd31383c31992a6d1d\", element=\"f4a1f82a-9f89-4460-941f-0140d91c1461\")>,\n",
       " <selenium.webdriver.remote.webelement.WebElement (session=\"6c7391376643d3dd31383c31992a6d1d\", element=\"eef57264-a26e-4a1b-bc3a-486d7aa121b2\")>,\n",
       " <selenium.webdriver.remote.webelement.WebElement (session=\"6c7391376643d3dd31383c31992a6d1d\", element=\"aa94bdc1-dc56-48ed-926b-33ca33012078\")>,\n",
       " <selenium.webdriver.remote.webelement.WebElement (session=\"6c7391376643d3dd31383c31992a6d1d\", element=\"933ff2b3-a7dc-419e-8a0e-ec2b2fb5d778\")>,\n",
       " <selenium.webdriver.remote.webelement.WebElement (session=\"6c7391376643d3dd31383c31992a6d1d\", element=\"84ae43f6-abd8-4cc1-b944-2e1de17b624d\")>,\n",
       " <selenium.webdriver.remote.webelement.WebElement (session=\"6c7391376643d3dd31383c31992a6d1d\", element=\"e3ee0ea3-a5d2-4518-9c9d-09826250c045\")>,\n",
       " <selenium.webdriver.remote.webelement.WebElement (session=\"6c7391376643d3dd31383c31992a6d1d\", element=\"d01ca1bd-959c-407a-a76a-f705ceb059c3\")>,\n",
       " <selenium.webdriver.remote.webelement.WebElement (session=\"6c7391376643d3dd31383c31992a6d1d\", element=\"25a8059c-df70-4649-bd62-5aff6f94ce3f\")>,\n",
       " <selenium.webdriver.remote.webelement.WebElement (session=\"6c7391376643d3dd31383c31992a6d1d\", element=\"d23f035a-c2a4-47d7-8b95-fe74d9d889ef\")>,\n",
       " <selenium.webdriver.remote.webelement.WebElement (session=\"6c7391376643d3dd31383c31992a6d1d\", element=\"b2ec039d-e77b-411a-87a5-41142303ad10\")>,\n",
       " <selenium.webdriver.remote.webelement.WebElement (session=\"6c7391376643d3dd31383c31992a6d1d\", element=\"30b3e190-cb8f-40f2-ae67-0abc6d20c263\")>,\n",
       " <selenium.webdriver.remote.webelement.WebElement (session=\"6c7391376643d3dd31383c31992a6d1d\", element=\"ff3d0f5a-93c7-49b9-a641-ddc044fbd5d0\")>,\n",
       " <selenium.webdriver.remote.webelement.WebElement (session=\"6c7391376643d3dd31383c31992a6d1d\", element=\"66452988-7519-479b-b4c6-8ff9827dffd2\")>,\n",
       " <selenium.webdriver.remote.webelement.WebElement (session=\"6c7391376643d3dd31383c31992a6d1d\", element=\"cf77e7f6-ad3d-4ac3-90d6-5d6870d31f03\")>,\n",
       " <selenium.webdriver.remote.webelement.WebElement (session=\"6c7391376643d3dd31383c31992a6d1d\", element=\"ed126031-ef21-4e47-98cc-a935946b6f26\")>,\n",
       " <selenium.webdriver.remote.webelement.WebElement (session=\"6c7391376643d3dd31383c31992a6d1d\", element=\"c815681d-ce1a-41bf-a87c-2c507a3aabde\")>]"
      ]
     },
     "execution_count": 16,
     "metadata": {},
     "output_type": "execute_result"
    }
   ],
   "source": [
    "companyname=driver.find_elements_by_xpath(\"//a[@class='subTitle ellipsis fleft']\")\n",
    "companyname"
   ]
  },
  {
   "cell_type": "code",
   "execution_count": 17,
   "metadata": {},
   "outputs": [
    {
     "data": {
      "text/plain": [
       "['AN INFRACON PRIVATE LIMITED',\n",
       " 'RANDSTAD INDIA PVT LTD',\n",
       " 'Applied Materials',\n",
       " 'Flipkart Internet Private Limited',\n",
       " 'Microland Limited',\n",
       " 'Verizon Data Services India Pvt.Ltd',\n",
       " 'Liventus, Inc.',\n",
       " 'Rockwell Automation',\n",
       " 'GSR Business Services Private Limited.',\n",
       " 'WEIWO Communication Pvt. Ltd.',\n",
       " 'Rivera Manpower Services',\n",
       " 'Philips India Limited',\n",
       " 'Flipkart Internet Private Limited',\n",
       " 'Flipkart Internet Private Limited',\n",
       " 'INTERTRUST GROUP',\n",
       " 'COLLABERA',\n",
       " 'IQVIA RDS India Pvt Ltd',\n",
       " 'Nalashaa Solutions India Pvt Ltd',\n",
       " 'Riversand Technologies, Inc.',\n",
       " 'Kwalee ltd.']"
      ]
     },
     "execution_count": 17,
     "metadata": {},
     "output_type": "execute_result"
    }
   ],
   "source": [
    "company_name=[]\n",
    "for i in companyname:\n",
    "    company_name.append(i.text)\n",
    "company_name"
   ]
  },
  {
   "cell_type": "code",
   "execution_count": 18,
   "metadata": {},
   "outputs": [
    {
     "data": {
      "text/plain": [
       "[<selenium.webdriver.remote.webelement.WebElement (session=\"6c7391376643d3dd31383c31992a6d1d\", element=\"6ff84176-80e1-4b45-8197-ad7cad56a966\")>,\n",
       " <selenium.webdriver.remote.webelement.WebElement (session=\"6c7391376643d3dd31383c31992a6d1d\", element=\"d9ea6ecd-d87e-42ab-8d3b-0a96387108a1\")>,\n",
       " <selenium.webdriver.remote.webelement.WebElement (session=\"6c7391376643d3dd31383c31992a6d1d\", element=\"674d7f04-5a7c-41f9-ae4b-8ff8f6f25a31\")>,\n",
       " <selenium.webdriver.remote.webelement.WebElement (session=\"6c7391376643d3dd31383c31992a6d1d\", element=\"ef8189a1-933a-4a3d-9e9d-8b134a0299d7\")>,\n",
       " <selenium.webdriver.remote.webelement.WebElement (session=\"6c7391376643d3dd31383c31992a6d1d\", element=\"cd3e7662-821a-42f6-a0ae-2394a2711e6e\")>,\n",
       " <selenium.webdriver.remote.webelement.WebElement (session=\"6c7391376643d3dd31383c31992a6d1d\", element=\"e77f2b89-b3f9-4d38-86c5-f0a0884b0cfd\")>,\n",
       " <selenium.webdriver.remote.webelement.WebElement (session=\"6c7391376643d3dd31383c31992a6d1d\", element=\"2caa3cf2-ce77-492d-92bb-241cc83ad30d\")>,\n",
       " <selenium.webdriver.remote.webelement.WebElement (session=\"6c7391376643d3dd31383c31992a6d1d\", element=\"89a2b504-b3f7-4e07-b637-8a122a964479\")>,\n",
       " <selenium.webdriver.remote.webelement.WebElement (session=\"6c7391376643d3dd31383c31992a6d1d\", element=\"61009b80-5232-481f-9821-2ebbf98e6f50\")>,\n",
       " <selenium.webdriver.remote.webelement.WebElement (session=\"6c7391376643d3dd31383c31992a6d1d\", element=\"19c1a83a-da62-4660-a0fd-4ccb78e9ac56\")>,\n",
       " <selenium.webdriver.remote.webelement.WebElement (session=\"6c7391376643d3dd31383c31992a6d1d\", element=\"177479c9-5ce8-475d-aeee-2fea03fe0954\")>,\n",
       " <selenium.webdriver.remote.webelement.WebElement (session=\"6c7391376643d3dd31383c31992a6d1d\", element=\"6da76d55-331e-4a58-9f6a-56bbe05dc41e\")>,\n",
       " <selenium.webdriver.remote.webelement.WebElement (session=\"6c7391376643d3dd31383c31992a6d1d\", element=\"c211c3a9-7ac5-4778-9dc7-7006ba0eda1c\")>,\n",
       " <selenium.webdriver.remote.webelement.WebElement (session=\"6c7391376643d3dd31383c31992a6d1d\", element=\"eab4fdf5-1ff1-4ec0-b7c1-2d1f680909fe\")>,\n",
       " <selenium.webdriver.remote.webelement.WebElement (session=\"6c7391376643d3dd31383c31992a6d1d\", element=\"6e056039-66dc-4286-801e-cf85c98d15f1\")>,\n",
       " <selenium.webdriver.remote.webelement.WebElement (session=\"6c7391376643d3dd31383c31992a6d1d\", element=\"4e9d7d41-2acc-4ef1-9b91-8ba6deaa341b\")>,\n",
       " <selenium.webdriver.remote.webelement.WebElement (session=\"6c7391376643d3dd31383c31992a6d1d\", element=\"51f2159e-c5c6-416c-b5ce-66da86808f46\")>,\n",
       " <selenium.webdriver.remote.webelement.WebElement (session=\"6c7391376643d3dd31383c31992a6d1d\", element=\"27f42583-1ca9-44c5-8d6e-47765aeeacbc\")>,\n",
       " <selenium.webdriver.remote.webelement.WebElement (session=\"6c7391376643d3dd31383c31992a6d1d\", element=\"75ac9894-85a9-44d8-a3a4-fd5c40c19746\")>,\n",
       " <selenium.webdriver.remote.webelement.WebElement (session=\"6c7391376643d3dd31383c31992a6d1d\", element=\"0bca759a-ad66-48f9-865f-2372af450c23\")>,\n",
       " <selenium.webdriver.remote.webelement.WebElement (session=\"6c7391376643d3dd31383c31992a6d1d\", element=\"949d6276-0489-4eaa-958b-5b7a942ece02\")>,\n",
       " <selenium.webdriver.remote.webelement.WebElement (session=\"6c7391376643d3dd31383c31992a6d1d\", element=\"3c98b1b3-7afb-4088-b7d0-46ff37160bc8\")>,\n",
       " <selenium.webdriver.remote.webelement.WebElement (session=\"6c7391376643d3dd31383c31992a6d1d\", element=\"c7382d36-5a45-44de-9479-92319006ff95\")>,\n",
       " <selenium.webdriver.remote.webelement.WebElement (session=\"6c7391376643d3dd31383c31992a6d1d\", element=\"6bb636c9-5880-4418-803c-695e4a6b477d\")>,\n",
       " <selenium.webdriver.remote.webelement.WebElement (session=\"6c7391376643d3dd31383c31992a6d1d\", element=\"32f0a5a0-88ff-4aa9-9160-f8c8ca8ae98b\")>,\n",
       " <selenium.webdriver.remote.webelement.WebElement (session=\"6c7391376643d3dd31383c31992a6d1d\", element=\"3cf6c6d4-43ed-4d92-8039-2bf963e49468\")>,\n",
       " <selenium.webdriver.remote.webelement.WebElement (session=\"6c7391376643d3dd31383c31992a6d1d\", element=\"62921658-d857-451f-8697-58c16bd73b3b\")>,\n",
       " <selenium.webdriver.remote.webelement.WebElement (session=\"6c7391376643d3dd31383c31992a6d1d\", element=\"cb844d03-b12f-48ea-bbb4-5c62fc9586f5\")>,\n",
       " <selenium.webdriver.remote.webelement.WebElement (session=\"6c7391376643d3dd31383c31992a6d1d\", element=\"e65d3024-80e1-4316-b790-7e56672c7203\")>,\n",
       " <selenium.webdriver.remote.webelement.WebElement (session=\"6c7391376643d3dd31383c31992a6d1d\", element=\"5b836605-bbd3-4705-9ac7-87e553fb51f0\")>,\n",
       " <selenium.webdriver.remote.webelement.WebElement (session=\"6c7391376643d3dd31383c31992a6d1d\", element=\"52e94691-faf1-4c27-ba02-f70e7a8d5e5a\")>,\n",
       " <selenium.webdriver.remote.webelement.WebElement (session=\"6c7391376643d3dd31383c31992a6d1d\", element=\"fe00ab60-0e20-45bb-b063-b4d32c928b28\")>,\n",
       " <selenium.webdriver.remote.webelement.WebElement (session=\"6c7391376643d3dd31383c31992a6d1d\", element=\"bd4429d0-d1c0-422e-9b31-ff5a77ac79d2\")>,\n",
       " <selenium.webdriver.remote.webelement.WebElement (session=\"6c7391376643d3dd31383c31992a6d1d\", element=\"ed113661-b1e7-4b2f-ad8e-767a0fa35c01\")>,\n",
       " <selenium.webdriver.remote.webelement.WebElement (session=\"6c7391376643d3dd31383c31992a6d1d\", element=\"e2db809c-3bba-4fff-8bd1-4cca725c423b\")>,\n",
       " <selenium.webdriver.remote.webelement.WebElement (session=\"6c7391376643d3dd31383c31992a6d1d\", element=\"1504a213-eb81-4e79-9364-4582a66f822b\")>,\n",
       " <selenium.webdriver.remote.webelement.WebElement (session=\"6c7391376643d3dd31383c31992a6d1d\", element=\"a798ca71-e58e-4417-b342-3d72a9d7cd81\")>,\n",
       " <selenium.webdriver.remote.webelement.WebElement (session=\"6c7391376643d3dd31383c31992a6d1d\", element=\"4a449a49-a8e8-41de-b82a-f9b96ae30697\")>,\n",
       " <selenium.webdriver.remote.webelement.WebElement (session=\"6c7391376643d3dd31383c31992a6d1d\", element=\"9d82fc80-c624-4546-89a6-51a6bf816fe0\")>,\n",
       " <selenium.webdriver.remote.webelement.WebElement (session=\"6c7391376643d3dd31383c31992a6d1d\", element=\"1bab954c-54d8-4e7f-8136-fa193d2746d1\")>,\n",
       " <selenium.webdriver.remote.webelement.WebElement (session=\"6c7391376643d3dd31383c31992a6d1d\", element=\"a16a1ee8-5240-45fe-902d-17527e80610a\")>,\n",
       " <selenium.webdriver.remote.webelement.WebElement (session=\"6c7391376643d3dd31383c31992a6d1d\", element=\"c324279f-65f7-429a-b2d3-09f4401dabce\")>,\n",
       " <selenium.webdriver.remote.webelement.WebElement (session=\"6c7391376643d3dd31383c31992a6d1d\", element=\"47dd800a-b27c-4627-962e-1e0f3bd0f7bf\")>,\n",
       " <selenium.webdriver.remote.webelement.WebElement (session=\"6c7391376643d3dd31383c31992a6d1d\", element=\"a00d8528-a754-406f-a9fa-a379af00ef85\")>,\n",
       " <selenium.webdriver.remote.webelement.WebElement (session=\"6c7391376643d3dd31383c31992a6d1d\", element=\"5c2ecd38-5182-4063-b768-c815a3d40e93\")>,\n",
       " <selenium.webdriver.remote.webelement.WebElement (session=\"6c7391376643d3dd31383c31992a6d1d\", element=\"9812f9c4-cf66-44f5-8634-448973dfdcee\")>,\n",
       " <selenium.webdriver.remote.webelement.WebElement (session=\"6c7391376643d3dd31383c31992a6d1d\", element=\"03fa48f7-304b-4374-8b85-92ad61bed90f\")>,\n",
       " <selenium.webdriver.remote.webelement.WebElement (session=\"6c7391376643d3dd31383c31992a6d1d\", element=\"01432818-6dec-4a5a-a58c-57aaf3433906\")>,\n",
       " <selenium.webdriver.remote.webelement.WebElement (session=\"6c7391376643d3dd31383c31992a6d1d\", element=\"5a42bbf1-db05-40ca-b239-ffbe1b19273a\")>,\n",
       " <selenium.webdriver.remote.webelement.WebElement (session=\"6c7391376643d3dd31383c31992a6d1d\", element=\"47f0ff2b-cde9-4996-8161-6ab2a728b3d5\")>,\n",
       " <selenium.webdriver.remote.webelement.WebElement (session=\"6c7391376643d3dd31383c31992a6d1d\", element=\"7871bab4-e850-4c43-9cf0-f8a7eac62d7d\")>,\n",
       " <selenium.webdriver.remote.webelement.WebElement (session=\"6c7391376643d3dd31383c31992a6d1d\", element=\"8424441a-782f-4292-8de9-91f5382cc1e1\")>,\n",
       " <selenium.webdriver.remote.webelement.WebElement (session=\"6c7391376643d3dd31383c31992a6d1d\", element=\"9ec320e0-7291-4ea1-84d9-330cf105a581\")>,\n",
       " <selenium.webdriver.remote.webelement.WebElement (session=\"6c7391376643d3dd31383c31992a6d1d\", element=\"b4e2cd38-c664-469f-827f-d88b3d18629f\")>,\n",
       " <selenium.webdriver.remote.webelement.WebElement (session=\"6c7391376643d3dd31383c31992a6d1d\", element=\"dd0a9292-c7f2-4925-8afb-dff172087f91\")>,\n",
       " <selenium.webdriver.remote.webelement.WebElement (session=\"6c7391376643d3dd31383c31992a6d1d\", element=\"046b6f85-7e5f-4679-9cf4-5aa9f9cce37e\")>,\n",
       " <selenium.webdriver.remote.webelement.WebElement (session=\"6c7391376643d3dd31383c31992a6d1d\", element=\"1f892762-06d4-40b4-b206-ae1dbb9eb0d5\")>,\n",
       " <selenium.webdriver.remote.webelement.WebElement (session=\"6c7391376643d3dd31383c31992a6d1d\", element=\"2cd776e2-cb5c-43ac-bc60-9606879ab22b\")>,\n",
       " <selenium.webdriver.remote.webelement.WebElement (session=\"6c7391376643d3dd31383c31992a6d1d\", element=\"8e1187ef-8815-4e34-ac89-196e951f7b82\")>,\n",
       " <selenium.webdriver.remote.webelement.WebElement (session=\"6c7391376643d3dd31383c31992a6d1d\", element=\"c6540158-81f9-4d9f-8b2a-9d1e6936ab3a\")>]"
      ]
     },
     "execution_count": 18,
     "metadata": {},
     "output_type": "execute_result"
    }
   ],
   "source": [
    "experience_tag=driver.find_elements_by_xpath(\"//li[@class='fleft grey-text br2 placeHolderLi experience']\")\n",
    "experience_tag"
   ]
  },
  {
   "cell_type": "code",
   "execution_count": 28,
   "metadata": {},
   "outputs": [
    {
     "data": {
      "text/plain": [
       "['1-5 Yrs',\n",
       " '4,00,000 - 8,00,000 PA.',\n",
       " 'Chennai, Coimbatore, Bangalore/Bengaluru',\n",
       " '1-5 Yrs',\n",
       " '1,50,000 - more than 3,00,000 PA.',\n",
       " 'Bangalore/Bengaluru(Marathahalli)',\n",
       " '7-10 Yrs',\n",
       " 'Not disclosed',\n",
       " 'Bangalore/Bengaluru',\n",
       " '2-5 Yrs',\n",
       " 'Not disclosed',\n",
       " 'Bangalore/Bengaluru',\n",
       " '3-5 Yrs',\n",
       " 'Not disclosed',\n",
       " 'Bangalore/Bengaluru',\n",
       " '3-6 Yrs',\n",
       " 'Not disclosed',\n",
       " 'Bangalore/Bengaluru',\n",
       " '5-8 Yrs',\n",
       " '10,00,000 - 20,00,000 PA.',\n",
       " 'Bangalore/Bengaluru(2nd Phase JP Nagar)',\n",
       " '2-3 Yrs',\n",
       " 'Not disclosed',\n",
       " 'Bangalore/Bengaluru',\n",
       " '3-7 Yrs',\n",
       " '5,00,000 - 15,00,000 PA.',\n",
       " 'Bangalore/Bengaluru',\n",
       " '5-8 Yrs',\n",
       " 'Not disclosed',\n",
       " 'Bangalore/Bengaluru(Ulsoor)',\n",
       " '1-5 Yrs',\n",
       " '4,00,000 - 8,00,000 PA.',\n",
       " 'Bangalore/Bengaluru',\n",
       " '3-6 Yrs',\n",
       " 'Not disclosed',\n",
       " 'Bangalore/Bengaluru',\n",
       " '1-3 Yrs',\n",
       " 'Not disclosed',\n",
       " 'Bangalore/Bengaluru',\n",
       " '2-6 Yrs',\n",
       " 'Not disclosed',\n",
       " 'Bangalore/Bengaluru',\n",
       " '3-8 Yrs',\n",
       " 'Not disclosed',\n",
       " 'Mumbai, Bangalore/Bengaluru',\n",
       " '2-6 Yrs',\n",
       " '6,00,000 - 12,00,000 PA.',\n",
       " 'Bangalore/Bengaluru',\n",
       " '1-6 Yrs',\n",
       " 'Not disclosed',\n",
       " 'Bangalore/Bengaluru, Mumbai (All Areas)',\n",
       " '5-8 Yrs',\n",
       " 'Not disclosed',\n",
       " 'Bangalore/Bengaluru',\n",
       " '2-3 Yrs',\n",
       " 'Not disclosed',\n",
       " 'Bangalore/Bengaluru',\n",
       " '2-7 Yrs',\n",
       " 'Not disclosed',\n",
       " 'Bangalore/Bengaluru']"
      ]
     },
     "execution_count": 28,
     "metadata": {},
     "output_type": "execute_result"
    }
   ],
   "source": [
    "experience=[]\n",
    "for i in experience_tag:\n",
    "    experience.append(i.text)\n",
    "experience"
   ]
  },
  {
   "cell_type": "code",
   "execution_count": 29,
   "metadata": {},
   "outputs": [
    {
     "data": {
      "text/plain": [
       "['1-5 Yrs',\n",
       " '1-5 Yrs',\n",
       " '7-10 Yrs',\n",
       " '2-5 Yrs',\n",
       " '3-5 Yrs',\n",
       " '3-6 Yrs',\n",
       " '5-8 Yrs',\n",
       " '2-3 Yrs',\n",
       " '3-7 Yrs',\n",
       " '5-8 Yrs',\n",
       " '1-5 Yrs',\n",
       " '3-6 Yrs',\n",
       " '1-3 Yrs',\n",
       " '2-6 Yrs',\n",
       " '3-8 Yrs',\n",
       " '2-6 Yrs',\n",
       " '1-6 Yrs',\n",
       " '5-8 Yrs',\n",
       " '2-3 Yrs',\n",
       " '2-7 Yrs']"
      ]
     },
     "execution_count": 29,
     "metadata": {},
     "output_type": "execute_result"
    }
   ],
   "source": [
    "experience_=[]\n",
    "for i in range(0,len(experience),3):\n",
    "    experience_.append(experience[i])\n",
    "experience_"
   ]
  },
  {
   "cell_type": "code",
   "execution_count": 31,
   "metadata": {},
   "outputs": [
    {
     "data": {
      "text/html": [
       "<div>\n",
       "<style scoped>\n",
       "    .dataframe tbody tr th:only-of-type {\n",
       "        vertical-align: middle;\n",
       "    }\n",
       "\n",
       "    .dataframe tbody tr th {\n",
       "        vertical-align: top;\n",
       "    }\n",
       "\n",
       "    .dataframe thead th {\n",
       "        text-align: right;\n",
       "    }\n",
       "</style>\n",
       "<table border=\"1\" class=\"dataframe\">\n",
       "  <thead>\n",
       "    <tr style=\"text-align: right;\">\n",
       "      <th></th>\n",
       "      <th>Job title</th>\n",
       "      <th>Job location</th>\n",
       "      <th>company name</th>\n",
       "      <th>experience</th>\n",
       "    </tr>\n",
       "  </thead>\n",
       "  <tbody>\n",
       "    <tr>\n",
       "      <th>0</th>\n",
       "      <td>Business Analyst / Data Analyst - SQL Queries,...</td>\n",
       "      <td>Chennai, Coimbatore, Bangalore/Bengaluru</td>\n",
       "      <td>AN INFRACON PRIVATE LIMITED</td>\n",
       "      <td>1-5 Yrs</td>\n",
       "    </tr>\n",
       "    <tr>\n",
       "      <th>1</th>\n",
       "      <td>Immediate job openings For Partner Consultant ...</td>\n",
       "      <td>Bangalore/Bengaluru(Marathahalli)</td>\n",
       "      <td>RANDSTAD INDIA PVT LTD</td>\n",
       "      <td>1-5 Yrs</td>\n",
       "    </tr>\n",
       "    <tr>\n",
       "      <th>2</th>\n",
       "      <td>Data Analyst</td>\n",
       "      <td>Bangalore/Bengaluru</td>\n",
       "      <td>Applied Materials</td>\n",
       "      <td>7-10 Yrs</td>\n",
       "    </tr>\n",
       "    <tr>\n",
       "      <th>3</th>\n",
       "      <td>Senior Data Analyst</td>\n",
       "      <td>Bangalore/Bengaluru</td>\n",
       "      <td>Flipkart Internet Private Limited</td>\n",
       "      <td>2-5 Yrs</td>\n",
       "    </tr>\n",
       "    <tr>\n",
       "      <th>4</th>\n",
       "      <td>Senior Data Analyst</td>\n",
       "      <td>Bangalore/Bengaluru</td>\n",
       "      <td>Microland Limited</td>\n",
       "      <td>3-5 Yrs</td>\n",
       "    </tr>\n",
       "    <tr>\n",
       "      <th>5</th>\n",
       "      <td>Senior Data Analyst</td>\n",
       "      <td>Bangalore/Bengaluru</td>\n",
       "      <td>Verizon Data Services India Pvt.Ltd</td>\n",
       "      <td>3-6 Yrs</td>\n",
       "    </tr>\n",
       "    <tr>\n",
       "      <th>6</th>\n",
       "      <td>Senior Data Analyst</td>\n",
       "      <td>Bangalore/Bengaluru(2nd Phase JP Nagar)</td>\n",
       "      <td>Liventus, Inc.</td>\n",
       "      <td>5-8 Yrs</td>\n",
       "    </tr>\n",
       "    <tr>\n",
       "      <th>7</th>\n",
       "      <td>Data Analyst, Component Engineering</td>\n",
       "      <td>Bangalore/Bengaluru</td>\n",
       "      <td>Rockwell Automation</td>\n",
       "      <td>2-3 Yrs</td>\n",
       "    </tr>\n",
       "    <tr>\n",
       "      <th>8</th>\n",
       "      <td>Data Analyst(Immediate) - GSR Buz Services - B...</td>\n",
       "      <td>Bangalore/Bengaluru</td>\n",
       "      <td>GSR Business Services Private Limited.</td>\n",
       "      <td>3-7 Yrs</td>\n",
       "    </tr>\n",
       "    <tr>\n",
       "      <th>9</th>\n",
       "      <td>Data Analyst</td>\n",
       "      <td>Bangalore/Bengaluru(Ulsoor)</td>\n",
       "      <td>WEIWO Communication Pvt. Ltd.</td>\n",
       "      <td>5-8 Yrs</td>\n",
       "    </tr>\n",
       "  </tbody>\n",
       "</table>\n",
       "</div>"
      ],
      "text/plain": [
       "                                           Job title  \\\n",
       "0  Business Analyst / Data Analyst - SQL Queries,...   \n",
       "1  Immediate job openings For Partner Consultant ...   \n",
       "2                                       Data Analyst   \n",
       "3                                Senior Data Analyst   \n",
       "4                                Senior Data Analyst   \n",
       "5                                Senior Data Analyst   \n",
       "6                                Senior Data Analyst   \n",
       "7                Data Analyst, Component Engineering   \n",
       "8  Data Analyst(Immediate) - GSR Buz Services - B...   \n",
       "9                                       Data Analyst   \n",
       "\n",
       "                               Job location  \\\n",
       "0  Chennai, Coimbatore, Bangalore/Bengaluru   \n",
       "1         Bangalore/Bengaluru(Marathahalli)   \n",
       "2                       Bangalore/Bengaluru   \n",
       "3                       Bangalore/Bengaluru   \n",
       "4                       Bangalore/Bengaluru   \n",
       "5                       Bangalore/Bengaluru   \n",
       "6   Bangalore/Bengaluru(2nd Phase JP Nagar)   \n",
       "7                       Bangalore/Bengaluru   \n",
       "8                       Bangalore/Bengaluru   \n",
       "9               Bangalore/Bengaluru(Ulsoor)   \n",
       "\n",
       "                             company name experience  \n",
       "0             AN INFRACON PRIVATE LIMITED    1-5 Yrs  \n",
       "1                  RANDSTAD INDIA PVT LTD    1-5 Yrs  \n",
       "2                       Applied Materials   7-10 Yrs  \n",
       "3       Flipkart Internet Private Limited    2-5 Yrs  \n",
       "4                       Microland Limited    3-5 Yrs  \n",
       "5     Verizon Data Services India Pvt.Ltd    3-6 Yrs  \n",
       "6                          Liventus, Inc.    5-8 Yrs  \n",
       "7                     Rockwell Automation    2-3 Yrs  \n",
       "8  GSR Business Services Private Limited.    3-7 Yrs  \n",
       "9           WEIWO Communication Pvt. Ltd.    5-8 Yrs  "
      ]
     },
     "execution_count": 31,
     "metadata": {},
     "output_type": "execute_result"
    }
   ],
   "source": [
    "import pandas as pd\n",
    "company_detail=pd.DataFrame({})\n",
    "company_detail['Job title']=job_titles\n",
    "company_detail['Job location']=location\n",
    "company_detail['company name']=company_name\n",
    "company_detail['experience']=experience_\n",
    "company_detail[:10]"
   ]
  },
  {
   "cell_type": "markdown",
   "metadata": {},
   "source": [
    "# # Q2 scrape jobtitle,companyname,location,Job description for Data analyst"
   ]
  },
  {
   "cell_type": "code",
   "execution_count": 1,
   "metadata": {},
   "outputs": [
    {
     "name": "stdout",
     "output_type": "stream",
     "text": [
      "Requirement already satisfied: selenium in c:\\jpytr notebook\\lib\\site-packages (3.141.0)\n",
      "Requirement already satisfied: urllib3 in c:\\jpytr notebook\\lib\\site-packages (from selenium) (1.25.11)\n"
     ]
    }
   ],
   "source": [
    "!pip install selenium\n"
   ]
  },
  {
   "cell_type": "code",
   "execution_count": 3,
   "metadata": {},
   "outputs": [],
   "source": [
    "import selenium\n",
    "import pandas as pd\n",
    "from selenium import webdriver\n",
    "import time\n",
    "from selenium.common.exceptions import NoSuchElementException"
   ]
  },
  {
   "cell_type": "code",
   "execution_count": 4,
   "metadata": {},
   "outputs": [],
   "source": [
    "driver=webdriver.Chrome(\"chromedriver.exe\")"
   ]
  },
  {
   "cell_type": "code",
   "execution_count": 5,
   "metadata": {},
   "outputs": [],
   "source": [
    "url='http://www.naukri.com/'\n",
    "driver.get(url)"
   ]
  },
  {
   "cell_type": "code",
   "execution_count": 6,
   "metadata": {},
   "outputs": [
    {
     "data": {
      "text/plain": [
       "<selenium.webdriver.remote.webelement.WebElement (session=\"4a8b92a56e9c97bdd26c501dd37bd889\", element=\"fa3d0bf9-626e-4254-903f-d3c9c27b608a\")>"
      ]
     },
     "execution_count": 6,
     "metadata": {},
     "output_type": "execute_result"
    }
   ],
   "source": [
    "search_job=driver.find_element_by_id('qsb-keyword-sugg')\n",
    "search_job"
   ]
  },
  {
   "cell_type": "code",
   "execution_count": 7,
   "metadata": {},
   "outputs": [],
   "source": [
    "search_job.send_keys(\"Data Analyst\")"
   ]
  },
  {
   "cell_type": "code",
   "execution_count": 8,
   "metadata": {},
   "outputs": [],
   "source": [
    "search_loc=driver.find_element_by_id('qsb-location-sugg')\n",
    "search_loc.send_keys(\"Bangalore\")"
   ]
  },
  {
   "cell_type": "code",
   "execution_count": 9,
   "metadata": {},
   "outputs": [],
   "source": [
    "search_btn=driver.find_element_by_xpath(\"//button[@class='btn']\")\n",
    "search_btn.click()"
   ]
  },
  {
   "cell_type": "code",
   "execution_count": 10,
   "metadata": {},
   "outputs": [
    {
     "data": {
      "text/plain": [
       "[<selenium.webdriver.remote.webelement.WebElement (session=\"4a8b92a56e9c97bdd26c501dd37bd889\", element=\"cf448d25-9ed9-4b2a-bb17-c6d835415ca7\")>,\n",
       " <selenium.webdriver.remote.webelement.WebElement (session=\"4a8b92a56e9c97bdd26c501dd37bd889\", element=\"77e3938c-451f-427d-be31-a1b92521d4c7\")>,\n",
       " <selenium.webdriver.remote.webelement.WebElement (session=\"4a8b92a56e9c97bdd26c501dd37bd889\", element=\"745de309-02e7-4737-8815-0a57dc5644d5\")>,\n",
       " <selenium.webdriver.remote.webelement.WebElement (session=\"4a8b92a56e9c97bdd26c501dd37bd889\", element=\"7f994232-cb96-43e6-b7f9-f91d88d2cc1a\")>,\n",
       " <selenium.webdriver.remote.webelement.WebElement (session=\"4a8b92a56e9c97bdd26c501dd37bd889\", element=\"64219183-6357-4ec0-9157-27fe840a34d5\")>,\n",
       " <selenium.webdriver.remote.webelement.WebElement (session=\"4a8b92a56e9c97bdd26c501dd37bd889\", element=\"c026cdf3-c71f-43b6-8018-de17c6ad5a27\")>,\n",
       " <selenium.webdriver.remote.webelement.WebElement (session=\"4a8b92a56e9c97bdd26c501dd37bd889\", element=\"0538cb17-a085-4a22-9295-4207e25af8f5\")>,\n",
       " <selenium.webdriver.remote.webelement.WebElement (session=\"4a8b92a56e9c97bdd26c501dd37bd889\", element=\"4ae05211-e551-419b-ac84-8928dd9315d2\")>,\n",
       " <selenium.webdriver.remote.webelement.WebElement (session=\"4a8b92a56e9c97bdd26c501dd37bd889\", element=\"dbc56af6-9a94-48f7-890a-206962c089da\")>,\n",
       " <selenium.webdriver.remote.webelement.WebElement (session=\"4a8b92a56e9c97bdd26c501dd37bd889\", element=\"4d80e637-f12b-4e15-b63d-75ec48b54ab4\")>,\n",
       " <selenium.webdriver.remote.webelement.WebElement (session=\"4a8b92a56e9c97bdd26c501dd37bd889\", element=\"af5185b2-2067-451b-bee9-5af2fd9e9bb3\")>,\n",
       " <selenium.webdriver.remote.webelement.WebElement (session=\"4a8b92a56e9c97bdd26c501dd37bd889\", element=\"7c03b993-e634-4ba8-922e-65efbdbd7781\")>,\n",
       " <selenium.webdriver.remote.webelement.WebElement (session=\"4a8b92a56e9c97bdd26c501dd37bd889\", element=\"ff9a8d9b-57ab-4b2f-8660-725cf7f9b0b1\")>,\n",
       " <selenium.webdriver.remote.webelement.WebElement (session=\"4a8b92a56e9c97bdd26c501dd37bd889\", element=\"af676bd8-f8d4-4bba-8862-1d0c2b3057d4\")>,\n",
       " <selenium.webdriver.remote.webelement.WebElement (session=\"4a8b92a56e9c97bdd26c501dd37bd889\", element=\"113c9f8e-8975-43d6-b954-3f90aaa0d158\")>,\n",
       " <selenium.webdriver.remote.webelement.WebElement (session=\"4a8b92a56e9c97bdd26c501dd37bd889\", element=\"8198076c-8a39-4bf5-8948-15ae5d0e0f2f\")>,\n",
       " <selenium.webdriver.remote.webelement.WebElement (session=\"4a8b92a56e9c97bdd26c501dd37bd889\", element=\"7c89d705-44a2-4864-825c-16aa7cc28acf\")>,\n",
       " <selenium.webdriver.remote.webelement.WebElement (session=\"4a8b92a56e9c97bdd26c501dd37bd889\", element=\"b3829f13-c694-4a94-b3d2-ea5d87536533\")>,\n",
       " <selenium.webdriver.remote.webelement.WebElement (session=\"4a8b92a56e9c97bdd26c501dd37bd889\", element=\"175be1d1-3a6e-4fc3-abca-fe4c0e21001a\")>,\n",
       " <selenium.webdriver.remote.webelement.WebElement (session=\"4a8b92a56e9c97bdd26c501dd37bd889\", element=\"2c86821a-f30e-4d74-95ee-fbd25d9ed1ed\")>]"
      ]
     },
     "execution_count": 10,
     "metadata": {},
     "output_type": "execute_result"
    }
   ],
   "source": [
    "titles=driver.find_elements_by_xpath(\"//a[@class='title fw500 ellipsis']\")\n",
    "titles"
   ]
  },
  {
   "cell_type": "code",
   "execution_count": 11,
   "metadata": {},
   "outputs": [
    {
     "data": {
      "text/plain": [
       "['Data Scientist / Data Analyst -Business Analyst',\n",
       " 'Senior Data Analyst',\n",
       " 'Data analysts',\n",
       " 'Data analysts',\n",
       " 'Data Analyst',\n",
       " 'Data Analyst (Data Stewards)//Immediate Joiners//Bangalore',\n",
       " 'Senior Data Analyst',\n",
       " 'Data Analyst',\n",
       " 'Consultant-Data Analyst -Bangalore',\n",
       " 'Urgent Opening For Data Analyst in Bangalore !!',\n",
       " 'Data Analyst',\n",
       " 'Data Analyst / Sr. Data Analyst - SQL',\n",
       " 'Senior Data Analyst',\n",
       " 'Senior Data Analyst',\n",
       " 'Senior Data Analyst',\n",
       " 'Senior Data Analyst',\n",
       " 'Senior Associate - Data Analyst',\n",
       " 'Senior Associate - Data Analyst',\n",
       " 'Business Data Analyst - MIS & Reporting',\n",
       " 'Data Analyst-Immediate Joiners']"
      ]
     },
     "execution_count": 11,
     "metadata": {},
     "output_type": "execute_result"
    }
   ],
   "source": [
    "job_titles=[]\n",
    "for i in titles:\n",
    "    job_titles.append(i.text)\n",
    "job_titles"
   ]
  },
  {
   "cell_type": "code",
   "execution_count": 12,
   "metadata": {},
   "outputs": [
    {
     "data": {
      "text/plain": [
       "[<selenium.webdriver.remote.webelement.WebElement (session=\"4a8b92a56e9c97bdd26c501dd37bd889\", element=\"6f8f7a3b-1044-4dd3-8712-745c86a679d0\")>,\n",
       " <selenium.webdriver.remote.webelement.WebElement (session=\"4a8b92a56e9c97bdd26c501dd37bd889\", element=\"f5fe1b70-fce9-43f3-a8ca-aeed54bea1c4\")>,\n",
       " <selenium.webdriver.remote.webelement.WebElement (session=\"4a8b92a56e9c97bdd26c501dd37bd889\", element=\"be40dd4e-375f-4c49-a404-ef8926104013\")>,\n",
       " <selenium.webdriver.remote.webelement.WebElement (session=\"4a8b92a56e9c97bdd26c501dd37bd889\", element=\"fcea4c2e-7ae1-4ebf-bbcb-dd3bda046e77\")>,\n",
       " <selenium.webdriver.remote.webelement.WebElement (session=\"4a8b92a56e9c97bdd26c501dd37bd889\", element=\"dd59bf5a-d5ea-46de-835e-ed463139bc41\")>,\n",
       " <selenium.webdriver.remote.webelement.WebElement (session=\"4a8b92a56e9c97bdd26c501dd37bd889\", element=\"be424923-a2ec-470b-a19d-08f19c0d347c\")>,\n",
       " <selenium.webdriver.remote.webelement.WebElement (session=\"4a8b92a56e9c97bdd26c501dd37bd889\", element=\"a265ccfb-4237-4635-b12d-8b74788efd95\")>,\n",
       " <selenium.webdriver.remote.webelement.WebElement (session=\"4a8b92a56e9c97bdd26c501dd37bd889\", element=\"fa6f310d-eb0d-482c-b8d8-21faa059414f\")>,\n",
       " <selenium.webdriver.remote.webelement.WebElement (session=\"4a8b92a56e9c97bdd26c501dd37bd889\", element=\"52ec016e-949a-4a48-8f19-4dc30c083294\")>,\n",
       " <selenium.webdriver.remote.webelement.WebElement (session=\"4a8b92a56e9c97bdd26c501dd37bd889\", element=\"75f6e1a2-d86d-4f4a-822c-401b75cbe59e\")>,\n",
       " <selenium.webdriver.remote.webelement.WebElement (session=\"4a8b92a56e9c97bdd26c501dd37bd889\", element=\"9ac1bbe8-134a-40f6-aaba-e66513706dfa\")>,\n",
       " <selenium.webdriver.remote.webelement.WebElement (session=\"4a8b92a56e9c97bdd26c501dd37bd889\", element=\"18cf433f-bc0a-4d30-9b14-38e0e47e4466\")>,\n",
       " <selenium.webdriver.remote.webelement.WebElement (session=\"4a8b92a56e9c97bdd26c501dd37bd889\", element=\"f1024369-fb79-436f-81cd-ef67866a4856\")>,\n",
       " <selenium.webdriver.remote.webelement.WebElement (session=\"4a8b92a56e9c97bdd26c501dd37bd889\", element=\"96fd4d40-bdf5-434e-8a56-75f7ef546185\")>,\n",
       " <selenium.webdriver.remote.webelement.WebElement (session=\"4a8b92a56e9c97bdd26c501dd37bd889\", element=\"921a4f86-846e-433c-8637-d0d1d30bef68\")>,\n",
       " <selenium.webdriver.remote.webelement.WebElement (session=\"4a8b92a56e9c97bdd26c501dd37bd889\", element=\"32a372c6-35b5-4dd7-a363-2d116515cd7c\")>,\n",
       " <selenium.webdriver.remote.webelement.WebElement (session=\"4a8b92a56e9c97bdd26c501dd37bd889\", element=\"d1a62973-b58f-4661-bb3e-263ca8172bed\")>,\n",
       " <selenium.webdriver.remote.webelement.WebElement (session=\"4a8b92a56e9c97bdd26c501dd37bd889\", element=\"8144fcef-92d8-4136-975e-cb9b67a36427\")>,\n",
       " <selenium.webdriver.remote.webelement.WebElement (session=\"4a8b92a56e9c97bdd26c501dd37bd889\", element=\"8199df37-f680-408d-816b-af0ad56370b6\")>,\n",
       " <selenium.webdriver.remote.webelement.WebElement (session=\"4a8b92a56e9c97bdd26c501dd37bd889\", element=\"ff7b081f-07b4-4b92-8335-3467f2d36d41\")>]"
      ]
     },
     "execution_count": 12,
     "metadata": {},
     "output_type": "execute_result"
    }
   ],
   "source": [
    "location_tag=driver.find_elements_by_xpath(\"//li[@class='fleft grey-text br2 placeHolderLi location']\")\n",
    "location_tag"
   ]
  },
  {
   "cell_type": "code",
   "execution_count": 13,
   "metadata": {},
   "outputs": [
    {
     "data": {
      "text/plain": [
       "['Hyderabad/Secunderabad, Chennai, Bangalore/Bengaluru',\n",
       " 'Bangalore/Bengaluru',\n",
       " 'Bangalore/Bengaluru',\n",
       " 'Bengaluru/Bangalore',\n",
       " 'Bangalore/Bengaluru',\n",
       " 'Bangalore/Bengaluru',\n",
       " 'Bangalore/Bengaluru(2nd Phase JP Nagar)',\n",
       " 'Bangalore/Bengaluru',\n",
       " 'Bangalore/Bengaluru',\n",
       " 'Bangalore/Bengaluru',\n",
       " 'Bangalore/Bengaluru',\n",
       " 'Bangalore/Bengaluru',\n",
       " 'Bangalore/Bengaluru',\n",
       " 'Bangalore/Bengaluru',\n",
       " 'Bangalore/Bengaluru',\n",
       " 'Bangalore/Bengaluru',\n",
       " 'Bangalore/Bengaluru',\n",
       " 'Bangalore/Bengaluru',\n",
       " 'Mumbai, Bangalore/Bengaluru',\n",
       " 'Bangalore/Bengaluru']"
      ]
     },
     "execution_count": 13,
     "metadata": {},
     "output_type": "execute_result"
    }
   ],
   "source": [
    "location=[]\n",
    "for i in location_tag:\n",
    "    location.append(i.text)\n",
    "location"
   ]
  },
  {
   "cell_type": "code",
   "execution_count": 14,
   "metadata": {},
   "outputs": [
    {
     "data": {
      "text/plain": [
       "[<selenium.webdriver.remote.webelement.WebElement (session=\"4a8b92a56e9c97bdd26c501dd37bd889\", element=\"3267feaf-dd8c-4433-8d23-4b05e37fb306\")>,\n",
       " <selenium.webdriver.remote.webelement.WebElement (session=\"4a8b92a56e9c97bdd26c501dd37bd889\", element=\"9d99cfc7-7c51-4ac3-a354-349d06c885ea\")>,\n",
       " <selenium.webdriver.remote.webelement.WebElement (session=\"4a8b92a56e9c97bdd26c501dd37bd889\", element=\"c99918d4-f75c-449b-a877-0035cf9515e1\")>,\n",
       " <selenium.webdriver.remote.webelement.WebElement (session=\"4a8b92a56e9c97bdd26c501dd37bd889\", element=\"7df54518-4e01-4628-8929-c2400fc946b1\")>,\n",
       " <selenium.webdriver.remote.webelement.WebElement (session=\"4a8b92a56e9c97bdd26c501dd37bd889\", element=\"f67cf20b-3e83-4b09-9ed8-ecf30f409caf\")>,\n",
       " <selenium.webdriver.remote.webelement.WebElement (session=\"4a8b92a56e9c97bdd26c501dd37bd889\", element=\"df61d8b7-6f53-452b-b9fa-c6e0c4d04544\")>,\n",
       " <selenium.webdriver.remote.webelement.WebElement (session=\"4a8b92a56e9c97bdd26c501dd37bd889\", element=\"0c10c16d-cd3e-406b-b093-ea4f1cc68d60\")>,\n",
       " <selenium.webdriver.remote.webelement.WebElement (session=\"4a8b92a56e9c97bdd26c501dd37bd889\", element=\"08567775-9a6c-4532-8ba9-f8bd38cf35ea\")>,\n",
       " <selenium.webdriver.remote.webelement.WebElement (session=\"4a8b92a56e9c97bdd26c501dd37bd889\", element=\"0e99dc18-2433-4164-b4ba-d907ed55d47a\")>,\n",
       " <selenium.webdriver.remote.webelement.WebElement (session=\"4a8b92a56e9c97bdd26c501dd37bd889\", element=\"c426383c-a2bc-4a17-ae43-3d4a6b3ffc7f\")>,\n",
       " <selenium.webdriver.remote.webelement.WebElement (session=\"4a8b92a56e9c97bdd26c501dd37bd889\", element=\"063bb9fa-3772-458b-af8f-b2554ced2b31\")>,\n",
       " <selenium.webdriver.remote.webelement.WebElement (session=\"4a8b92a56e9c97bdd26c501dd37bd889\", element=\"a61912fb-7dd0-4321-b48c-76d0dc903e62\")>,\n",
       " <selenium.webdriver.remote.webelement.WebElement (session=\"4a8b92a56e9c97bdd26c501dd37bd889\", element=\"7ee44ebf-1604-4702-8c69-5bdffa1a0e3c\")>,\n",
       " <selenium.webdriver.remote.webelement.WebElement (session=\"4a8b92a56e9c97bdd26c501dd37bd889\", element=\"33a07c67-472f-428f-bcc7-4393f07ff3a4\")>,\n",
       " <selenium.webdriver.remote.webelement.WebElement (session=\"4a8b92a56e9c97bdd26c501dd37bd889\", element=\"d2d57625-f5c8-4f2c-9e74-5b610c1ca857\")>,\n",
       " <selenium.webdriver.remote.webelement.WebElement (session=\"4a8b92a56e9c97bdd26c501dd37bd889\", element=\"3efffe10-5130-40bf-9d8f-7bfe35fd13b8\")>,\n",
       " <selenium.webdriver.remote.webelement.WebElement (session=\"4a8b92a56e9c97bdd26c501dd37bd889\", element=\"08e42948-bbc5-48c6-ab1c-3054a356215a\")>,\n",
       " <selenium.webdriver.remote.webelement.WebElement (session=\"4a8b92a56e9c97bdd26c501dd37bd889\", element=\"dd46c380-99a7-4202-af88-8cec8a132c6d\")>,\n",
       " <selenium.webdriver.remote.webelement.WebElement (session=\"4a8b92a56e9c97bdd26c501dd37bd889\", element=\"3df6ae55-05d2-46d5-afc5-7305ddffecf1\")>,\n",
       " <selenium.webdriver.remote.webelement.WebElement (session=\"4a8b92a56e9c97bdd26c501dd37bd889\", element=\"6ee06c91-31e6-47ec-b341-f4c1c8105888\")>]"
      ]
     },
     "execution_count": 14,
     "metadata": {},
     "output_type": "execute_result"
    }
   ],
   "source": [
    "companyname=driver.find_elements_by_xpath(\"//a[@class='subTitle ellipsis fleft']\")\n",
    "companyname"
   ]
  },
  {
   "cell_type": "code",
   "execution_count": 15,
   "metadata": {},
   "outputs": [
    {
     "data": {
      "text/plain": [
       "['Inflexion Analytix Private Limited',\n",
       " 'Flipkart Internet Private Limited',\n",
       " 'IBM India Pvt. Limited',\n",
       " 'IBM India Pvt. Limited',\n",
       " 'Zilingo.com',\n",
       " 'Tech Mahindra Ltd.',\n",
       " 'Liventus, Inc.',\n",
       " 'Superior Group',\n",
       " 'Innovsource Services Private Limited',\n",
       " 'Net Connect Pvt Ltd',\n",
       " 'Applied Materials',\n",
       " 'Naukri Premium - Employer Services',\n",
       " 'Publicis Groupe',\n",
       " 'Publicis Groupe',\n",
       " 'Publicis Groupe',\n",
       " 'Flipkart Internet Private Limited',\n",
       " 'Sapient',\n",
       " 'Publicis Groupe',\n",
       " 'INTERTRUST GROUP',\n",
       " 'Brillio']"
      ]
     },
     "execution_count": 15,
     "metadata": {},
     "output_type": "execute_result"
    }
   ],
   "source": [
    "company_name=[]\n",
    "for i in companyname:\n",
    "    company_name.append(i.text)\n",
    "company_name"
   ]
  },
  {
   "cell_type": "code",
   "execution_count": 16,
   "metadata": {},
   "outputs": [],
   "source": [
    "urls=[]\n",
    "for i in driver.find_elements_by_xpath(\"//a[@class='title fw500 ellipsis']\"):\n",
    "    urls.append(i.get_attribute(\"href\"))\n"
   ]
  },
  {
   "cell_type": "code",
   "execution_count": 17,
   "metadata": {},
   "outputs": [],
   "source": [
    "job_description=[]"
   ]
  },
  {
   "cell_type": "code",
   "execution_count": 18,
   "metadata": {},
   "outputs": [],
   "source": [
    "for i in urls[:10]:\n",
    "    driver.get(i)\n",
    "    time.sleep(3)\n",
    "    \n",
    "    try:\n",
    "        job_desc=driver.find_element_by_xpath(\"//section[@class='job-desc']\")\n",
    "        job_description.append(job_desc.text)\n",
    "    except:\n",
    "        job_description.append('-')\n",
    "        \n",
    "        "
   ]
  },
  {
   "cell_type": "code",
   "execution_count": 19,
   "metadata": {},
   "outputs": [
    {
     "data": {
      "text/plain": [
       "[\"Job description\\nJob description\\n\\nJob Role: Data Scientist/Data Analyst /Business Analyst\\n\\nLocation: Chennai/Bangalore/Hyderabad\\n\\nGreetings from CAIA - Center for Artificial Intelligence & Advanced Analytics\\n43% of companies experienced a high deficit of skilled resources with Advanced Analytical skills and AI implementing capabilities in the year 2020. CAIA gives you a great opportunity to enter the world of future technologies and Innovations- Data Science, Analytics, AI, Data Visualization, and Cloud Computing.\\n\\nWhile 2020 was a year like no other, we are living in an interesting times where data is reshaping the world, and businesses are rapidly adopting technology to gain an edge over others. Hence, there's a substantial increase in demand for technology professionals who can implement systems in data science, machine learning, and AI in Tier 1 and Tier 2 organizations working closely with us.\\n\\nTo help you build a sustainable career we would like you to utilize data, software and Analytical approaches in Data Science and AI to upskill and get recruited into an organization appreciating your skilling journey.\\nApplications invited from all Freshers and experienced candidates (0-3 yrs) aspiring to make a career in Artificial Intelligence and Advanced Analytics and Data Science.\\nIf you wish to make a shift in your career or undergo a career transition, upskilling is essential since it allows you to learn more about the domain and acquire the required skills.\\n\\nCall to schedule interview Monday -Saturday from 10:00 am to 7 Pm\\n\\nKoodesh B- +91 73395 11107\\nManigandan B - +91 93444 57360\\n\\nEmail :\\n\\ncareerguidance.koodes@centerforaia.com\\nmanigandan@centerforaia.com\\n\\nWhat is needed from you?\\nFreshers who wish to start their career in Analytics and AI and professionals who wish to\\nupskill or change their domain to analytics and emerging technologies are free to apply.\\nEducational background in any one of the following- BE/B.Tech, ME/M Tech, MSc, BSc/MSc Math's and Statistics, B Com, BCA, BSc CS, BSC IT, MSC IT, MCA\\nSkills relating to Mathematics/Statistics.\\nNatural passion towards numbers, business, coding, Analytics, and Artificial Intelligence, Machine Learning, visualization\\nGood verbal and written communication skills\\nAbility to understand domains in businesses across various sectors\\n\\nSelection procedure includes\\nAptitude Test & Communication Exam - Online / Offline\\nSQL/Python test - Online / Offline\\nCandidates who clear the above will have one-one discussions with our Career Guidance Manager for further evaluation and processing of your Resume.\\n\\nAll the Shortlisted candidates will be eligible to continue the corporate training with CAIA\\nWhat you can expect from us?\\n\\nYou will get trained on the following modules for a period of 12-14 weeks:\\nSQL & PLSQL\\nData Wrangling using Python\\nData Visualization Using Power-BI\\nStatistics for Machine Learning\\nArtificial Intelligence, Data Interpretation\\nSupervised & Unsupervised Learning,\\nNLP & Deep Learning\\nCloud Data Lake\\nBusiness intelligence & Data Visualization\\nSimulation Projects\\nExpected Outcome?\\n\\nAt the end of the Training you are expected to be well versed with the following:\\nAnalysis of large and complex data sets from multiple sources\\nDevelopment and evaluation of data analytics models, algorithms, and solutions\\nUnderstanding/implementation of ML algorithms, performance tuning, and reporting\\nImplementation of algorithms to mine targeted data and the ability to convert data into a business story\\nTranslation of business requirements into technical requirements; Data extraction, preparation, and transformation\\nIdentification, development, and implementation of statistical techniques and algorithms that address business challenges and adds value to the organization\\nRequirement Analysis and communication of findings in the form of a meaningful story with the stakeholders\\nFinding analytical solutions to abstract business issues.\\nApply objective analysis of facts before coming to a conclusion\\n\\nRoleData Analyst\\nIndustry TypeIT Services & Consulting\\nFunctional AreaAnalytics & Business Intelligence\\nEmployment TypeFull Time, Permanent\\nRole CategoryAnalytics & BI\\nEducation\\nUG :BCA in Any Specialization, BBA/BMS/BBM/BBS in Any Specialization, B.Sc/B.Sc(Hons) in Any Specialization, B.Tech/BE in Any Specialization, B.Com/B.Com(Hons) in Any Specialization, Any Graduate\\nKey Skills\\nBusiness IntelligencePower BiData WranglingArtificial IntelligenceBig DataITMachine LearningStatisticsAnalyticsDeep LearningBusiness AnalysisSQLData ScienceNLPCloud ComputingData AnalysisData VisualizationData WarehousingData AnalyticsETLPython\",\n",
       " 'Job description\\nSkills Required :\\nExperience in querying SQL, Oracle DBs, Big data, experience in Python coding\\nEducation/Qualification :\\nEngg\\nDesirable Skills :\\nDash, Django\\nRoleData Analyst\\nIndustry TypeInternet\\nFunctional AreaAnalytics & Business Intelligence\\nEmployment TypeFull Time, Permanent\\nRole CategoryAnalytics & BI\\nEducation\\nUG :B.Tech/BE in Any Specialization\\nPG :Any Postgraduate\\nKey Skills\\nOracle SQLDjangoBig DataData Analysis Data AnalystPython',\n",
       " '-',\n",
       " '-',\n",
       " 'Job description\\nData analytics is at the center of many fast-scaling, new, and diverse projects at Zilingo. The data analytics team works closely with tech, product, data science, and business teams on a diverse set of problems, including marketing, product cohorts, product features, A/B testing, operations excellence, and customer segmentation.\\nWhat is the job like\\nYou ll work directly with one of the Product, Seller, Data Science, or Marketing team to help them achieve their key goals in a fast-paced environment\\nYou ll also be expected to help improve the core analytic stack and bring in automation to ensure that the analytics team stays lean.\\nWhat you will need\\nAbility to write complex SQL queries on large datasets\\nRequired Experience - 6 months to 2 Years\\nAbility to convert product or business problems into analytical problem statements\\nAbility to analyze and then communicate business issues to a wide range of audiences using strong data analytics and communication skills\\nKnowledge of a scripting language like R or Python is a bonus\\nKnowledge of a visualization tool like Looker, Tableau is a bonus\\nPrior experience in a product-based company is a bonus\\nRoleBusiness Analyst\\nIndustry TypeFilm / Music / Entertainment\\nFunctional AreaIT Software - Application Programming, Maintenance\\nEmployment TypeFull Time, Permanent\\nRole CategorySystem Design/Implementation/ERP/CRM\\nEducation\\nUG :Any Graduate\\nPG :Any Postgraduate\\nKey Skills\\nSupply chainAnalystAutomationAnalyticalSCALAData collectionFinancial servicesAndroidPythonLogistics',\n",
       " '-',\n",
       " '-',\n",
       " 'Job description\\n\\n  This position is responsible for developing sustainable scripts to perform data - extraction, manipulation, processing and visualization. We are looking for an individual with an analytical mindset and an eagerness to learn to join our analytics team.\\n  You will be responsible for\\n  Building data and intelligence collateral for Sales, Marketing and Customer Success teams.\\nWorking with the Business, Operations and Tech teams to understand and derive data Requirements\\nConducting exploratory data analysis to identify patterns in data that eventually serve as an input to product.\\nIdentifying data trends, presenting the findings and making recommendations.\\nBuilding ad hoc reports and/or other requested information and meeting deadlines for customer delivery\\nOwning the quality and accuracy of data reports.\\nBuilding automation and tooling to proactively surface data issues\\nJob Requirements\\n  Experience and skills we are looking for\\n  4 years to 6 years of experience in a data analyst role\\nGood working knowledge of MySQL/PostgreSQL/Redshift and understanding of data modelling and relational databases\\nStrong hands-on experience working in Python/R for data analysis and highly writing performant and advanced SQL queries\\n  Demonstrated experience in timely creation of both standard and ad hoc reporting, data analysis and presentation of findings\\nProficiency with Word, Excel and PowerPoint, with advanced skills in Excel (Pivot Tables, Vlookups, and Macros)\\nExperience with Mode Analytics is good to have.\\nExperience with Dashboard and reporting tools\\nRoleDatabase Architect/Designer\\nIndustry TypeRecruitment / Staffing\\nFunctional AreaIT Software - Application Programming, Maintenance\\nEmployment TypeFull Time, Permanent\\nRole CategoryProgramming & Design\\nEducation\\nUG :Any Graduate\\nPG :Post Graduation Not Required\\nKey Skills\\nAutomationData analysisPostgresqlAnalyticalMySQLDBMSMacrosAnalyticsReporting toolsPython',\n",
       " 'Job description\\nRoles and Responsibilities\\nCandidate must have mandatory skills like SQL / Business Analysis / Data Analysis / Microsoft Office suite\\n\\nDesired Candidate Profile\\nCandidate should experience in Power BI / Dashboarding / Omniture\\n\\nInterested candidate can share their profile on suchitas@innovsource.com or call o 9136988503\\n\\n\\nRoleBusiness Analyst\\nIndustry TypeRecruitment / Staffing\\nFunctional AreaIT Software - Application Programming, Maintenance\\nEmployment TypeFull Time, Permanent\\nRole CategorySystem Design/Implementation/ERP/CRM\\nEducation\\nUG :Any Graduate\\nKey Skills\\nRPower BiData ManagementData AnalysisOmnitureData AnalyticsSQLBusiness AnalysisPython',\n",
       " \"Job description\\nRoles and Responsibilities\\n\\nA typical data analyst at JCP performs the following activities using the tools mentioned\\nData extraction: SQL and preferably Hive\\nData manipulation: SQL, R, and Python\\nData visualization: Tableau, MicroStrategy\\nData analysis: Statistics, Exploratory Descriptive Data analysis (EDA)\\nReport generation: Ad-hoc reports for various business use cases\\nInterfaces with business partners to understand objectives of analyses, works with senior and lead analysts to define tasks, performs analyses, and creates reports and/or dashboards\\n\\nDesired Candidate Profile\\n\\n• Bachelor's degree in Computer Science, Mathematics, or related quantitative technical field.\\n• Overall 3+ years of professional experience as a data analyst or quantitative business analyst.\\n• Minimum 2 years of experience extracting and analyzing data for business use cases using SQL, R, and Python.\\n• Strong data analysis knowledge including statistical concepts and descriptive analyses.\\n• Minimum 1-2 years of experience in data visualization tools like Tableau.\\n• Working knowledge of databases and data warehouses.\\n• Strong problem-solving skills with the ability to work independently with minimal supervision\\n• Good communication skills (written and verbal) English\\n• Demonstrated ability to work with business stakeholders as an analyst for business use cases.\\n\\n\\n\\n\\nRoleDatabase Architect/Designer\\nIndustry TypeIT Services & Consulting\\nFunctional AreaIT Software - Application Programming, Maintenance\\nEmployment TypeFull Time, Permanent\\nRole CategoryProgramming & Design\\nEducation\\nUG :Any Graduate\\nKey Skills\\nMicrostrategytableauRData AnalysisPython\"]"
      ]
     },
     "execution_count": 19,
     "metadata": {},
     "output_type": "execute_result"
    }
   ],
   "source": [
    "job_description\n"
   ]
  },
  {
   "cell_type": "code",
   "execution_count": 20,
   "metadata": {},
   "outputs": [
    {
     "data": {
      "text/html": [
       "<div>\n",
       "<style scoped>\n",
       "    .dataframe tbody tr th:only-of-type {\n",
       "        vertical-align: middle;\n",
       "    }\n",
       "\n",
       "    .dataframe tbody tr th {\n",
       "        vertical-align: top;\n",
       "    }\n",
       "\n",
       "    .dataframe thead th {\n",
       "        text-align: right;\n",
       "    }\n",
       "</style>\n",
       "<table border=\"1\" class=\"dataframe\">\n",
       "  <thead>\n",
       "    <tr style=\"text-align: right;\">\n",
       "      <th></th>\n",
       "      <th>Job titles</th>\n",
       "      <th>Company name</th>\n",
       "      <th>loaction</th>\n",
       "      <th>Job Description</th>\n",
       "    </tr>\n",
       "  </thead>\n",
       "  <tbody>\n",
       "    <tr>\n",
       "      <th>0</th>\n",
       "      <td>Data Scientist / Data Analyst -Business Analyst</td>\n",
       "      <td>Inflexion Analytix Private Limited</td>\n",
       "      <td>Hyderabad/Secunderabad, Chennai, Bangalore/Ben...</td>\n",
       "      <td>Job description\\nJob description\\n\\nJob Role: ...</td>\n",
       "    </tr>\n",
       "    <tr>\n",
       "      <th>1</th>\n",
       "      <td>Senior Data Analyst</td>\n",
       "      <td>Flipkart Internet Private Limited</td>\n",
       "      <td>Bangalore/Bengaluru</td>\n",
       "      <td>Job description\\nSkills Required :\\nExperience...</td>\n",
       "    </tr>\n",
       "    <tr>\n",
       "      <th>2</th>\n",
       "      <td>Data analysts</td>\n",
       "      <td>IBM India Pvt. Limited</td>\n",
       "      <td>Bangalore/Bengaluru</td>\n",
       "      <td>-</td>\n",
       "    </tr>\n",
       "    <tr>\n",
       "      <th>3</th>\n",
       "      <td>Data analysts</td>\n",
       "      <td>IBM India Pvt. Limited</td>\n",
       "      <td>Bengaluru/Bangalore</td>\n",
       "      <td>-</td>\n",
       "    </tr>\n",
       "    <tr>\n",
       "      <th>4</th>\n",
       "      <td>Data Analyst</td>\n",
       "      <td>Zilingo.com</td>\n",
       "      <td>Bangalore/Bengaluru</td>\n",
       "      <td>Job description\\nData analytics is at the cent...</td>\n",
       "    </tr>\n",
       "    <tr>\n",
       "      <th>5</th>\n",
       "      <td>Data Analyst (Data Stewards)//Immediate Joiner...</td>\n",
       "      <td>Tech Mahindra Ltd.</td>\n",
       "      <td>Bangalore/Bengaluru</td>\n",
       "      <td>-</td>\n",
       "    </tr>\n",
       "    <tr>\n",
       "      <th>6</th>\n",
       "      <td>Senior Data Analyst</td>\n",
       "      <td>Liventus, Inc.</td>\n",
       "      <td>Bangalore/Bengaluru(2nd Phase JP Nagar)</td>\n",
       "      <td>-</td>\n",
       "    </tr>\n",
       "    <tr>\n",
       "      <th>7</th>\n",
       "      <td>Data Analyst</td>\n",
       "      <td>Superior Group</td>\n",
       "      <td>Bangalore/Bengaluru</td>\n",
       "      <td>Job description\\n\\n  This position is responsi...</td>\n",
       "    </tr>\n",
       "    <tr>\n",
       "      <th>8</th>\n",
       "      <td>Consultant-Data Analyst -Bangalore</td>\n",
       "      <td>Innovsource Services Private Limited</td>\n",
       "      <td>Bangalore/Bengaluru</td>\n",
       "      <td>Job description\\nRoles and Responsibilities\\nC...</td>\n",
       "    </tr>\n",
       "    <tr>\n",
       "      <th>9</th>\n",
       "      <td>Urgent Opening For Data Analyst in Bangalore !!</td>\n",
       "      <td>Net Connect Pvt Ltd</td>\n",
       "      <td>Bangalore/Bengaluru</td>\n",
       "      <td>Job description\\nRoles and Responsibilities\\n\\...</td>\n",
       "    </tr>\n",
       "  </tbody>\n",
       "</table>\n",
       "</div>"
      ],
      "text/plain": [
       "                                          Job titles  \\\n",
       "0    Data Scientist / Data Analyst -Business Analyst   \n",
       "1                                Senior Data Analyst   \n",
       "2                                      Data analysts   \n",
       "3                                      Data analysts   \n",
       "4                                       Data Analyst   \n",
       "5  Data Analyst (Data Stewards)//Immediate Joiner...   \n",
       "6                                Senior Data Analyst   \n",
       "7                                       Data Analyst   \n",
       "8                 Consultant-Data Analyst -Bangalore   \n",
       "9    Urgent Opening For Data Analyst in Bangalore !!   \n",
       "\n",
       "                           Company name  \\\n",
       "0    Inflexion Analytix Private Limited   \n",
       "1     Flipkart Internet Private Limited   \n",
       "2                IBM India Pvt. Limited   \n",
       "3                IBM India Pvt. Limited   \n",
       "4                           Zilingo.com   \n",
       "5                    Tech Mahindra Ltd.   \n",
       "6                        Liventus, Inc.   \n",
       "7                        Superior Group   \n",
       "8  Innovsource Services Private Limited   \n",
       "9                   Net Connect Pvt Ltd   \n",
       "\n",
       "                                            loaction  \\\n",
       "0  Hyderabad/Secunderabad, Chennai, Bangalore/Ben...   \n",
       "1                                Bangalore/Bengaluru   \n",
       "2                                Bangalore/Bengaluru   \n",
       "3                                Bengaluru/Bangalore   \n",
       "4                                Bangalore/Bengaluru   \n",
       "5                                Bangalore/Bengaluru   \n",
       "6            Bangalore/Bengaluru(2nd Phase JP Nagar)   \n",
       "7                                Bangalore/Bengaluru   \n",
       "8                                Bangalore/Bengaluru   \n",
       "9                                Bangalore/Bengaluru   \n",
       "\n",
       "                                     Job Description  \n",
       "0  Job description\\nJob description\\n\\nJob Role: ...  \n",
       "1  Job description\\nSkills Required :\\nExperience...  \n",
       "2                                                  -  \n",
       "3                                                  -  \n",
       "4  Job description\\nData analytics is at the cent...  \n",
       "5                                                  -  \n",
       "6                                                  -  \n",
       "7  Job description\\n\\n  This position is responsi...  \n",
       "8  Job description\\nRoles and Responsibilities\\nC...  \n",
       "9  Job description\\nRoles and Responsibilities\\n\\...  "
      ]
     },
     "execution_count": 20,
     "metadata": {},
     "output_type": "execute_result"
    }
   ],
   "source": [
    "import pandas as pd\n",
    "naukri_Details=pd.DataFrame({})\n",
    "naukri_Details['Job titles']=job_titles[:10]\n",
    "naukri_Details['Company name']=company_name[:10]\n",
    "naukri_Details['loaction']=location[:10]\n",
    "naukri_Details['Job Description']=job_description\n",
    "naukri_Details"
   ]
  },
  {
   "cell_type": "markdown",
   "metadata": {},
   "source": [
    "###  Q3 scrape data for job_title,job_location and salary filter,company name,experience"
   ]
  },
  {
   "cell_type": "code",
   "execution_count": 21,
   "metadata": {},
   "outputs": [
    {
     "name": "stdout",
     "output_type": "stream",
     "text": [
      "Requirement already satisfied: selenium in c:\\jpytr notebook\\lib\\site-packages (3.141.0)\n",
      "Requirement already satisfied: urllib3 in c:\\jpytr notebook\\lib\\site-packages (from selenium) (1.25.11)\n"
     ]
    }
   ],
   "source": [
    "#install selenium\n",
    "!pip install selenium"
   ]
  },
  {
   "cell_type": "code",
   "execution_count": 22,
   "metadata": {},
   "outputs": [],
   "source": [
    "#Import other libraries\n",
    "import selenium\n",
    "import pandas as pd\n",
    "from selenium import webdriver"
   ]
  },
  {
   "cell_type": "code",
   "execution_count": 23,
   "metadata": {},
   "outputs": [],
   "source": [
    "#install chrome drivers\n",
    "driver=webdriver.Chrome(\"chromedriver.exe\")"
   ]
  },
  {
   "cell_type": "code",
   "execution_count": 24,
   "metadata": {},
   "outputs": [],
   "source": [
    "url='http://www.naukri.com/'\n",
    "driver.get(url)"
   ]
  },
  {
   "cell_type": "code",
   "execution_count": 25,
   "metadata": {},
   "outputs": [
    {
     "data": {
      "text/plain": [
       "<selenium.webdriver.remote.webelement.WebElement (session=\"04eed55f855914a4cf9ef44afcccb2ff\", element=\"e0a5197f-1be1-4ed3-bace-56690b0601f4\")>"
      ]
     },
     "execution_count": 25,
     "metadata": {},
     "output_type": "execute_result"
    }
   ],
   "source": [
    "search_job=driver.find_element_by_id('qsb-keyword-sugg')\n",
    "search_job"
   ]
  },
  {
   "cell_type": "code",
   "execution_count": 26,
   "metadata": {},
   "outputs": [],
   "source": [
    "search_job.send_keys(\"Data Analyst\")"
   ]
  },
  {
   "cell_type": "code",
   "execution_count": 27,
   "metadata": {},
   "outputs": [],
   "source": [
    "search_loc=driver.find_element_by_id(\"qsb-location-sugg\")\n",
    "search_loc.click()"
   ]
  },
  {
   "cell_type": "code",
   "execution_count": 28,
   "metadata": {},
   "outputs": [],
   "source": [
    "search_btn=driver.find_element_by_xpath(\"//button[@class='btn']\")\n",
    "search_btn.click()"
   ]
  },
  {
   "cell_type": "code",
   "execution_count": 33,
   "metadata": {},
   "outputs": [],
   "source": [
    "filter_delhi=driver.find_element_by_xpath(\"//*[text()='Delhi / NCR']\")\n",
    "filter_delhi.click()"
   ]
  },
  {
   "cell_type": "code",
   "execution_count": 34,
   "metadata": {},
   "outputs": [],
   "source": [
    "\n",
    "filter_salary=driver.find_element_by_xpath(\"//*[text()='3-6 Lakhs']\")\n",
    "filter_salary.click()"
   ]
  },
  {
   "cell_type": "code",
   "execution_count": 35,
   "metadata": {},
   "outputs": [
    {
     "data": {
      "text/plain": [
       "[<selenium.webdriver.remote.webelement.WebElement (session=\"04eed55f855914a4cf9ef44afcccb2ff\", element=\"41366a77-5ac9-45af-8fab-6cd5cfb2c17e\")>,\n",
       " <selenium.webdriver.remote.webelement.WebElement (session=\"04eed55f855914a4cf9ef44afcccb2ff\", element=\"497938a9-6462-4ce9-bb31-1a20831c5ef4\")>,\n",
       " <selenium.webdriver.remote.webelement.WebElement (session=\"04eed55f855914a4cf9ef44afcccb2ff\", element=\"be9dca86-9ade-4749-bc74-5d2f8675c3a5\")>,\n",
       " <selenium.webdriver.remote.webelement.WebElement (session=\"04eed55f855914a4cf9ef44afcccb2ff\", element=\"7eb9c811-1d93-48e4-bbbf-51eedacd7ed7\")>,\n",
       " <selenium.webdriver.remote.webelement.WebElement (session=\"04eed55f855914a4cf9ef44afcccb2ff\", element=\"06da75ba-f7f7-4d4d-9abf-91dac3d80889\")>,\n",
       " <selenium.webdriver.remote.webelement.WebElement (session=\"04eed55f855914a4cf9ef44afcccb2ff\", element=\"2f136dc8-fe45-4ccd-905e-bde228ebc384\")>,\n",
       " <selenium.webdriver.remote.webelement.WebElement (session=\"04eed55f855914a4cf9ef44afcccb2ff\", element=\"983e79fc-26f7-4acc-86da-ddf2e253c4d1\")>,\n",
       " <selenium.webdriver.remote.webelement.WebElement (session=\"04eed55f855914a4cf9ef44afcccb2ff\", element=\"669a9f63-1058-416a-bcdc-d9dbdd1bda7f\")>,\n",
       " <selenium.webdriver.remote.webelement.WebElement (session=\"04eed55f855914a4cf9ef44afcccb2ff\", element=\"e3410237-6498-47e2-88a1-1476baaf70bd\")>,\n",
       " <selenium.webdriver.remote.webelement.WebElement (session=\"04eed55f855914a4cf9ef44afcccb2ff\", element=\"be944a63-bc52-4136-9735-ed34d61379bc\")>,\n",
       " <selenium.webdriver.remote.webelement.WebElement (session=\"04eed55f855914a4cf9ef44afcccb2ff\", element=\"93160b03-d341-4001-a35e-63846ff92e62\")>,\n",
       " <selenium.webdriver.remote.webelement.WebElement (session=\"04eed55f855914a4cf9ef44afcccb2ff\", element=\"1b8c61d8-b890-4eb0-b79e-e71065cf379e\")>,\n",
       " <selenium.webdriver.remote.webelement.WebElement (session=\"04eed55f855914a4cf9ef44afcccb2ff\", element=\"f126100f-02f2-4fce-8223-e48a65a26429\")>,\n",
       " <selenium.webdriver.remote.webelement.WebElement (session=\"04eed55f855914a4cf9ef44afcccb2ff\", element=\"84433d83-c418-4f46-a011-c8ae05a9aed3\")>,\n",
       " <selenium.webdriver.remote.webelement.WebElement (session=\"04eed55f855914a4cf9ef44afcccb2ff\", element=\"c191aaf0-549b-453d-b82f-b7e721786ae8\")>,\n",
       " <selenium.webdriver.remote.webelement.WebElement (session=\"04eed55f855914a4cf9ef44afcccb2ff\", element=\"f26590f0-9644-4efe-9f82-c2b59c93baa8\")>,\n",
       " <selenium.webdriver.remote.webelement.WebElement (session=\"04eed55f855914a4cf9ef44afcccb2ff\", element=\"2806c7d7-e5c7-4632-9aee-27a07d794791\")>,\n",
       " <selenium.webdriver.remote.webelement.WebElement (session=\"04eed55f855914a4cf9ef44afcccb2ff\", element=\"d2a7cb42-c4d0-4f76-a9fe-4366bd072b2f\")>,\n",
       " <selenium.webdriver.remote.webelement.WebElement (session=\"04eed55f855914a4cf9ef44afcccb2ff\", element=\"f3167080-ec8d-49dc-b5a2-2f8950b1a6d2\")>,\n",
       " <selenium.webdriver.remote.webelement.WebElement (session=\"04eed55f855914a4cf9ef44afcccb2ff\", element=\"9b95bfdb-c0da-402e-948d-8e42bb4eb211\")>]"
      ]
     },
     "execution_count": 35,
     "metadata": {},
     "output_type": "execute_result"
    }
   ],
   "source": [
    "#lets extract all the tags of JOb_titles\n",
    "titles=driver.find_elements_by_xpath(\"//a[@class='title fw500 ellipsis']\")\n",
    "titles"
   ]
  },
  {
   "cell_type": "code",
   "execution_count": 36,
   "metadata": {},
   "outputs": [
    {
     "data": {
      "text/plain": [
       "['Data Scientist/Data Analyst /Business Analyst',\n",
       " 'Data Analyst / Business Analytics / MIS Executive - Fresher Jobs- MNC',\n",
       " 'Data Analyst',\n",
       " 'Data Analyst',\n",
       " 'Data Analyst',\n",
       " 'Data Analyst - Mechanical',\n",
       " 'Business Analytics / Data Analyst / Fresher Analyst - Job - MNC',\n",
       " 'Senior Data Analyst',\n",
       " 'Senior Associate - Data Analyst',\n",
       " 'Data Analyst',\n",
       " 'Data Analyst (Qualified CA)',\n",
       " 'Only Fresher / Data Scientist / Data Analyst / Analytics - MNC OSC',\n",
       " 'Data Analyst',\n",
       " 'Data Analyst (Report Developer) (Delhi/NCR Only)',\n",
       " 'Fresher- Data Analyst',\n",
       " 'Data Analyst',\n",
       " 'Data Analyst',\n",
       " 'Data Analyst - Senior Data Analyst',\n",
       " 'Data Analyst - Python, HIVE',\n",
       " 'Data Analyst - BI']"
      ]
     },
     "execution_count": 36,
     "metadata": {},
     "output_type": "execute_result"
    }
   ],
   "source": [
    "job_titles=[]\n",
    "for i in titles:\n",
    "    job_titles.append(i.text)\n",
    "job_titles"
   ]
  },
  {
   "cell_type": "code",
   "execution_count": 37,
   "metadata": {},
   "outputs": [
    {
     "data": {
      "text/plain": [
       "[<selenium.webdriver.remote.webelement.WebElement (session=\"04eed55f855914a4cf9ef44afcccb2ff\", element=\"294b0d1d-7310-45c1-8e42-a342649343ea\")>,\n",
       " <selenium.webdriver.remote.webelement.WebElement (session=\"04eed55f855914a4cf9ef44afcccb2ff\", element=\"b199290d-7b79-491c-9abe-27ddc861d378\")>,\n",
       " <selenium.webdriver.remote.webelement.WebElement (session=\"04eed55f855914a4cf9ef44afcccb2ff\", element=\"0740f50c-7037-4ef5-a336-9747021fd37d\")>,\n",
       " <selenium.webdriver.remote.webelement.WebElement (session=\"04eed55f855914a4cf9ef44afcccb2ff\", element=\"1def474a-cb80-4bd3-8367-e31be9fa9fe3\")>,\n",
       " <selenium.webdriver.remote.webelement.WebElement (session=\"04eed55f855914a4cf9ef44afcccb2ff\", element=\"e6e6ebc9-3ae6-4179-bd6b-ebc43d465a33\")>,\n",
       " <selenium.webdriver.remote.webelement.WebElement (session=\"04eed55f855914a4cf9ef44afcccb2ff\", element=\"c04d2c01-d516-4672-93be-de2c3da76b10\")>,\n",
       " <selenium.webdriver.remote.webelement.WebElement (session=\"04eed55f855914a4cf9ef44afcccb2ff\", element=\"e6811374-e895-4349-abb8-4c1eb38ddcda\")>,\n",
       " <selenium.webdriver.remote.webelement.WebElement (session=\"04eed55f855914a4cf9ef44afcccb2ff\", element=\"211fbfcb-0dfc-40e0-8415-8ee98448cfc3\")>,\n",
       " <selenium.webdriver.remote.webelement.WebElement (session=\"04eed55f855914a4cf9ef44afcccb2ff\", element=\"04f7084c-94e6-43d0-a076-418e3695eff9\")>,\n",
       " <selenium.webdriver.remote.webelement.WebElement (session=\"04eed55f855914a4cf9ef44afcccb2ff\", element=\"49925c18-e93c-43b0-89ec-589cd842bee4\")>,\n",
       " <selenium.webdriver.remote.webelement.WebElement (session=\"04eed55f855914a4cf9ef44afcccb2ff\", element=\"d8e96c29-9d31-401b-b7a7-7cf7faca63c7\")>,\n",
       " <selenium.webdriver.remote.webelement.WebElement (session=\"04eed55f855914a4cf9ef44afcccb2ff\", element=\"24a6ee33-409f-4483-847e-d135d9a6f190\")>,\n",
       " <selenium.webdriver.remote.webelement.WebElement (session=\"04eed55f855914a4cf9ef44afcccb2ff\", element=\"a395e008-fd7c-4fde-a6f1-acba4ffc7403\")>,\n",
       " <selenium.webdriver.remote.webelement.WebElement (session=\"04eed55f855914a4cf9ef44afcccb2ff\", element=\"9b086d12-a58a-4cd2-be4f-2f0210818486\")>,\n",
       " <selenium.webdriver.remote.webelement.WebElement (session=\"04eed55f855914a4cf9ef44afcccb2ff\", element=\"d39abc9a-5aab-4902-a5ab-189db4a1b2ab\")>,\n",
       " <selenium.webdriver.remote.webelement.WebElement (session=\"04eed55f855914a4cf9ef44afcccb2ff\", element=\"533f0b6c-9f1d-43b5-a2d4-710c314870c2\")>,\n",
       " <selenium.webdriver.remote.webelement.WebElement (session=\"04eed55f855914a4cf9ef44afcccb2ff\", element=\"dd176401-a3af-40fa-a271-1b77b7bd52c5\")>,\n",
       " <selenium.webdriver.remote.webelement.WebElement (session=\"04eed55f855914a4cf9ef44afcccb2ff\", element=\"840da0f4-c2e2-4d3d-82ab-1a2783d04328\")>,\n",
       " <selenium.webdriver.remote.webelement.WebElement (session=\"04eed55f855914a4cf9ef44afcccb2ff\", element=\"99abee55-6466-4ffb-a4a7-c1a329944a57\")>,\n",
       " <selenium.webdriver.remote.webelement.WebElement (session=\"04eed55f855914a4cf9ef44afcccb2ff\", element=\"84139f66-fa5f-441a-a11a-7a9b535cdc29\")>]"
      ]
     },
     "execution_count": 37,
     "metadata": {},
     "output_type": "execute_result"
    }
   ],
   "source": [
    "companyname=driver.find_elements_by_xpath(\"//a[@class='subTitle ellipsis fleft']\")\n",
    "companyname"
   ]
  },
  {
   "cell_type": "code",
   "execution_count": 38,
   "metadata": {},
   "outputs": [
    {
     "data": {
      "text/plain": [
       "['Inflexion Analytix Private Limited',\n",
       " 'GABA Consultancy services',\n",
       " 'COLLABERA',\n",
       " 'AG Technologies pvt Ltd',\n",
       " 'AG Technologies pvt Ltd',\n",
       " 'H.G. Infra Engineering Limited',\n",
       " 'GABA Consultancy services',\n",
       " 'UrbanClap',\n",
       " 'Publicis Groupe',\n",
       " 'Omnicom Media Group India Private Limited',\n",
       " 'Elite Wealth Ltd',\n",
       " 'GABA Consultancy services',\n",
       " 'Stanza Living',\n",
       " 'Shriv ComMedia Solutions Pvt. Ltd.',\n",
       " 'Varite',\n",
       " 'Investors Clinic Infratech Pvt ltd',\n",
       " 'Investors Clinic Infratech Pvt ltd',\n",
       " 'Jakob and Partners India Pvt. Ltd.',\n",
       " 'Optum Global Solutions (India) Private Limited',\n",
       " 'AlgoScale Technologies Private Limited']"
      ]
     },
     "execution_count": 38,
     "metadata": {},
     "output_type": "execute_result"
    }
   ],
   "source": [
    "company_name=[]\n",
    "for i in companyname:\n",
    "    company_name.append(i.text)\n",
    "company_name"
   ]
  },
  {
   "cell_type": "code",
   "execution_count": 39,
   "metadata": {},
   "outputs": [
    {
     "data": {
      "text/plain": [
       "[<selenium.webdriver.remote.webelement.WebElement (session=\"04eed55f855914a4cf9ef44afcccb2ff\", element=\"4db1b6e6-f073-4d1c-bda6-5dad8f3f7546\")>,\n",
       " <selenium.webdriver.remote.webelement.WebElement (session=\"04eed55f855914a4cf9ef44afcccb2ff\", element=\"e397bc5c-1087-40c8-8c2c-0480b1cf779d\")>,\n",
       " <selenium.webdriver.remote.webelement.WebElement (session=\"04eed55f855914a4cf9ef44afcccb2ff\", element=\"012d31a8-76e4-45b0-9b34-c8186f420a70\")>,\n",
       " <selenium.webdriver.remote.webelement.WebElement (session=\"04eed55f855914a4cf9ef44afcccb2ff\", element=\"8bb07bf3-552e-4f4a-a0e4-06d3aee5c8f8\")>,\n",
       " <selenium.webdriver.remote.webelement.WebElement (session=\"04eed55f855914a4cf9ef44afcccb2ff\", element=\"cadb0e30-ee68-46f7-8fb0-eb02bc9d99c3\")>,\n",
       " <selenium.webdriver.remote.webelement.WebElement (session=\"04eed55f855914a4cf9ef44afcccb2ff\", element=\"e223f87b-7bcf-4675-a63f-01662a4a6d0a\")>,\n",
       " <selenium.webdriver.remote.webelement.WebElement (session=\"04eed55f855914a4cf9ef44afcccb2ff\", element=\"8a3dae34-bf44-4f58-af25-a280435758b8\")>,\n",
       " <selenium.webdriver.remote.webelement.WebElement (session=\"04eed55f855914a4cf9ef44afcccb2ff\", element=\"9989347c-918e-42a5-bdbf-6459dac522ce\")>,\n",
       " <selenium.webdriver.remote.webelement.WebElement (session=\"04eed55f855914a4cf9ef44afcccb2ff\", element=\"332d247d-69a1-45a1-9474-f63c44c21c49\")>,\n",
       " <selenium.webdriver.remote.webelement.WebElement (session=\"04eed55f855914a4cf9ef44afcccb2ff\", element=\"5fc6f492-befd-4c1d-b3f8-0701d1afcd5a\")>,\n",
       " <selenium.webdriver.remote.webelement.WebElement (session=\"04eed55f855914a4cf9ef44afcccb2ff\", element=\"7a593664-0cc7-4def-956b-3818c12452bb\")>,\n",
       " <selenium.webdriver.remote.webelement.WebElement (session=\"04eed55f855914a4cf9ef44afcccb2ff\", element=\"2d983fea-b48b-411f-96b2-196589517bf2\")>,\n",
       " <selenium.webdriver.remote.webelement.WebElement (session=\"04eed55f855914a4cf9ef44afcccb2ff\", element=\"2885b80f-9272-4012-9a3b-a9e76b2cb5e0\")>,\n",
       " <selenium.webdriver.remote.webelement.WebElement (session=\"04eed55f855914a4cf9ef44afcccb2ff\", element=\"102c2b81-3fbb-471c-93a6-9e8337314c2d\")>,\n",
       " <selenium.webdriver.remote.webelement.WebElement (session=\"04eed55f855914a4cf9ef44afcccb2ff\", element=\"daceb8f8-05d5-4c19-8ab9-d4bb11a84545\")>,\n",
       " <selenium.webdriver.remote.webelement.WebElement (session=\"04eed55f855914a4cf9ef44afcccb2ff\", element=\"c3a114bd-2a5f-46e4-993f-df240430b672\")>,\n",
       " <selenium.webdriver.remote.webelement.WebElement (session=\"04eed55f855914a4cf9ef44afcccb2ff\", element=\"4d3f4c2a-08c1-42b7-adb0-435abfb290f4\")>,\n",
       " <selenium.webdriver.remote.webelement.WebElement (session=\"04eed55f855914a4cf9ef44afcccb2ff\", element=\"71e98a70-ed2f-4497-9d25-9734f7e96e87\")>,\n",
       " <selenium.webdriver.remote.webelement.WebElement (session=\"04eed55f855914a4cf9ef44afcccb2ff\", element=\"a3818728-ec44-42c9-a834-5920c4070aec\")>,\n",
       " <selenium.webdriver.remote.webelement.WebElement (session=\"04eed55f855914a4cf9ef44afcccb2ff\", element=\"4c78422f-f436-4563-89c1-1ae0b1473c2e\")>,\n",
       " <selenium.webdriver.remote.webelement.WebElement (session=\"04eed55f855914a4cf9ef44afcccb2ff\", element=\"266b2f55-81b0-4d4d-a8bd-cc24142bc613\")>,\n",
       " <selenium.webdriver.remote.webelement.WebElement (session=\"04eed55f855914a4cf9ef44afcccb2ff\", element=\"3e06113e-db6a-49af-bf07-d02ae933bf73\")>,\n",
       " <selenium.webdriver.remote.webelement.WebElement (session=\"04eed55f855914a4cf9ef44afcccb2ff\", element=\"2a112cfb-d443-4082-ad57-75e9c7a11893\")>,\n",
       " <selenium.webdriver.remote.webelement.WebElement (session=\"04eed55f855914a4cf9ef44afcccb2ff\", element=\"c9a849ea-1220-4612-9bdc-1dff9b94ba36\")>,\n",
       " <selenium.webdriver.remote.webelement.WebElement (session=\"04eed55f855914a4cf9ef44afcccb2ff\", element=\"adcb6495-edb3-44a2-b90e-be90b8b8f1aa\")>,\n",
       " <selenium.webdriver.remote.webelement.WebElement (session=\"04eed55f855914a4cf9ef44afcccb2ff\", element=\"06dfed85-8a85-4895-831c-688d6ad175ff\")>,\n",
       " <selenium.webdriver.remote.webelement.WebElement (session=\"04eed55f855914a4cf9ef44afcccb2ff\", element=\"409db4ef-ba31-4f75-9e4f-8692a62dc873\")>,\n",
       " <selenium.webdriver.remote.webelement.WebElement (session=\"04eed55f855914a4cf9ef44afcccb2ff\", element=\"e70ad898-7c13-41cf-ad81-484084693a5c\")>,\n",
       " <selenium.webdriver.remote.webelement.WebElement (session=\"04eed55f855914a4cf9ef44afcccb2ff\", element=\"df4d920c-6112-443d-841f-c93a044567c4\")>,\n",
       " <selenium.webdriver.remote.webelement.WebElement (session=\"04eed55f855914a4cf9ef44afcccb2ff\", element=\"fb1b0ea6-15f6-48f6-b369-92c886b5c8c3\")>,\n",
       " <selenium.webdriver.remote.webelement.WebElement (session=\"04eed55f855914a4cf9ef44afcccb2ff\", element=\"1910008e-3462-4457-b13a-c54c1379dd53\")>,\n",
       " <selenium.webdriver.remote.webelement.WebElement (session=\"04eed55f855914a4cf9ef44afcccb2ff\", element=\"480d9b4b-ee48-4d2a-ba1f-8be5719235a4\")>,\n",
       " <selenium.webdriver.remote.webelement.WebElement (session=\"04eed55f855914a4cf9ef44afcccb2ff\", element=\"046e925c-f6c0-420a-b6c7-20e3995289b1\")>,\n",
       " <selenium.webdriver.remote.webelement.WebElement (session=\"04eed55f855914a4cf9ef44afcccb2ff\", element=\"16fb85bf-9bbf-4077-b082-4afd747891c4\")>,\n",
       " <selenium.webdriver.remote.webelement.WebElement (session=\"04eed55f855914a4cf9ef44afcccb2ff\", element=\"3a2593e6-6910-4e4e-88d6-8e517ac463f4\")>,\n",
       " <selenium.webdriver.remote.webelement.WebElement (session=\"04eed55f855914a4cf9ef44afcccb2ff\", element=\"a161352d-a6db-45bb-b974-6a826d2a2195\")>,\n",
       " <selenium.webdriver.remote.webelement.WebElement (session=\"04eed55f855914a4cf9ef44afcccb2ff\", element=\"8b2d0cd2-2a65-4941-8c59-ae0ce2ede534\")>,\n",
       " <selenium.webdriver.remote.webelement.WebElement (session=\"04eed55f855914a4cf9ef44afcccb2ff\", element=\"f70ed84c-2a83-47f3-8474-8cb82942eed2\")>,\n",
       " <selenium.webdriver.remote.webelement.WebElement (session=\"04eed55f855914a4cf9ef44afcccb2ff\", element=\"c8a74354-2efb-4bf3-bbec-44f72e00af38\")>,\n",
       " <selenium.webdriver.remote.webelement.WebElement (session=\"04eed55f855914a4cf9ef44afcccb2ff\", element=\"0edee472-5637-4cbd-8b57-26c23583fc72\")>,\n",
       " <selenium.webdriver.remote.webelement.WebElement (session=\"04eed55f855914a4cf9ef44afcccb2ff\", element=\"c8465c0c-53a8-447e-990e-b2734e95a24d\")>,\n",
       " <selenium.webdriver.remote.webelement.WebElement (session=\"04eed55f855914a4cf9ef44afcccb2ff\", element=\"a7b6050e-b5a2-408f-8924-75789646e3bc\")>,\n",
       " <selenium.webdriver.remote.webelement.WebElement (session=\"04eed55f855914a4cf9ef44afcccb2ff\", element=\"9f3deca2-bb46-4b02-aa2f-6116790adbf1\")>,\n",
       " <selenium.webdriver.remote.webelement.WebElement (session=\"04eed55f855914a4cf9ef44afcccb2ff\", element=\"b37642da-5b3a-45cb-9813-b78c8a2b43b2\")>,\n",
       " <selenium.webdriver.remote.webelement.WebElement (session=\"04eed55f855914a4cf9ef44afcccb2ff\", element=\"e098d41e-2bd6-4ce7-9019-0f4cfb8f4e35\")>,\n",
       " <selenium.webdriver.remote.webelement.WebElement (session=\"04eed55f855914a4cf9ef44afcccb2ff\", element=\"c90daa7b-b507-4fe6-962d-23b0cdd500c2\")>,\n",
       " <selenium.webdriver.remote.webelement.WebElement (session=\"04eed55f855914a4cf9ef44afcccb2ff\", element=\"edf80953-349a-4f32-86e1-2ea1adc2ce6c\")>,\n",
       " <selenium.webdriver.remote.webelement.WebElement (session=\"04eed55f855914a4cf9ef44afcccb2ff\", element=\"b49ea292-8529-4979-bc57-ed5dd2b583da\")>,\n",
       " <selenium.webdriver.remote.webelement.WebElement (session=\"04eed55f855914a4cf9ef44afcccb2ff\", element=\"32d90b11-b384-437b-ae73-16c495d5cc8c\")>,\n",
       " <selenium.webdriver.remote.webelement.WebElement (session=\"04eed55f855914a4cf9ef44afcccb2ff\", element=\"14a9ab9d-8667-40a2-b1a9-94dde1575e5a\")>,\n",
       " <selenium.webdriver.remote.webelement.WebElement (session=\"04eed55f855914a4cf9ef44afcccb2ff\", element=\"8338fa78-eb9c-4d0f-acaa-2fb5c87f2cea\")>,\n",
       " <selenium.webdriver.remote.webelement.WebElement (session=\"04eed55f855914a4cf9ef44afcccb2ff\", element=\"154e06ee-20c3-4dc2-ac50-c46785d13cce\")>,\n",
       " <selenium.webdriver.remote.webelement.WebElement (session=\"04eed55f855914a4cf9ef44afcccb2ff\", element=\"4c599748-1e6a-42cc-9f3c-abad36799c22\")>,\n",
       " <selenium.webdriver.remote.webelement.WebElement (session=\"04eed55f855914a4cf9ef44afcccb2ff\", element=\"4314f776-6a28-4ca3-a8da-258b09b8a330\")>,\n",
       " <selenium.webdriver.remote.webelement.WebElement (session=\"04eed55f855914a4cf9ef44afcccb2ff\", element=\"5369a014-d352-432d-a217-3cf7a13ed878\")>,\n",
       " <selenium.webdriver.remote.webelement.WebElement (session=\"04eed55f855914a4cf9ef44afcccb2ff\", element=\"7562d358-e6d8-4d35-8527-a00e3f339adf\")>,\n",
       " <selenium.webdriver.remote.webelement.WebElement (session=\"04eed55f855914a4cf9ef44afcccb2ff\", element=\"2a9cfe54-336c-46d5-be4e-579e86b313bc\")>,\n",
       " <selenium.webdriver.remote.webelement.WebElement (session=\"04eed55f855914a4cf9ef44afcccb2ff\", element=\"b0481ca8-f87a-448e-b452-d48d4015c913\")>,\n",
       " <selenium.webdriver.remote.webelement.WebElement (session=\"04eed55f855914a4cf9ef44afcccb2ff\", element=\"3e32007e-4e1f-4cdd-b3fc-c9feef98b33c\")>,\n",
       " <selenium.webdriver.remote.webelement.WebElement (session=\"04eed55f855914a4cf9ef44afcccb2ff\", element=\"547b32e6-b369-4acd-bc0e-d57fe41eeab9\")>]"
      ]
     },
     "execution_count": 39,
     "metadata": {},
     "output_type": "execute_result"
    }
   ],
   "source": [
    "location=driver.find_elements_by_xpath(\"//span[@class='ellipsis fleft fs12 lh16']\")\n",
    "location"
   ]
  },
  {
   "cell_type": "code",
   "execution_count": 40,
   "metadata": {},
   "outputs": [
    {
     "data": {
      "text/plain": [
       "['0-3 Yrs',\n",
       " '3,50,000 - 4,50,000 PA.',\n",
       " 'Pune, Delhi / NCR, Mumbai (All Areas)',\n",
       " '0-5 Yrs',\n",
       " '2,25,000 - 4,50,000 PA.',\n",
       " 'Noida, Greater Noida, Delhi / NCR',\n",
       " '1-3 Yrs',\n",
       " 'Not disclosed',\n",
       " 'New Delhi, Pune, Gurgaon/Gurugram, Delhi / NCR',\n",
       " '0-2 Yrs',\n",
       " '2,00,000 - 4,00,000 PA.',\n",
       " 'Noida, Kolkata, Hyderabad/Secunderabad, Pune, Ahmedabad, Chennai, Bangalore/Bengaluru, Delhi / NCR, Mumbai (All Areas)',\n",
       " '0-2 Yrs',\n",
       " '2,00,000 - 4,00,000 PA.',\n",
       " 'Noida, Kolkata, Hyderabad/Secunderabad, Pune, Ahmedabad, Chennai, Bangalore/Bengaluru, Delhi / NCR, Mumbai (All Areas)',\n",
       " '3-7 Yrs',\n",
       " '2,50,000 - 4,25,000 PA.',\n",
       " 'Gurgaon/Gurugram, Jaipur, Delhi / NCR',\n",
       " '0-5 Yrs',\n",
       " '2,25,000 - 4,50,000 PA.',\n",
       " 'Noida, Gurgaon/Gurugram, Delhi / NCR',\n",
       " '2-4 Yrs',\n",
       " 'Not disclosed',\n",
       " 'Gurgaon/Gurugram',\n",
       " '1-3 Yrs',\n",
       " 'Not disclosed',\n",
       " 'Gurgaon/Gurugram',\n",
       " '3-5 Yrs',\n",
       " 'Not disclosed',\n",
       " 'Hyderabad/Secunderabad, Pune, Gurgaon/Gurugram, Chennai, Bangalore/Bengaluru',\n",
       " '0-1 Yrs',\n",
       " '3,75,000 - 4,50,000 PA.',\n",
       " 'New Delhi',\n",
       " '0-0 Yrs',\n",
       " '2,25,000 - 4,75,000 PA.',\n",
       " 'Noida, Gurgaon/Gurugram, Delhi / NCR',\n",
       " '2-5 Yrs',\n",
       " 'Not disclosed',\n",
       " 'Delhi / NCR',\n",
       " '1-6 Yrs',\n",
       " '2,00,000 - 4,50,000 PA.',\n",
       " 'Delhi / NCR(Sector-63 Noida)',\n",
       " '3-5 Yrs',\n",
       " 'Not disclosed',\n",
       " 'Noida',\n",
       " '2-5 Yrs',\n",
       " '2,50,000 - 3,25,000 PA.',\n",
       " 'Noida(Sector-126 Noida)',\n",
       " '2-5 Yrs',\n",
       " '2,50,000 - 3,25,000 PA.',\n",
       " 'Noida(Sector-126 Noida)',\n",
       " '1-3 Yrs',\n",
       " 'Not disclosed',\n",
       " 'Gurgaon/Gurugram',\n",
       " '1-4 Yrs',\n",
       " 'Not disclosed',\n",
       " 'Noida',\n",
       " '2-5 Yrs',\n",
       " '3,00,000 - 5,00,000 PA.',\n",
       " 'Noida, Gurgaon/Gurugram, Delhi / NCR']"
      ]
     },
     "execution_count": 40,
     "metadata": {},
     "output_type": "execute_result"
    }
   ],
   "source": [
    "location_=[]\n",
    "for i in location:\n",
    "    location_.append(i.text)\n",
    "location_"
   ]
  },
  {
   "cell_type": "code",
   "execution_count": 41,
   "metadata": {},
   "outputs": [
    {
     "data": {
      "text/plain": [
       "['Pune, Delhi / NCR, Mumbai (All Areas)',\n",
       " 'Noida, Greater Noida, Delhi / NCR',\n",
       " 'New Delhi, Pune, Gurgaon/Gurugram, Delhi / NCR',\n",
       " 'Noida, Kolkata, Hyderabad/Secunderabad, Pune, Ahmedabad, Chennai, Bangalore/Bengaluru, Delhi / NCR, Mumbai (All Areas)',\n",
       " 'Noida, Kolkata, Hyderabad/Secunderabad, Pune, Ahmedabad, Chennai, Bangalore/Bengaluru, Delhi / NCR, Mumbai (All Areas)',\n",
       " 'Gurgaon/Gurugram, Jaipur, Delhi / NCR',\n",
       " 'Noida, Gurgaon/Gurugram, Delhi / NCR',\n",
       " 'Gurgaon/Gurugram',\n",
       " 'Gurgaon/Gurugram',\n",
       " 'Hyderabad/Secunderabad, Pune, Gurgaon/Gurugram, Chennai, Bangalore/Bengaluru',\n",
       " 'New Delhi',\n",
       " 'Noida, Gurgaon/Gurugram, Delhi / NCR',\n",
       " 'Delhi / NCR',\n",
       " 'Delhi / NCR(Sector-63 Noida)',\n",
       " 'Noida',\n",
       " 'Noida(Sector-126 Noida)',\n",
       " 'Noida(Sector-126 Noida)',\n",
       " 'Gurgaon/Gurugram',\n",
       " 'Noida',\n",
       " 'Noida, Gurgaon/Gurugram, Delhi / NCR']"
      ]
     },
     "execution_count": 41,
     "metadata": {},
     "output_type": "execute_result"
    }
   ],
   "source": [
    "location_name=[]\n",
    "for i in range(2,len(location_),3):\n",
    "    location_name.append(location_[i])\n",
    "location_name"
   ]
  },
  {
   "cell_type": "code",
   "execution_count": 42,
   "metadata": {},
   "outputs": [
    {
     "data": {
      "text/plain": [
       "['0-3 Yrs',\n",
       " '0-5 Yrs',\n",
       " '1-3 Yrs',\n",
       " '0-2 Yrs',\n",
       " '0-2 Yrs',\n",
       " '3-7 Yrs',\n",
       " '0-5 Yrs',\n",
       " '2-4 Yrs',\n",
       " '1-3 Yrs',\n",
       " '3-5 Yrs',\n",
       " '0-1 Yrs',\n",
       " '0-0 Yrs',\n",
       " '2-5 Yrs',\n",
       " '1-6 Yrs',\n",
       " '3-5 Yrs',\n",
       " '2-5 Yrs',\n",
       " '2-5 Yrs',\n",
       " '1-3 Yrs',\n",
       " '1-4 Yrs',\n",
       " '2-5 Yrs']"
      ]
     },
     "execution_count": 42,
     "metadata": {},
     "output_type": "execute_result"
    }
   ],
   "source": [
    "experience=[]\n",
    "for i in range(0,len(location_),3):\n",
    "    experience.append(location_[i])\n",
    "experience"
   ]
  },
  {
   "cell_type": "code",
   "execution_count": 43,
   "metadata": {},
   "outputs": [],
   "source": [
    "\n",
    "checkbox=driver.find_elements_by_xpath(\"//p[@class='grey-text lH20 fleft ml-8 txtLbl']\")\n",
    "checkbox=checkbox[5]\n",
    "checkbox.click()"
   ]
  },
  {
   "cell_type": "code",
   "execution_count": 44,
   "metadata": {},
   "outputs": [
    {
     "data": {
      "text/plain": [
       "[<selenium.webdriver.remote.webelement.WebElement (session=\"04eed55f855914a4cf9ef44afcccb2ff\", element=\"15ee18ea-4023-406b-b4a3-b5be4710067e\")>,\n",
       " <selenium.webdriver.remote.webelement.WebElement (session=\"04eed55f855914a4cf9ef44afcccb2ff\", element=\"b32e535d-c808-41b7-9dd5-b84bbc9169c9\")>,\n",
       " <selenium.webdriver.remote.webelement.WebElement (session=\"04eed55f855914a4cf9ef44afcccb2ff\", element=\"55a8910a-5543-48b9-b333-3dc3094455d2\")>,\n",
       " <selenium.webdriver.remote.webelement.WebElement (session=\"04eed55f855914a4cf9ef44afcccb2ff\", element=\"da5da231-248e-4b27-89ae-b549582181df\")>,\n",
       " <selenium.webdriver.remote.webelement.WebElement (session=\"04eed55f855914a4cf9ef44afcccb2ff\", element=\"39c7250e-657a-4c4e-823b-6eac24b4a8ae\")>,\n",
       " <selenium.webdriver.remote.webelement.WebElement (session=\"04eed55f855914a4cf9ef44afcccb2ff\", element=\"d8d209e7-976d-49c2-919d-18401500acd1\")>,\n",
       " <selenium.webdriver.remote.webelement.WebElement (session=\"04eed55f855914a4cf9ef44afcccb2ff\", element=\"e2dfa970-47e0-4446-b95e-0914fba2f7e2\")>,\n",
       " <selenium.webdriver.remote.webelement.WebElement (session=\"04eed55f855914a4cf9ef44afcccb2ff\", element=\"a951ebc7-d739-44a5-80a9-65410f3d7db1\")>,\n",
       " <selenium.webdriver.remote.webelement.WebElement (session=\"04eed55f855914a4cf9ef44afcccb2ff\", element=\"07775888-8cd2-4ffd-904d-fa3e5bf45fdc\")>,\n",
       " <selenium.webdriver.remote.webelement.WebElement (session=\"04eed55f855914a4cf9ef44afcccb2ff\", element=\"564594a5-b995-4a52-82fb-79448792fdf2\")>,\n",
       " <selenium.webdriver.remote.webelement.WebElement (session=\"04eed55f855914a4cf9ef44afcccb2ff\", element=\"327803cb-fc6b-427b-9dc1-e337a562c5ce\")>,\n",
       " <selenium.webdriver.remote.webelement.WebElement (session=\"04eed55f855914a4cf9ef44afcccb2ff\", element=\"f6a35600-dcfd-4dde-b330-02d841929c55\")>,\n",
       " <selenium.webdriver.remote.webelement.WebElement (session=\"04eed55f855914a4cf9ef44afcccb2ff\", element=\"3c4ddc43-9f2a-42e8-b650-7dcddf645475\")>,\n",
       " <selenium.webdriver.remote.webelement.WebElement (session=\"04eed55f855914a4cf9ef44afcccb2ff\", element=\"5c427570-8f07-4ea5-ab60-c9a949d17788\")>,\n",
       " <selenium.webdriver.remote.webelement.WebElement (session=\"04eed55f855914a4cf9ef44afcccb2ff\", element=\"79416d91-0b53-4eae-93bd-cee571ed8b49\")>,\n",
       " <selenium.webdriver.remote.webelement.WebElement (session=\"04eed55f855914a4cf9ef44afcccb2ff\", element=\"e64163db-bd64-466e-9c93-92e249babf68\")>,\n",
       " <selenium.webdriver.remote.webelement.WebElement (session=\"04eed55f855914a4cf9ef44afcccb2ff\", element=\"9f215b9b-2978-41d4-9bb8-ca1260711e8a\")>,\n",
       " <selenium.webdriver.remote.webelement.WebElement (session=\"04eed55f855914a4cf9ef44afcccb2ff\", element=\"26a2d71f-a0b6-4288-ad9d-19de57096a8c\")>,\n",
       " <selenium.webdriver.remote.webelement.WebElement (session=\"04eed55f855914a4cf9ef44afcccb2ff\", element=\"895f8d9c-b69e-4a74-bc59-094fb54cc232\")>,\n",
       " <selenium.webdriver.remote.webelement.WebElement (session=\"04eed55f855914a4cf9ef44afcccb2ff\", element=\"c52a2934-184b-45fb-952c-b321cb957e44\")>]"
      ]
     },
     "execution_count": 44,
     "metadata": {},
     "output_type": "execute_result"
    }
   ],
   "source": [
    "salary=driver.find_elements_by_xpath(\"//li[@class='fleft grey-text br2 placeHolderLi salary']\")\n",
    "salary"
   ]
  },
  {
   "cell_type": "code",
   "execution_count": 45,
   "metadata": {},
   "outputs": [
    {
     "data": {
      "text/plain": [
       "['3,50,000 - 4,50,000 PA.',\n",
       " '2,25,000 - 4,50,000 PA.',\n",
       " 'Not disclosed',\n",
       " '2,00,000 - 4,00,000 PA.',\n",
       " '2,00,000 - 4,00,000 PA.',\n",
       " '2,50,000 - 4,25,000 PA.',\n",
       " '2,25,000 - 4,50,000 PA.',\n",
       " 'Not disclosed',\n",
       " 'Not disclosed',\n",
       " 'Not disclosed',\n",
       " 'Not disclosed',\n",
       " 'Not disclosed',\n",
       " 'Not disclosed',\n",
       " '3,75,000 - 4,50,000 PA.',\n",
       " '2,25,000 - 4,75,000 PA.',\n",
       " 'Not disclosed',\n",
       " 'Not disclosed',\n",
       " '2,00,000 - 4,50,000 PA.',\n",
       " 'Not disclosed',\n",
       " 'Not disclosed']"
      ]
     },
     "execution_count": 45,
     "metadata": {},
     "output_type": "execute_result"
    }
   ],
   "source": [
    "salary_=[]\n",
    "for i in salary:\n",
    "    salary_.append(i.text)\n",
    "salary_"
   ]
  },
  {
   "cell_type": "code",
   "execution_count": 46,
   "metadata": {},
   "outputs": [
    {
     "data": {
      "text/html": [
       "<div>\n",
       "<style scoped>\n",
       "    .dataframe tbody tr th:only-of-type {\n",
       "        vertical-align: middle;\n",
       "    }\n",
       "\n",
       "    .dataframe tbody tr th {\n",
       "        vertical-align: top;\n",
       "    }\n",
       "\n",
       "    .dataframe thead th {\n",
       "        text-align: right;\n",
       "    }\n",
       "</style>\n",
       "<table border=\"1\" class=\"dataframe\">\n",
       "  <thead>\n",
       "    <tr style=\"text-align: right;\">\n",
       "      <th></th>\n",
       "      <th>job titles</th>\n",
       "      <th>company name</th>\n",
       "      <th>loaction</th>\n",
       "      <th>experience</th>\n",
       "      <th>salary</th>\n",
       "    </tr>\n",
       "  </thead>\n",
       "  <tbody>\n",
       "    <tr>\n",
       "      <th>0</th>\n",
       "      <td>Data Scientist/Data Analyst /Business Analyst</td>\n",
       "      <td>Inflexion Analytix Private Limited</td>\n",
       "      <td>Pune, Delhi / NCR, Mumbai (All Areas)</td>\n",
       "      <td>0-3 Yrs</td>\n",
       "      <td>3,50,000 - 4,50,000 PA.</td>\n",
       "    </tr>\n",
       "    <tr>\n",
       "      <th>1</th>\n",
       "      <td>Data Analyst / Business Analytics / MIS Execut...</td>\n",
       "      <td>GABA Consultancy services</td>\n",
       "      <td>Noida, Greater Noida, Delhi / NCR</td>\n",
       "      <td>0-5 Yrs</td>\n",
       "      <td>2,25,000 - 4,50,000 PA.</td>\n",
       "    </tr>\n",
       "    <tr>\n",
       "      <th>2</th>\n",
       "      <td>Data Analyst</td>\n",
       "      <td>COLLABERA</td>\n",
       "      <td>New Delhi, Pune, Gurgaon/Gurugram, Delhi / NCR</td>\n",
       "      <td>1-3 Yrs</td>\n",
       "      <td>Not disclosed</td>\n",
       "    </tr>\n",
       "    <tr>\n",
       "      <th>3</th>\n",
       "      <td>Data Analyst</td>\n",
       "      <td>AG Technologies pvt Ltd</td>\n",
       "      <td>Noida, Kolkata, Hyderabad/Secunderabad, Pune, ...</td>\n",
       "      <td>0-2 Yrs</td>\n",
       "      <td>2,00,000 - 4,00,000 PA.</td>\n",
       "    </tr>\n",
       "    <tr>\n",
       "      <th>4</th>\n",
       "      <td>Data Analyst</td>\n",
       "      <td>AG Technologies pvt Ltd</td>\n",
       "      <td>Noida, Kolkata, Hyderabad/Secunderabad, Pune, ...</td>\n",
       "      <td>0-2 Yrs</td>\n",
       "      <td>2,00,000 - 4,00,000 PA.</td>\n",
       "    </tr>\n",
       "    <tr>\n",
       "      <th>5</th>\n",
       "      <td>Data Analyst - Mechanical</td>\n",
       "      <td>H.G. Infra Engineering Limited</td>\n",
       "      <td>Gurgaon/Gurugram, Jaipur, Delhi / NCR</td>\n",
       "      <td>3-7 Yrs</td>\n",
       "      <td>2,50,000 - 4,25,000 PA.</td>\n",
       "    </tr>\n",
       "    <tr>\n",
       "      <th>6</th>\n",
       "      <td>Business Analytics / Data Analyst / Fresher An...</td>\n",
       "      <td>GABA Consultancy services</td>\n",
       "      <td>Noida, Gurgaon/Gurugram, Delhi / NCR</td>\n",
       "      <td>0-5 Yrs</td>\n",
       "      <td>2,25,000 - 4,50,000 PA.</td>\n",
       "    </tr>\n",
       "    <tr>\n",
       "      <th>7</th>\n",
       "      <td>Senior Data Analyst</td>\n",
       "      <td>UrbanClap</td>\n",
       "      <td>Gurgaon/Gurugram</td>\n",
       "      <td>2-4 Yrs</td>\n",
       "      <td>Not disclosed</td>\n",
       "    </tr>\n",
       "    <tr>\n",
       "      <th>8</th>\n",
       "      <td>Senior Associate - Data Analyst</td>\n",
       "      <td>Publicis Groupe</td>\n",
       "      <td>Gurgaon/Gurugram</td>\n",
       "      <td>1-3 Yrs</td>\n",
       "      <td>Not disclosed</td>\n",
       "    </tr>\n",
       "    <tr>\n",
       "      <th>9</th>\n",
       "      <td>Data Analyst</td>\n",
       "      <td>Omnicom Media Group India Private Limited</td>\n",
       "      <td>Hyderabad/Secunderabad, Pune, Gurgaon/Gurugram...</td>\n",
       "      <td>3-5 Yrs</td>\n",
       "      <td>Not disclosed</td>\n",
       "    </tr>\n",
       "  </tbody>\n",
       "</table>\n",
       "</div>"
      ],
      "text/plain": [
       "                                          job titles  \\\n",
       "0      Data Scientist/Data Analyst /Business Analyst   \n",
       "1  Data Analyst / Business Analytics / MIS Execut...   \n",
       "2                                       Data Analyst   \n",
       "3                                       Data Analyst   \n",
       "4                                       Data Analyst   \n",
       "5                          Data Analyst - Mechanical   \n",
       "6  Business Analytics / Data Analyst / Fresher An...   \n",
       "7                                Senior Data Analyst   \n",
       "8                    Senior Associate - Data Analyst   \n",
       "9                                       Data Analyst   \n",
       "\n",
       "                                company name  \\\n",
       "0         Inflexion Analytix Private Limited   \n",
       "1                  GABA Consultancy services   \n",
       "2                                  COLLABERA   \n",
       "3                    AG Technologies pvt Ltd   \n",
       "4                    AG Technologies pvt Ltd   \n",
       "5             H.G. Infra Engineering Limited   \n",
       "6                  GABA Consultancy services   \n",
       "7                                  UrbanClap   \n",
       "8                            Publicis Groupe   \n",
       "9  Omnicom Media Group India Private Limited   \n",
       "\n",
       "                                            loaction experience  \\\n",
       "0              Pune, Delhi / NCR, Mumbai (All Areas)    0-3 Yrs   \n",
       "1                  Noida, Greater Noida, Delhi / NCR    0-5 Yrs   \n",
       "2     New Delhi, Pune, Gurgaon/Gurugram, Delhi / NCR    1-3 Yrs   \n",
       "3  Noida, Kolkata, Hyderabad/Secunderabad, Pune, ...    0-2 Yrs   \n",
       "4  Noida, Kolkata, Hyderabad/Secunderabad, Pune, ...    0-2 Yrs   \n",
       "5              Gurgaon/Gurugram, Jaipur, Delhi / NCR    3-7 Yrs   \n",
       "6               Noida, Gurgaon/Gurugram, Delhi / NCR    0-5 Yrs   \n",
       "7                                   Gurgaon/Gurugram    2-4 Yrs   \n",
       "8                                   Gurgaon/Gurugram    1-3 Yrs   \n",
       "9  Hyderabad/Secunderabad, Pune, Gurgaon/Gurugram...    3-5 Yrs   \n",
       "\n",
       "                    salary  \n",
       "0  3,50,000 - 4,50,000 PA.  \n",
       "1  2,25,000 - 4,50,000 PA.  \n",
       "2            Not disclosed  \n",
       "3  2,00,000 - 4,00,000 PA.  \n",
       "4  2,00,000 - 4,00,000 PA.  \n",
       "5  2,50,000 - 4,25,000 PA.  \n",
       "6  2,25,000 - 4,50,000 PA.  \n",
       "7            Not disclosed  \n",
       "8            Not disclosed  \n",
       "9            Not disclosed  "
      ]
     },
     "execution_count": 46,
     "metadata": {},
     "output_type": "execute_result"
    }
   ],
   "source": [
    "import pandas as pd\n",
    "Details=pd.DataFrame({})\n",
    "Details['job titles']=job_titles\n",
    "Details['company name']=company_name\n",
    "Details['loaction']=location_name\n",
    "Details['experience']=experience\n",
    "Details['salary']=salary_\n",
    "Details.head(10)"
   ]
  },
  {
   "cell_type": "markdown",
   "metadata": {},
   "source": [
    "# Q4 scrape data from glassdoor to extract company name,days ago when job posted and the ratings"
   ]
  },
  {
   "cell_type": "code",
   "execution_count": 291,
   "metadata": {},
   "outputs": [
    {
     "name": "stdout",
     "output_type": "stream",
     "text": [
      "Requirement already satisfied: selenium in c:\\jpytr notebook\\lib\\site-packages (3.141.0)\n",
      "Requirement already satisfied: urllib3 in c:\\jpytr notebook\\lib\\site-packages (from selenium) (1.25.11)\n"
     ]
    }
   ],
   "source": [
    "#install selenium\n",
    "!pip install selenium"
   ]
  },
  {
   "cell_type": "code",
   "execution_count": 292,
   "metadata": {},
   "outputs": [],
   "source": [
    "#importing imp libraries\n",
    "import selenium\n",
    "import pandas as pd\n",
    "from selenium import webdriver"
   ]
  },
  {
   "cell_type": "code",
   "execution_count": 293,
   "metadata": {},
   "outputs": [],
   "source": [
    "driver=webdriver.Chrome(\"chromedriver.exe\")"
   ]
  },
  {
   "cell_type": "code",
   "execution_count": 294,
   "metadata": {},
   "outputs": [],
   "source": [
    "url='https://www.glassdoor.co.in/index.htm'\n",
    "driver.get(url)"
   ]
  },
  {
   "cell_type": "code",
   "execution_count": 295,
   "metadata": {},
   "outputs": [
    {
     "data": {
      "text/plain": [
       "<selenium.webdriver.remote.webelement.WebElement (session=\"ecb3505c2b6fc493f5cce3f664b27cf9\", element=\"b2a0237c-3414-415c-8ae6-79d706ff7ae9\")>"
      ]
     },
     "execution_count": 295,
     "metadata": {},
     "output_type": "execute_result"
    }
   ],
   "source": [
    "job_title=driver.find_element_by_id(\"sc.keyword\")\n",
    "job_title"
   ]
  },
  {
   "cell_type": "code",
   "execution_count": 296,
   "metadata": {},
   "outputs": [],
   "source": [
    "job_title.send_keys(\"Data Scientist\")\n",
    "\n",
    "\n"
   ]
  },
  {
   "cell_type": "code",
   "execution_count": 308,
   "metadata": {},
   "outputs": [],
   "source": [
    "job_location=driver.find_element_by_id(\"sc.location\")\n",
    "job_location.clear()"
   ]
  },
  {
   "cell_type": "code",
   "execution_count": 307,
   "metadata": {},
   "outputs": [],
   "source": [
    "job_location.click()"
   ]
  },
  {
   "cell_type": "code",
   "execution_count": 309,
   "metadata": {},
   "outputs": [],
   "source": [
    "job_location.send_keys(\"Noida\")"
   ]
  },
  {
   "cell_type": "code",
   "execution_count": 311,
   "metadata": {},
   "outputs": [],
   "source": [
    "search_btn=driver.find_element_by_xpath(\"//button[@class='gd-ui-button ml-std col-auto SearchStyles__newSearchButton css-iixdfr']\")\n",
    "search_btn.click()"
   ]
  },
  {
   "cell_type": "code",
   "execution_count": 312,
   "metadata": {},
   "outputs": [
    {
     "data": {
      "text/plain": [
       "[<selenium.webdriver.remote.webelement.WebElement (session=\"ecb3505c2b6fc493f5cce3f664b27cf9\", element=\"92daf31a-c0f7-495d-a865-391d1d64c0a6\")>,\n",
       " <selenium.webdriver.remote.webelement.WebElement (session=\"ecb3505c2b6fc493f5cce3f664b27cf9\", element=\"709ac6a4-4dd1-461d-a754-3486f64a67e5\")>,\n",
       " <selenium.webdriver.remote.webelement.WebElement (session=\"ecb3505c2b6fc493f5cce3f664b27cf9\", element=\"8d15a655-6b75-49fa-b537-b1c672cf7a10\")>,\n",
       " <selenium.webdriver.remote.webelement.WebElement (session=\"ecb3505c2b6fc493f5cce3f664b27cf9\", element=\"c2f675ed-fa0e-425c-9142-8fc78a317f23\")>,\n",
       " <selenium.webdriver.remote.webelement.WebElement (session=\"ecb3505c2b6fc493f5cce3f664b27cf9\", element=\"7757a8e5-e492-42bd-ac1a-e8d9c231ff8f\")>,\n",
       " <selenium.webdriver.remote.webelement.WebElement (session=\"ecb3505c2b6fc493f5cce3f664b27cf9\", element=\"3385c308-ff4e-411a-a2ed-f2711482e428\")>,\n",
       " <selenium.webdriver.remote.webelement.WebElement (session=\"ecb3505c2b6fc493f5cce3f664b27cf9\", element=\"840059e8-b4d8-4f42-96bc-b4062ee10fef\")>,\n",
       " <selenium.webdriver.remote.webelement.WebElement (session=\"ecb3505c2b6fc493f5cce3f664b27cf9\", element=\"4c60509b-b297-40fe-9568-cf49f7a13484\")>,\n",
       " <selenium.webdriver.remote.webelement.WebElement (session=\"ecb3505c2b6fc493f5cce3f664b27cf9\", element=\"110e92f8-ff5f-43e4-8349-40c15b21c6bd\")>,\n",
       " <selenium.webdriver.remote.webelement.WebElement (session=\"ecb3505c2b6fc493f5cce3f664b27cf9\", element=\"b14a1361-fd90-4561-8fd3-b8bd5a53692b\")>,\n",
       " <selenium.webdriver.remote.webelement.WebElement (session=\"ecb3505c2b6fc493f5cce3f664b27cf9\", element=\"48b88fbd-2666-454f-b030-9b376ad8ef07\")>,\n",
       " <selenium.webdriver.remote.webelement.WebElement (session=\"ecb3505c2b6fc493f5cce3f664b27cf9\", element=\"1f6d50d9-f5a8-428b-b37b-2c9dfa58f3fc\")>,\n",
       " <selenium.webdriver.remote.webelement.WebElement (session=\"ecb3505c2b6fc493f5cce3f664b27cf9\", element=\"cdf0c271-dc0b-468d-a813-430129ffa335\")>,\n",
       " <selenium.webdriver.remote.webelement.WebElement (session=\"ecb3505c2b6fc493f5cce3f664b27cf9\", element=\"32fdfdb0-cc3f-4195-82f1-f6579f728238\")>,\n",
       " <selenium.webdriver.remote.webelement.WebElement (session=\"ecb3505c2b6fc493f5cce3f664b27cf9\", element=\"0a33a208-2d6f-4391-a6d1-aa41c54dce3d\")>,\n",
       " <selenium.webdriver.remote.webelement.WebElement (session=\"ecb3505c2b6fc493f5cce3f664b27cf9\", element=\"f7766591-933f-4b95-b65b-4181a0b8ebfc\")>,\n",
       " <selenium.webdriver.remote.webelement.WebElement (session=\"ecb3505c2b6fc493f5cce3f664b27cf9\", element=\"c3357c33-825c-4e99-a069-b66644858055\")>,\n",
       " <selenium.webdriver.remote.webelement.WebElement (session=\"ecb3505c2b6fc493f5cce3f664b27cf9\", element=\"f62c2840-c833-4ec0-ad60-9ac4ea329bb3\")>,\n",
       " <selenium.webdriver.remote.webelement.WebElement (session=\"ecb3505c2b6fc493f5cce3f664b27cf9\", element=\"76c7cd77-539b-4a2f-963a-29e959d76aed\")>,\n",
       " <selenium.webdriver.remote.webelement.WebElement (session=\"ecb3505c2b6fc493f5cce3f664b27cf9\", element=\"1752818e-b4d1-465b-bb66-8a9ca557e929\")>,\n",
       " <selenium.webdriver.remote.webelement.WebElement (session=\"ecb3505c2b6fc493f5cce3f664b27cf9\", element=\"07692279-31a3-470b-9653-dd7de947ce81\")>,\n",
       " <selenium.webdriver.remote.webelement.WebElement (session=\"ecb3505c2b6fc493f5cce3f664b27cf9\", element=\"c6fb0d72-6a74-45c8-a6c1-b1dd633d11ab\")>,\n",
       " <selenium.webdriver.remote.webelement.WebElement (session=\"ecb3505c2b6fc493f5cce3f664b27cf9\", element=\"70a98b9b-7aae-4d7c-8d67-5c07a8b44263\")>,\n",
       " <selenium.webdriver.remote.webelement.WebElement (session=\"ecb3505c2b6fc493f5cce3f664b27cf9\", element=\"40bfe237-f42b-4634-8a7b-7cae6388a526\")>,\n",
       " <selenium.webdriver.remote.webelement.WebElement (session=\"ecb3505c2b6fc493f5cce3f664b27cf9\", element=\"fa1f5b10-59dc-47a1-bb31-9b750732f998\")>,\n",
       " <selenium.webdriver.remote.webelement.WebElement (session=\"ecb3505c2b6fc493f5cce3f664b27cf9\", element=\"0b25464a-d404-47b0-95fb-94186cc069df\")>,\n",
       " <selenium.webdriver.remote.webelement.WebElement (session=\"ecb3505c2b6fc493f5cce3f664b27cf9\", element=\"9c248c25-cfd7-4acb-9cf2-3a63b6092840\")>,\n",
       " <selenium.webdriver.remote.webelement.WebElement (session=\"ecb3505c2b6fc493f5cce3f664b27cf9\", element=\"a12ca40c-1480-457b-a215-b24aa0048a01\")>,\n",
       " <selenium.webdriver.remote.webelement.WebElement (session=\"ecb3505c2b6fc493f5cce3f664b27cf9\", element=\"01901ebc-6040-44aa-b06c-bb97e52840d2\")>,\n",
       " <selenium.webdriver.remote.webelement.WebElement (session=\"ecb3505c2b6fc493f5cce3f664b27cf9\", element=\"7c8645f3-2e4a-4110-aeb6-4d8cf17bceac\")>]"
      ]
     },
     "execution_count": 312,
     "metadata": {},
     "output_type": "execute_result"
    }
   ],
   "source": [
    "company_name=driver.find_elements_by_xpath(\"//div[@class='d-flex justify-content-between align-items-start']\")\n",
    "company_name"
   ]
  },
  {
   "cell_type": "code",
   "execution_count": 313,
   "metadata": {},
   "outputs": [
    {
     "data": {
      "text/plain": [
       "['Ericsson',\n",
       " 'MasterCard',\n",
       " 'Ginger Webs Pvt. Ltd.',\n",
       " 'Siemens Technology and Services Private Limited',\n",
       " 'Data Patterns',\n",
       " 'Algo8 AI Pvt. Ltd.',\n",
       " 'Biz2Credit Inc',\n",
       " 'Innovacer',\n",
       " 'Wobb.ai',\n",
       " 'Salasar New Age Technologies',\n",
       " 'Credgenics',\n",
       " 'Crowe',\n",
       " 'United Airlines Inc.',\n",
       " 'Radical Technologies',\n",
       " 'Techlive',\n",
       " 'Ernst & Young',\n",
       " 'CSTEP',\n",
       " 'MobiKwik',\n",
       " 'Koverhoop Technologies',\n",
       " 'Amploy',\n",
       " 'UnitedHealth Group',\n",
       " 'MasterCard',\n",
       " 'dunnhumby',\n",
       " 'ADCI - Haryana',\n",
       " 'Lantern Digital Services',\n",
       " 'WishFin',\n",
       " 'Priority Vendor',\n",
       " 'Salasar New Age Technologies',\n",
       " 'SearchUrCollege',\n",
       " 'Emerging India Group']"
      ]
     },
     "execution_count": 313,
     "metadata": {},
     "output_type": "execute_result"
    }
   ],
   "source": [
    "companyname=[]\n",
    "for i in company_name:\n",
    "    companyname.append(i.text)\n",
    "companyname"
   ]
  },
  {
   "cell_type": "code",
   "execution_count": 314,
   "metadata": {},
   "outputs": [
    {
     "data": {
      "text/plain": [
       "[<selenium.webdriver.remote.webelement.WebElement (session=\"ecb3505c2b6fc493f5cce3f664b27cf9\", element=\"94a2da8f-8a4e-45ad-bec7-3ae5d191e552\")>,\n",
       " <selenium.webdriver.remote.webelement.WebElement (session=\"ecb3505c2b6fc493f5cce3f664b27cf9\", element=\"ccdd94aa-eba5-4baf-af38-42c66c25ea35\")>,\n",
       " <selenium.webdriver.remote.webelement.WebElement (session=\"ecb3505c2b6fc493f5cce3f664b27cf9\", element=\"a721bb91-6b8f-4ad7-a427-36faa7c77ba2\")>,\n",
       " <selenium.webdriver.remote.webelement.WebElement (session=\"ecb3505c2b6fc493f5cce3f664b27cf9\", element=\"c462a34e-d5f8-4111-a1a3-fca27b09cb65\")>,\n",
       " <selenium.webdriver.remote.webelement.WebElement (session=\"ecb3505c2b6fc493f5cce3f664b27cf9\", element=\"7ed4266a-0bda-4d88-9623-b4ff93e155bb\")>,\n",
       " <selenium.webdriver.remote.webelement.WebElement (session=\"ecb3505c2b6fc493f5cce3f664b27cf9\", element=\"4cbce660-ea08-4fb6-9184-0922b1927cfe\")>,\n",
       " <selenium.webdriver.remote.webelement.WebElement (session=\"ecb3505c2b6fc493f5cce3f664b27cf9\", element=\"c6dc55a3-e329-4330-aefb-4813972dcc06\")>,\n",
       " <selenium.webdriver.remote.webelement.WebElement (session=\"ecb3505c2b6fc493f5cce3f664b27cf9\", element=\"e78165c6-18c0-4d16-9aad-13a3f05fcbae\")>,\n",
       " <selenium.webdriver.remote.webelement.WebElement (session=\"ecb3505c2b6fc493f5cce3f664b27cf9\", element=\"174584f5-06a9-4b08-9a20-5eb93b4fec71\")>,\n",
       " <selenium.webdriver.remote.webelement.WebElement (session=\"ecb3505c2b6fc493f5cce3f664b27cf9\", element=\"4870041f-2072-4b7a-8d2a-65d571417ae7\")>,\n",
       " <selenium.webdriver.remote.webelement.WebElement (session=\"ecb3505c2b6fc493f5cce3f664b27cf9\", element=\"aae7c2d7-80a2-4f8c-8c9b-0c1de1979dc9\")>,\n",
       " <selenium.webdriver.remote.webelement.WebElement (session=\"ecb3505c2b6fc493f5cce3f664b27cf9\", element=\"beb2a3e1-12c6-4933-9f59-1e1f83e956a2\")>,\n",
       " <selenium.webdriver.remote.webelement.WebElement (session=\"ecb3505c2b6fc493f5cce3f664b27cf9\", element=\"598c6be2-b9c7-4c20-ba65-c2feb06c9dd2\")>,\n",
       " <selenium.webdriver.remote.webelement.WebElement (session=\"ecb3505c2b6fc493f5cce3f664b27cf9\", element=\"9fea497f-e61c-48ac-a1b7-ce6a4123b7d3\")>,\n",
       " <selenium.webdriver.remote.webelement.WebElement (session=\"ecb3505c2b6fc493f5cce3f664b27cf9\", element=\"4664e3b1-df66-441f-a9bf-3512966a3554\")>,\n",
       " <selenium.webdriver.remote.webelement.WebElement (session=\"ecb3505c2b6fc493f5cce3f664b27cf9\", element=\"dd135e3d-f858-4634-b105-0571e4902218\")>,\n",
       " <selenium.webdriver.remote.webelement.WebElement (session=\"ecb3505c2b6fc493f5cce3f664b27cf9\", element=\"1866bd6b-3311-4a31-ae54-7b116194d915\")>,\n",
       " <selenium.webdriver.remote.webelement.WebElement (session=\"ecb3505c2b6fc493f5cce3f664b27cf9\", element=\"69583fc4-033a-4c8b-b0b6-dac98cdb6cac\")>,\n",
       " <selenium.webdriver.remote.webelement.WebElement (session=\"ecb3505c2b6fc493f5cce3f664b27cf9\", element=\"83fc1a72-815f-46cc-8826-7270f9a65872\")>,\n",
       " <selenium.webdriver.remote.webelement.WebElement (session=\"ecb3505c2b6fc493f5cce3f664b27cf9\", element=\"e88135e4-4f8d-4bb2-a49d-5cbae781aeab\")>,\n",
       " <selenium.webdriver.remote.webelement.WebElement (session=\"ecb3505c2b6fc493f5cce3f664b27cf9\", element=\"6de7625e-f7e9-4097-8c09-aed3d6227606\")>,\n",
       " <selenium.webdriver.remote.webelement.WebElement (session=\"ecb3505c2b6fc493f5cce3f664b27cf9\", element=\"c55fc387-2435-4fdd-8fbe-d3b6b282a01e\")>,\n",
       " <selenium.webdriver.remote.webelement.WebElement (session=\"ecb3505c2b6fc493f5cce3f664b27cf9\", element=\"da9249bf-350a-40fc-811d-af879a4fa41c\")>,\n",
       " <selenium.webdriver.remote.webelement.WebElement (session=\"ecb3505c2b6fc493f5cce3f664b27cf9\", element=\"a3ceed13-adc8-4a06-b1a7-1b89b800a855\")>,\n",
       " <selenium.webdriver.remote.webelement.WebElement (session=\"ecb3505c2b6fc493f5cce3f664b27cf9\", element=\"fc1d21ea-e9db-4bf8-81ef-f152b8c27436\")>,\n",
       " <selenium.webdriver.remote.webelement.WebElement (session=\"ecb3505c2b6fc493f5cce3f664b27cf9\", element=\"bfeb21f6-0aaa-495e-b606-59e450164370\")>,\n",
       " <selenium.webdriver.remote.webelement.WebElement (session=\"ecb3505c2b6fc493f5cce3f664b27cf9\", element=\"cedc4295-45e3-4429-a7a7-95f021b19ad2\")>,\n",
       " <selenium.webdriver.remote.webelement.WebElement (session=\"ecb3505c2b6fc493f5cce3f664b27cf9\", element=\"f64f1cc4-d822-4df5-afc6-b80eac031b6a\")>,\n",
       " <selenium.webdriver.remote.webelement.WebElement (session=\"ecb3505c2b6fc493f5cce3f664b27cf9\", element=\"c25e8754-c5b4-4048-8fc3-1b416aeaea67\")>,\n",
       " <selenium.webdriver.remote.webelement.WebElement (session=\"ecb3505c2b6fc493f5cce3f664b27cf9\", element=\"1cad5d37-2c8b-4c84-a87a-832057bd2eb9\")>]"
      ]
     },
     "execution_count": 314,
     "metadata": {},
     "output_type": "execute_result"
    }
   ],
   "source": [
    "Days_posted=driver.find_elements_by_xpath(\"//div[@class='d-flex align-items-end pl-std css-mi55ob']\")\n",
    "Days_posted"
   ]
  },
  {
   "cell_type": "code",
   "execution_count": 315,
   "metadata": {},
   "outputs": [
    {
     "data": {
      "text/plain": [
       "['24h',\n",
       " '24h',\n",
       " '20d',\n",
       " '13d',\n",
       " '16d',\n",
       " '13d',\n",
       " '30d+',\n",
       " '2d',\n",
       " '7d',\n",
       " '30d+',\n",
       " '24h',\n",
       " '28d',\n",
       " '1d',\n",
       " '3d',\n",
       " '30d+',\n",
       " '10d',\n",
       " '16d',\n",
       " '16d',\n",
       " '2d',\n",
       " '27d',\n",
       " '2d',\n",
       " '30d+',\n",
       " '1d',\n",
       " '14d',\n",
       " '30d+',\n",
       " '30d+',\n",
       " '30d+',\n",
       " '30d+',\n",
       " '30d+',\n",
       " '30d+']"
      ]
     },
     "execution_count": 315,
     "metadata": {},
     "output_type": "execute_result"
    }
   ],
   "source": [
    "job_posted_time=[]\n",
    "for i in Days_posted:\n",
    "    job_posted_time.append(i.text)\n",
    "job_posted_time"
   ]
  },
  {
   "cell_type": "code",
   "execution_count": 316,
   "metadata": {},
   "outputs": [
    {
     "data": {
      "text/plain": [
       "[<selenium.webdriver.remote.webelement.WebElement (session=\"ecb3505c2b6fc493f5cce3f664b27cf9\", element=\"74a8b359-c6fb-4a7b-8c82-cc08cf536951\")>,\n",
       " <selenium.webdriver.remote.webelement.WebElement (session=\"ecb3505c2b6fc493f5cce3f664b27cf9\", element=\"7e22f738-659e-49b9-ae81-143b71a1d330\")>,\n",
       " <selenium.webdriver.remote.webelement.WebElement (session=\"ecb3505c2b6fc493f5cce3f664b27cf9\", element=\"57b7ddf9-34e1-40fe-804b-5c156341ee73\")>,\n",
       " <selenium.webdriver.remote.webelement.WebElement (session=\"ecb3505c2b6fc493f5cce3f664b27cf9\", element=\"d1fdc15e-b5d6-4420-8312-b079c87c8301\")>,\n",
       " <selenium.webdriver.remote.webelement.WebElement (session=\"ecb3505c2b6fc493f5cce3f664b27cf9\", element=\"d207c42f-99fa-4c6d-81e1-7070d2d9bab7\")>,\n",
       " <selenium.webdriver.remote.webelement.WebElement (session=\"ecb3505c2b6fc493f5cce3f664b27cf9\", element=\"993a8af0-d987-4f09-a002-0648d7ab9e1c\")>,\n",
       " <selenium.webdriver.remote.webelement.WebElement (session=\"ecb3505c2b6fc493f5cce3f664b27cf9\", element=\"199d1b34-56a6-4c2d-b74a-1720e2e89432\")>,\n",
       " <selenium.webdriver.remote.webelement.WebElement (session=\"ecb3505c2b6fc493f5cce3f664b27cf9\", element=\"ac4dac4f-abb6-4c18-b25f-c88a12c925f9\")>,\n",
       " <selenium.webdriver.remote.webelement.WebElement (session=\"ecb3505c2b6fc493f5cce3f664b27cf9\", element=\"ea933121-11db-4f53-a071-1b7543c2e483\")>,\n",
       " <selenium.webdriver.remote.webelement.WebElement (session=\"ecb3505c2b6fc493f5cce3f664b27cf9\", element=\"2e51d13b-8271-456d-aaca-db5b6dbbb7b7\")>,\n",
       " <selenium.webdriver.remote.webelement.WebElement (session=\"ecb3505c2b6fc493f5cce3f664b27cf9\", element=\"dacc7153-919e-4e01-94d7-fc2047f84d04\")>,\n",
       " <selenium.webdriver.remote.webelement.WebElement (session=\"ecb3505c2b6fc493f5cce3f664b27cf9\", element=\"f5c54187-ed9f-4b89-a8b6-154b3d8dc2f5\")>,\n",
       " <selenium.webdriver.remote.webelement.WebElement (session=\"ecb3505c2b6fc493f5cce3f664b27cf9\", element=\"457c3d69-31dd-43b2-9619-5175d66b8efa\")>,\n",
       " <selenium.webdriver.remote.webelement.WebElement (session=\"ecb3505c2b6fc493f5cce3f664b27cf9\", element=\"626f940e-a133-45b7-a81f-48758a670e50\")>,\n",
       " <selenium.webdriver.remote.webelement.WebElement (session=\"ecb3505c2b6fc493f5cce3f664b27cf9\", element=\"0fa5b0c4-5e3c-4dd1-bd7a-2a5aa2d40ed0\")>,\n",
       " <selenium.webdriver.remote.webelement.WebElement (session=\"ecb3505c2b6fc493f5cce3f664b27cf9\", element=\"e10aac3c-71d0-4886-ae5e-b483e0d59b70\")>,\n",
       " <selenium.webdriver.remote.webelement.WebElement (session=\"ecb3505c2b6fc493f5cce3f664b27cf9\", element=\"45d45587-f956-47d3-a685-72ae351e233e\")>,\n",
       " <selenium.webdriver.remote.webelement.WebElement (session=\"ecb3505c2b6fc493f5cce3f664b27cf9\", element=\"62f3f68d-36c5-47ed-9662-d9495f885e98\")>,\n",
       " <selenium.webdriver.remote.webelement.WebElement (session=\"ecb3505c2b6fc493f5cce3f664b27cf9\", element=\"ae7b6b08-6420-429f-81f8-541cb32b2f18\")>,\n",
       " <selenium.webdriver.remote.webelement.WebElement (session=\"ecb3505c2b6fc493f5cce3f664b27cf9\", element=\"4731db9b-74ae-46d4-959c-df92d71ff874\")>,\n",
       " <selenium.webdriver.remote.webelement.WebElement (session=\"ecb3505c2b6fc493f5cce3f664b27cf9\", element=\"0565e085-441c-49f1-a99c-f0ae0662988b\")>,\n",
       " <selenium.webdriver.remote.webelement.WebElement (session=\"ecb3505c2b6fc493f5cce3f664b27cf9\", element=\"266a33ba-3f6a-4ba0-99da-ce969ead6860\")>,\n",
       " <selenium.webdriver.remote.webelement.WebElement (session=\"ecb3505c2b6fc493f5cce3f664b27cf9\", element=\"1c885f08-fca3-4672-9f2f-43800e8807ee\")>,\n",
       " <selenium.webdriver.remote.webelement.WebElement (session=\"ecb3505c2b6fc493f5cce3f664b27cf9\", element=\"11210ec4-d2e5-42ba-8a09-22950bcfb2e1\")>,\n",
       " <selenium.webdriver.remote.webelement.WebElement (session=\"ecb3505c2b6fc493f5cce3f664b27cf9\", element=\"638c7975-697d-49a8-bc22-d3b6f29a53ea\")>,\n",
       " <selenium.webdriver.remote.webelement.WebElement (session=\"ecb3505c2b6fc493f5cce3f664b27cf9\", element=\"9d5b35bc-311f-4ac9-8631-c79e9414787f\")>,\n",
       " <selenium.webdriver.remote.webelement.WebElement (session=\"ecb3505c2b6fc493f5cce3f664b27cf9\", element=\"be4e47f2-ec85-4df5-8d5f-d8fe93b9c5e9\")>,\n",
       " <selenium.webdriver.remote.webelement.WebElement (session=\"ecb3505c2b6fc493f5cce3f664b27cf9\", element=\"97b3a447-f643-42d6-8763-d59dc851f7cd\")>,\n",
       " <selenium.webdriver.remote.webelement.WebElement (session=\"ecb3505c2b6fc493f5cce3f664b27cf9\", element=\"ac8effcf-881a-41d1-b196-e103553a2550\")>,\n",
       " <selenium.webdriver.remote.webelement.WebElement (session=\"ecb3505c2b6fc493f5cce3f664b27cf9\", element=\"c354a35e-0c11-48dd-a840-a55f981909cb\")>]"
      ]
     },
     "execution_count": 316,
     "metadata": {},
     "output_type": "execute_result"
    }
   ],
   "source": [
    "rating=driver.find_elements_by_xpath(\"//div[@class='d-flex flex-column css-x75kgh e1rrn5ka3']\")\n",
    "rating"
   ]
  },
  {
   "cell_type": "code",
   "execution_count": 317,
   "metadata": {},
   "outputs": [
    {
     "data": {
      "text/plain": [
       "['4.1',\n",
       " '4.3',\n",
       " '',\n",
       " '4.1',\n",
       " '3.0',\n",
       " '',\n",
       " '3.9',\n",
       " '3.8',\n",
       " '',\n",
       " '',\n",
       " '4.0',\n",
       " '3.8',\n",
       " '4.1',\n",
       " '3.1',\n",
       " '5.0',\n",
       " '3.8',\n",
       " '3.1',\n",
       " '3.9',\n",
       " '',\n",
       " '',\n",
       " '3.7',\n",
       " '4.3',\n",
       " '4.1',\n",
       " '4.3',\n",
       " '3.5',\n",
       " '3.8',\n",
       " '3.7',\n",
       " '',\n",
       " '',\n",
       " '2.4']"
      ]
     },
     "execution_count": 317,
     "metadata": {},
     "output_type": "execute_result"
    }
   ],
   "source": [
    "ratings=[]\n",
    "for i in rating:\n",
    "    ratings.append(i.text.)\n",
    "ratings"
   ]
  },
  {
   "cell_type": "code",
   "execution_count": 318,
   "metadata": {},
   "outputs": [
    {
     "data": {
      "text/plain": [
       "30"
      ]
     },
     "execution_count": 318,
     "metadata": {},
     "output_type": "execute_result"
    }
   ],
   "source": [
    "len(ratings)\n"
   ]
  },
  {
   "cell_type": "code",
   "execution_count": 319,
   "metadata": {},
   "outputs": [
    {
     "data": {
      "text/html": [
       "<div>\n",
       "<style scoped>\n",
       "    .dataframe tbody tr th:only-of-type {\n",
       "        vertical-align: middle;\n",
       "    }\n",
       "\n",
       "    .dataframe tbody tr th {\n",
       "        vertical-align: top;\n",
       "    }\n",
       "\n",
       "    .dataframe thead th {\n",
       "        text-align: right;\n",
       "    }\n",
       "</style>\n",
       "<table border=\"1\" class=\"dataframe\">\n",
       "  <thead>\n",
       "    <tr style=\"text-align: right;\">\n",
       "      <th></th>\n",
       "      <th>Company Name</th>\n",
       "      <th>Days Ago When Job posted</th>\n",
       "      <th>Rating</th>\n",
       "    </tr>\n",
       "  </thead>\n",
       "  <tbody>\n",
       "    <tr>\n",
       "      <th>0</th>\n",
       "      <td>Ericsson</td>\n",
       "      <td>24h</td>\n",
       "      <td>4.1</td>\n",
       "    </tr>\n",
       "    <tr>\n",
       "      <th>1</th>\n",
       "      <td>MasterCard</td>\n",
       "      <td>24h</td>\n",
       "      <td>4.3</td>\n",
       "    </tr>\n",
       "    <tr>\n",
       "      <th>2</th>\n",
       "      <td>Ginger Webs Pvt. Ltd.</td>\n",
       "      <td>20d</td>\n",
       "      <td></td>\n",
       "    </tr>\n",
       "    <tr>\n",
       "      <th>3</th>\n",
       "      <td>Siemens Technology and Services Private Limited</td>\n",
       "      <td>13d</td>\n",
       "      <td>4.1</td>\n",
       "    </tr>\n",
       "    <tr>\n",
       "      <th>4</th>\n",
       "      <td>Data Patterns</td>\n",
       "      <td>16d</td>\n",
       "      <td>3.0</td>\n",
       "    </tr>\n",
       "    <tr>\n",
       "      <th>5</th>\n",
       "      <td>Algo8 AI Pvt. Ltd.</td>\n",
       "      <td>13d</td>\n",
       "      <td></td>\n",
       "    </tr>\n",
       "    <tr>\n",
       "      <th>6</th>\n",
       "      <td>Biz2Credit Inc</td>\n",
       "      <td>30d+</td>\n",
       "      <td>3.9</td>\n",
       "    </tr>\n",
       "    <tr>\n",
       "      <th>7</th>\n",
       "      <td>Innovacer</td>\n",
       "      <td>2d</td>\n",
       "      <td>3.8</td>\n",
       "    </tr>\n",
       "    <tr>\n",
       "      <th>8</th>\n",
       "      <td>Wobb.ai</td>\n",
       "      <td>7d</td>\n",
       "      <td></td>\n",
       "    </tr>\n",
       "    <tr>\n",
       "      <th>9</th>\n",
       "      <td>Salasar New Age Technologies</td>\n",
       "      <td>30d+</td>\n",
       "      <td></td>\n",
       "    </tr>\n",
       "  </tbody>\n",
       "</table>\n",
       "</div>"
      ],
      "text/plain": [
       "                                      Company Name Days Ago When Job posted  \\\n",
       "0                                         Ericsson                      24h   \n",
       "1                                       MasterCard                      24h   \n",
       "2                            Ginger Webs Pvt. Ltd.                      20d   \n",
       "3  Siemens Technology and Services Private Limited                      13d   \n",
       "4                                    Data Patterns                      16d   \n",
       "5                               Algo8 AI Pvt. Ltd.                      13d   \n",
       "6                                   Biz2Credit Inc                     30d+   \n",
       "7                                        Innovacer                       2d   \n",
       "8                                          Wobb.ai                       7d   \n",
       "9                     Salasar New Age Technologies                     30d+   \n",
       "\n",
       "  Rating  \n",
       "0    4.1  \n",
       "1    4.3  \n",
       "2         \n",
       "3    4.1  \n",
       "4    3.0  \n",
       "5         \n",
       "6    3.9  \n",
       "7    3.8  \n",
       "8         \n",
       "9         "
      ]
     },
     "execution_count": 319,
     "metadata": {},
     "output_type": "execute_result"
    }
   ],
   "source": [
    "import pandas as pd\n",
    "glassdoor_details=pd.DataFrame({})\n",
    "glassdoor_details['Company Name']=companyname\n",
    "glassdoor_details['Days Ago When Job posted']=job_posted_time\n",
    "glassdoor_details['Rating']=ratings\n",
    "glassdoor_details.head(10)"
   ]
  },
  {
   "cell_type": "markdown",
   "metadata": {},
   "source": [
    "# Q5 scrape  Company name, Number of salaries, Average salary, min and max salary from glassdoor website\n"
   ]
  },
  {
   "cell_type": "code",
   "execution_count": 228,
   "metadata": {},
   "outputs": [
    {
     "name": "stdout",
     "output_type": "stream",
     "text": [
      "Requirement already satisfied: selenium in c:\\jpytr notebook\\lib\\site-packages (3.141.0)\n",
      "Requirement already satisfied: urllib3 in c:\\jpytr notebook\\lib\\site-packages (from selenium) (1.25.11)\n"
     ]
    }
   ],
   "source": [
    "!pip install selenium"
   ]
  },
  {
   "cell_type": "code",
   "execution_count": 229,
   "metadata": {},
   "outputs": [],
   "source": [
    "import selenium\n",
    "import pandas as pd\n",
    "from selenium import webdriver"
   ]
  },
  {
   "cell_type": "code",
   "execution_count": 255,
   "metadata": {},
   "outputs": [],
   "source": [
    "driver=webdriver.Chrome(\"chromedriver.exe\")"
   ]
  },
  {
   "cell_type": "code",
   "execution_count": 256,
   "metadata": {},
   "outputs": [],
   "source": [
    "url='https://www.glassdoor.co.in/Salaries/index.htm'\n",
    "driver.get(url)"
   ]
  },
  {
   "cell_type": "code",
   "execution_count": 257,
   "metadata": {},
   "outputs": [],
   "source": [
    "job_id=driver.find_element_by_id(\"KeywordSearch\")\n",
    "job_id.click()"
   ]
  },
  {
   "cell_type": "code",
   "execution_count": 258,
   "metadata": {},
   "outputs": [],
   "source": [
    "job_id.send_keys(\"Data Scientist\")"
   ]
  },
  {
   "cell_type": "code",
   "execution_count": 259,
   "metadata": {},
   "outputs": [],
   "source": [
    "location_search=driver.find_element_by_id(\"LocationSearch\")\n",
    "location_search.clear()"
   ]
  },
  {
   "cell_type": "code",
   "execution_count": 260,
   "metadata": {},
   "outputs": [],
   "source": [
    "location_search.send_keys(\"Noida\")"
   ]
  },
  {
   "cell_type": "code",
   "execution_count": 261,
   "metadata": {},
   "outputs": [],
   "source": [
    "search=driver.find_element_by_id(\"HeroSearchButton\")\n",
    "search.click()"
   ]
  },
  {
   "cell_type": "code",
   "execution_count": 262,
   "metadata": {},
   "outputs": [
    {
     "data": {
      "text/plain": [
       "<selenium.webdriver.remote.webelement.WebElement (session=\"f25d12e7911908272407dc9ecccf0104\", element=\"7d6b01b6-f20a-40ab-a28c-5b9dd78bd9e9\")>"
      ]
     },
     "execution_count": 262,
     "metadata": {},
     "output_type": "execute_result"
    }
   ],
   "source": [
    "email=driver.find_elements_by_xpath(\"//div[@class='mt-std d-flex justify-content-center']\")\n",
    "email[0]"
   ]
  },
  {
   "cell_type": "code",
   "execution_count": 268,
   "metadata": {},
   "outputs": [],
   "source": [
    "search_btn=driver.find_element_by_xpath(\"//button[@class='gd-ui-button  css-1vkuk21']\")\n",
    "search_btn.click()"
   ]
  },
  {
   "cell_type": "code",
   "execution_count": 271,
   "metadata": {},
   "outputs": [
    {
     "data": {
      "text/plain": [
       "[<selenium.webdriver.remote.webelement.WebElement (session=\"f25d12e7911908272407dc9ecccf0104\", element=\"1e7287b4-1dc3-47e7-bde0-0d8b782e64d1\")>,\n",
       " <selenium.webdriver.remote.webelement.WebElement (session=\"f25d12e7911908272407dc9ecccf0104\", element=\"63ad55aa-f4d6-4db0-8820-61e783977b6c\")>,\n",
       " <selenium.webdriver.remote.webelement.WebElement (session=\"f25d12e7911908272407dc9ecccf0104\", element=\"786c4805-7d7c-4ee9-a581-954e53c4bf11\")>,\n",
       " <selenium.webdriver.remote.webelement.WebElement (session=\"f25d12e7911908272407dc9ecccf0104\", element=\"f6a2481f-0aff-40cf-b312-e638acd6460d\")>,\n",
       " <selenium.webdriver.remote.webelement.WebElement (session=\"f25d12e7911908272407dc9ecccf0104\", element=\"aa9b22a4-b487-40e4-98d0-66b3f46d00e8\")>,\n",
       " <selenium.webdriver.remote.webelement.WebElement (session=\"f25d12e7911908272407dc9ecccf0104\", element=\"558f039b-e40d-41ce-b4fc-1604c80d1bc4\")>,\n",
       " <selenium.webdriver.remote.webelement.WebElement (session=\"f25d12e7911908272407dc9ecccf0104\", element=\"ad8258a4-3c54-4c47-b015-b8f45e2f3e2d\")>,\n",
       " <selenium.webdriver.remote.webelement.WebElement (session=\"f25d12e7911908272407dc9ecccf0104\", element=\"4d9a0a4d-bbf7-4443-a1bd-101b0adea094\")>,\n",
       " <selenium.webdriver.remote.webelement.WebElement (session=\"f25d12e7911908272407dc9ecccf0104\", element=\"e017a227-f592-4d8b-9a52-3ab0aa68a7cf\")>,\n",
       " <selenium.webdriver.remote.webelement.WebElement (session=\"f25d12e7911908272407dc9ecccf0104\", element=\"f0c5bf5d-8124-45fd-8eab-92f97eefe86d\")>,\n",
       " <selenium.webdriver.remote.webelement.WebElement (session=\"f25d12e7911908272407dc9ecccf0104\", element=\"302a7c23-8baa-4664-8cc4-8f776623d626\")>,\n",
       " <selenium.webdriver.remote.webelement.WebElement (session=\"f25d12e7911908272407dc9ecccf0104\", element=\"79edcf83-3028-485f-aa82-ba74d6747001\")>,\n",
       " <selenium.webdriver.remote.webelement.WebElement (session=\"f25d12e7911908272407dc9ecccf0104\", element=\"de3d8b53-fa12-4767-a6b0-49a5085daf3f\")>,\n",
       " <selenium.webdriver.remote.webelement.WebElement (session=\"f25d12e7911908272407dc9ecccf0104\", element=\"b20dc46c-01ff-4b57-b496-2b6e88eefafe\")>,\n",
       " <selenium.webdriver.remote.webelement.WebElement (session=\"f25d12e7911908272407dc9ecccf0104\", element=\"4bba2c55-77bd-47be-bafd-e68c652601a3\")>,\n",
       " <selenium.webdriver.remote.webelement.WebElement (session=\"f25d12e7911908272407dc9ecccf0104\", element=\"b4224536-190c-418a-97f7-599a27ca92bf\")>,\n",
       " <selenium.webdriver.remote.webelement.WebElement (session=\"f25d12e7911908272407dc9ecccf0104\", element=\"a9862e47-24ea-457d-9913-00225a3922a3\")>,\n",
       " <selenium.webdriver.remote.webelement.WebElement (session=\"f25d12e7911908272407dc9ecccf0104\", element=\"a48e9b0a-39cc-4e52-b6e9-eee6ba56cbc4\")>,\n",
       " <selenium.webdriver.remote.webelement.WebElement (session=\"f25d12e7911908272407dc9ecccf0104\", element=\"f5909187-a560-4fe0-97d4-ba628e08c513\")>,\n",
       " <selenium.webdriver.remote.webelement.WebElement (session=\"f25d12e7911908272407dc9ecccf0104\", element=\"c737af17-c948-44ca-953e-507a15ee5a46\")>]"
      ]
     },
     "execution_count": 271,
     "metadata": {},
     "output_type": "execute_result"
    }
   ],
   "source": [
    "company_name=driver.find_elements_by_xpath(\"//a[@class='css-f3vw95 e1aj7ssy3']\")\n",
    "company_name"
   ]
  },
  {
   "cell_type": "code",
   "execution_count": 274,
   "metadata": {},
   "outputs": [
    {
     "data": {
      "text/plain": [
       "['IBM',\n",
       " 'Tata Consultancy Services',\n",
       " 'Mu Sigma',\n",
       " 'Accenture',\n",
       " 'Cognizant Technology Solutions',\n",
       " 'Infosys',\n",
       " 'Fractal',\n",
       " 'Capgemini',\n",
       " 'Amazon',\n",
       " 'Wipro',\n",
       " 'Impact Analytics',\n",
       " 'Ericsson-Worldwide',\n",
       " 'Microsoft',\n",
       " 'Jio',\n",
       " 'Google',\n",
       " 'Tech Mahindra',\n",
       " 'Embibe',\n",
       " 'Deloitte',\n",
       " 'Anheuser-Busch InBev',\n",
       " 'ZS Associates']"
      ]
     },
     "execution_count": 274,
     "metadata": {},
     "output_type": "execute_result"
    }
   ],
   "source": [
    "companyname=[]\n",
    "for i in company_name:\n",
    "    companyname.append(i.text)\n",
    "companyname"
   ]
  },
  {
   "cell_type": "code",
   "execution_count": 275,
   "metadata": {},
   "outputs": [
    {
     "data": {
      "text/plain": [
       "[<selenium.webdriver.remote.webelement.WebElement (session=\"f25d12e7911908272407dc9ecccf0104\", element=\"4f430175-3aec-43bf-8d5f-0116c086bb7d\")>,\n",
       " <selenium.webdriver.remote.webelement.WebElement (session=\"f25d12e7911908272407dc9ecccf0104\", element=\"add01be0-7b17-48bd-927b-8a96260a5f9c\")>,\n",
       " <selenium.webdriver.remote.webelement.WebElement (session=\"f25d12e7911908272407dc9ecccf0104\", element=\"ab563f18-9c63-46d7-b894-488694b22540\")>,\n",
       " <selenium.webdriver.remote.webelement.WebElement (session=\"f25d12e7911908272407dc9ecccf0104\", element=\"c22fb2c1-b2b1-4393-ab3f-9a5852a1fc9c\")>,\n",
       " <selenium.webdriver.remote.webelement.WebElement (session=\"f25d12e7911908272407dc9ecccf0104\", element=\"66a95934-48fd-4f46-b7af-63f547575974\")>,\n",
       " <selenium.webdriver.remote.webelement.WebElement (session=\"f25d12e7911908272407dc9ecccf0104\", element=\"df3dfa2b-3486-4bf8-88c1-b9f56449092c\")>,\n",
       " <selenium.webdriver.remote.webelement.WebElement (session=\"f25d12e7911908272407dc9ecccf0104\", element=\"49743871-78c9-47eb-86dd-51f277669dc7\")>,\n",
       " <selenium.webdriver.remote.webelement.WebElement (session=\"f25d12e7911908272407dc9ecccf0104\", element=\"5e979f25-525d-4d26-887d-a42aa95daaf9\")>,\n",
       " <selenium.webdriver.remote.webelement.WebElement (session=\"f25d12e7911908272407dc9ecccf0104\", element=\"2e32f493-b62a-4a6b-aa48-98a3035fc3b4\")>,\n",
       " <selenium.webdriver.remote.webelement.WebElement (session=\"f25d12e7911908272407dc9ecccf0104\", element=\"1855abac-c831-4ae2-a681-f8768c579fd1\")>,\n",
       " <selenium.webdriver.remote.webelement.WebElement (session=\"f25d12e7911908272407dc9ecccf0104\", element=\"4eee4e61-70b4-4561-9858-35b090b6f412\")>,\n",
       " <selenium.webdriver.remote.webelement.WebElement (session=\"f25d12e7911908272407dc9ecccf0104\", element=\"0aa81d1d-f751-402a-af70-e9b782fba138\")>,\n",
       " <selenium.webdriver.remote.webelement.WebElement (session=\"f25d12e7911908272407dc9ecccf0104\", element=\"3880d524-9c2f-4228-8c6c-a5b81fe860f3\")>,\n",
       " <selenium.webdriver.remote.webelement.WebElement (session=\"f25d12e7911908272407dc9ecccf0104\", element=\"86c19e97-d0e0-4be9-a1c9-6682f59c8dce\")>,\n",
       " <selenium.webdriver.remote.webelement.WebElement (session=\"f25d12e7911908272407dc9ecccf0104\", element=\"4dc5744a-030e-49c5-aa48-a53a5bc9af5f\")>,\n",
       " <selenium.webdriver.remote.webelement.WebElement (session=\"f25d12e7911908272407dc9ecccf0104\", element=\"82551913-cdeb-43e1-82f5-92986243d7b6\")>,\n",
       " <selenium.webdriver.remote.webelement.WebElement (session=\"f25d12e7911908272407dc9ecccf0104\", element=\"95079b10-c329-49d1-93c6-54b8b96b9e99\")>,\n",
       " <selenium.webdriver.remote.webelement.WebElement (session=\"f25d12e7911908272407dc9ecccf0104\", element=\"e8bd562d-a76c-4b04-8561-af844dd0111a\")>,\n",
       " <selenium.webdriver.remote.webelement.WebElement (session=\"f25d12e7911908272407dc9ecccf0104\", element=\"60d7781b-cfa9-41a8-9ac8-430c6d2921be\")>,\n",
       " <selenium.webdriver.remote.webelement.WebElement (session=\"f25d12e7911908272407dc9ecccf0104\", element=\"9dc9982f-3f0c-4771-814b-8bff5ac6330f\")>]"
      ]
     },
     "execution_count": 275,
     "metadata": {},
     "output_type": "execute_result"
    }
   ],
   "source": [
    "average_salary=driver.find_elements_by_xpath(\"//div[@class='col-12 col-lg-4 px-lg-0 d-flex align-items-baseline']\")\n",
    "average_salary"
   ]
  },
  {
   "cell_type": "code",
   "execution_count": 276,
   "metadata": {},
   "outputs": [
    {
     "data": {
      "text/plain": [
       "['₹10,67,758\\n /yr',\n",
       " '₹6,52,075\\n /yr',\n",
       " '₹6,28,073\\n /yr',\n",
       " '₹10,12,340\\n /yr',\n",
       " '₹8,62,110\\n /yr',\n",
       " '₹8,72,024\\n /yr',\n",
       " '₹14,91,226\\n /yr',\n",
       " '₹9,50,923\\n /yr',\n",
       " '₹13,97,321\\n /yr',\n",
       " '₹9,41,910\\n /yr',\n",
       " '₹6,54,456\\n /yr',\n",
       " '₹9,56,662\\n /yr',\n",
       " '₹16,69,437\\n /yr',\n",
       " '₹12,32,601\\n /yr',\n",
       " '₹13,21,339\\n /yr',\n",
       " '₹7,46,114\\n /yr',\n",
       " '₹13,70,733\\n /yr',\n",
       " '₹11,99,478\\n /yr',\n",
       " '₹16,12,132\\n /yr',\n",
       " '₹12,37,508\\n /yr']"
      ]
     },
     "execution_count": 276,
     "metadata": {},
     "output_type": "execute_result"
    }
   ],
   "source": [
    "Averagesalary=[]\n",
    "for i in average_salary:\n",
    "    Averagesalary.append(i.text)\n",
    "Averagesalary"
   ]
  },
  {
   "cell_type": "code",
   "execution_count": 277,
   "metadata": {},
   "outputs": [
    {
     "data": {
      "text/plain": [
       "[<selenium.webdriver.remote.webelement.WebElement (session=\"f25d12e7911908272407dc9ecccf0104\", element=\"66ff2432-7d81-4c79-b710-b333007ee0eb\")>,\n",
       " <selenium.webdriver.remote.webelement.WebElement (session=\"f25d12e7911908272407dc9ecccf0104\", element=\"27edbed8-b46c-4a3a-9a55-d9838df005bb\")>,\n",
       " <selenium.webdriver.remote.webelement.WebElement (session=\"f25d12e7911908272407dc9ecccf0104\", element=\"88df14a1-38b0-436f-be6c-f71f43febb58\")>,\n",
       " <selenium.webdriver.remote.webelement.WebElement (session=\"f25d12e7911908272407dc9ecccf0104\", element=\"2cc3485e-36fe-4ac2-9c7d-355031b03be0\")>,\n",
       " <selenium.webdriver.remote.webelement.WebElement (session=\"f25d12e7911908272407dc9ecccf0104\", element=\"f0b07814-1cf3-46fe-9ef5-1846caaffe87\")>,\n",
       " <selenium.webdriver.remote.webelement.WebElement (session=\"f25d12e7911908272407dc9ecccf0104\", element=\"27ca8567-0139-40f4-bf4c-81a67cb16b28\")>,\n",
       " <selenium.webdriver.remote.webelement.WebElement (session=\"f25d12e7911908272407dc9ecccf0104\", element=\"8f1aaecc-284b-407c-bfb9-3943f7392f12\")>,\n",
       " <selenium.webdriver.remote.webelement.WebElement (session=\"f25d12e7911908272407dc9ecccf0104\", element=\"5f11437b-a823-4dca-891c-d173eccc7d9c\")>,\n",
       " <selenium.webdriver.remote.webelement.WebElement (session=\"f25d12e7911908272407dc9ecccf0104\", element=\"7bcef8c7-e76f-4913-afb3-c6c4549bda36\")>,\n",
       " <selenium.webdriver.remote.webelement.WebElement (session=\"f25d12e7911908272407dc9ecccf0104\", element=\"a3ec8f2d-8bf7-4dfa-ad98-3877211d8155\")>,\n",
       " <selenium.webdriver.remote.webelement.WebElement (session=\"f25d12e7911908272407dc9ecccf0104\", element=\"a11441b1-4bc4-420e-aa12-9d0f9a46bc12\")>,\n",
       " <selenium.webdriver.remote.webelement.WebElement (session=\"f25d12e7911908272407dc9ecccf0104\", element=\"41b9ceb2-5a2b-46bf-a67f-630c61d3e473\")>,\n",
       " <selenium.webdriver.remote.webelement.WebElement (session=\"f25d12e7911908272407dc9ecccf0104\", element=\"125e9861-bc85-47d1-a680-813679483a12\")>,\n",
       " <selenium.webdriver.remote.webelement.WebElement (session=\"f25d12e7911908272407dc9ecccf0104\", element=\"d739e03f-affb-4bb8-867b-64f4cab7c941\")>,\n",
       " <selenium.webdriver.remote.webelement.WebElement (session=\"f25d12e7911908272407dc9ecccf0104\", element=\"09c847f4-81c3-4bb9-b91d-f65ffc5bc078\")>,\n",
       " <selenium.webdriver.remote.webelement.WebElement (session=\"f25d12e7911908272407dc9ecccf0104\", element=\"9c6e03b8-a10d-491b-ab6e-5c2df70a931d\")>,\n",
       " <selenium.webdriver.remote.webelement.WebElement (session=\"f25d12e7911908272407dc9ecccf0104\", element=\"e59b7078-2f85-43b7-a56b-273ac3426e58\")>,\n",
       " <selenium.webdriver.remote.webelement.WebElement (session=\"f25d12e7911908272407dc9ecccf0104\", element=\"8236c21a-a0e6-4896-a6aa-f3be65c3005b\")>,\n",
       " <selenium.webdriver.remote.webelement.WebElement (session=\"f25d12e7911908272407dc9ecccf0104\", element=\"7a63e62d-57f7-4c33-8b59-5eb51e5b9753\")>,\n",
       " <selenium.webdriver.remote.webelement.WebElement (session=\"f25d12e7911908272407dc9ecccf0104\", element=\"9a345272-586d-453e-8124-e1caaa5f6422\")>]"
      ]
     },
     "execution_count": 277,
     "metadata": {},
     "output_type": "execute_result"
    }
   ],
   "source": [
    "company_rating=driver.find_elements_by_xpath(\"//div[@class='d-flex align-items-center mt-xxsm']\")\n",
    "company_rating"
   ]
  },
  {
   "cell_type": "code",
   "execution_count": 278,
   "metadata": {},
   "outputs": [
    {
     "data": {
      "text/plain": [
       "['3.9\\n★',\n",
       " '3.9\\n★',\n",
       " '3.3\\n★',\n",
       " '4\\n★',\n",
       " '3.8\\n★',\n",
       " '3.4\\n★',\n",
       " '4\\n★',\n",
       " '3.8\\n★',\n",
       " '3.8\\n★',\n",
       " '3.4\\n★',\n",
       " '4.1\\n★',\n",
       " '4\\n★',\n",
       " '4.4\\n★',\n",
       " '3.7\\n★',\n",
       " '4.5\\n★',\n",
       " '3.6\\n★',\n",
       " '4.4\\n★',\n",
       " '3.9\\n★',\n",
       " '3.7\\n★',\n",
       " '4\\n★']"
      ]
     },
     "execution_count": 278,
     "metadata": {},
     "output_type": "execute_result"
    }
   ],
   "source": [
    "ratings=[]\n",
    "for i in company_rating:\n",
    "    ratings.append(i.text)\n",
    "ratings"
   ]
  },
  {
   "cell_type": "code",
   "execution_count": 279,
   "metadata": {},
   "outputs": [
    {
     "data": {
      "text/plain": [
       "[<selenium.webdriver.remote.webelement.WebElement (session=\"f25d12e7911908272407dc9ecccf0104\", element=\"e6d65e61-3e4a-4471-8978-afaa80170797\")>,\n",
       " <selenium.webdriver.remote.webelement.WebElement (session=\"f25d12e7911908272407dc9ecccf0104\", element=\"98e7410e-9f46-408e-bf65-72b888bafcc9\")>,\n",
       " <selenium.webdriver.remote.webelement.WebElement (session=\"f25d12e7911908272407dc9ecccf0104\", element=\"31a68dbb-5d8d-4413-81b5-61485f2d30b8\")>,\n",
       " <selenium.webdriver.remote.webelement.WebElement (session=\"f25d12e7911908272407dc9ecccf0104\", element=\"1e1b5f82-74f5-44f4-b816-97c9eeb4d2d9\")>,\n",
       " <selenium.webdriver.remote.webelement.WebElement (session=\"f25d12e7911908272407dc9ecccf0104\", element=\"515b1b1b-d382-4022-beaf-fad7ce40b92c\")>,\n",
       " <selenium.webdriver.remote.webelement.WebElement (session=\"f25d12e7911908272407dc9ecccf0104\", element=\"89c86981-be4d-4850-a22b-03d64ef897ed\")>,\n",
       " <selenium.webdriver.remote.webelement.WebElement (session=\"f25d12e7911908272407dc9ecccf0104\", element=\"32b085d1-1856-4788-a019-a8a3ff5ddb05\")>,\n",
       " <selenium.webdriver.remote.webelement.WebElement (session=\"f25d12e7911908272407dc9ecccf0104\", element=\"44e94be2-a084-46dd-be88-661713b82925\")>,\n",
       " <selenium.webdriver.remote.webelement.WebElement (session=\"f25d12e7911908272407dc9ecccf0104\", element=\"16d1ba4f-6c30-48cd-b5f8-f4d049450b76\")>,\n",
       " <selenium.webdriver.remote.webelement.WebElement (session=\"f25d12e7911908272407dc9ecccf0104\", element=\"7d20819a-855a-4033-86a1-78b98e371b5b\")>,\n",
       " <selenium.webdriver.remote.webelement.WebElement (session=\"f25d12e7911908272407dc9ecccf0104\", element=\"b2776108-9c49-4820-99e2-3d144bf3e47e\")>,\n",
       " <selenium.webdriver.remote.webelement.WebElement (session=\"f25d12e7911908272407dc9ecccf0104\", element=\"2f266f24-2766-4cd9-bf50-6de40d026d3c\")>,\n",
       " <selenium.webdriver.remote.webelement.WebElement (session=\"f25d12e7911908272407dc9ecccf0104\", element=\"06729053-0da8-4414-8913-d9eaa2a41ba5\")>,\n",
       " <selenium.webdriver.remote.webelement.WebElement (session=\"f25d12e7911908272407dc9ecccf0104\", element=\"23c6f539-7989-4f15-9b4e-1a4a884fa9f3\")>,\n",
       " <selenium.webdriver.remote.webelement.WebElement (session=\"f25d12e7911908272407dc9ecccf0104\", element=\"117110bd-bbed-4546-9f66-f20cfae39d01\")>,\n",
       " <selenium.webdriver.remote.webelement.WebElement (session=\"f25d12e7911908272407dc9ecccf0104\", element=\"e59a2128-00ac-44a5-a2e7-b8b8c8df9ae6\")>,\n",
       " <selenium.webdriver.remote.webelement.WebElement (session=\"f25d12e7911908272407dc9ecccf0104\", element=\"1d5eb3c2-9531-4c74-b64f-d2c1474932c2\")>,\n",
       " <selenium.webdriver.remote.webelement.WebElement (session=\"f25d12e7911908272407dc9ecccf0104\", element=\"7188dd53-316d-4f7e-8749-c9638cde3c58\")>,\n",
       " <selenium.webdriver.remote.webelement.WebElement (session=\"f25d12e7911908272407dc9ecccf0104\", element=\"5bfa65a6-6b38-4b42-9685-89244b3e28a0\")>,\n",
       " <selenium.webdriver.remote.webelement.WebElement (session=\"f25d12e7911908272407dc9ecccf0104\", element=\"14fb19a5-c9d2-4c7f-8d20-d4a6bb76ae49\")>]"
      ]
     },
     "execution_count": 279,
     "metadata": {},
     "output_type": "execute_result"
    }
   ],
   "source": [
    "minmax_salary=driver.find_elements_by_xpath(\"//span[@class='d-block d-lg-none m-0 css-1b6bxoo']\")\n",
    "minmax_salary"
   ]
  },
  {
   "cell_type": "code",
   "execution_count": 289,
   "metadata": {},
   "outputs": [
    {
     "data": {
      "text/plain": [
       "[' ₹2L ',\n",
       " ' ₹2L ',\n",
       " ' ₹3L ',\n",
       " ' ₹2L ',\n",
       " ' ₹3L ',\n",
       " ' ₹2L ',\n",
       " ' ₹6L ',\n",
       " ' ₹4L ',\n",
       " ' ₹6L ',\n",
       " ' ₹3L ',\n",
       " ' ₹5L ',\n",
       " ' ₹4L ',\n",
       " ' ₹2L ',\n",
       " ' ₹3L ',\n",
       " ' ₹3L ',\n",
       " ' ₹4L ',\n",
       " ' ₹9L ',\n",
       " ' ₹5L ',\n",
       " ' ₹12L ',\n",
       " ' ₹4L ']"
      ]
     },
     "execution_count": 289,
     "metadata": {},
     "output_type": "execute_result"
    }
   ],
   "source": [
    "min=[]\n",
    "for i in minmax_salary:\n",
    "    min.append(i.text.replace('Range:',\"\").split('-')[0])\n",
    "min"
   ]
  },
  {
   "cell_type": "code",
   "execution_count": 282,
   "metadata": {},
   "outputs": [
    {
     "data": {
      "text/plain": [
       "[' ₹43L',\n",
       " ' ₹25L',\n",
       " ' ₹47L',\n",
       " ' ₹31L',\n",
       " ' ₹36L',\n",
       " ' ₹32L',\n",
       " ' ₹21L',\n",
       " ' ₹24L',\n",
       " ' ₹34L',\n",
       " ' ₹28L',\n",
       " ' ₹9L',\n",
       " ' ₹30L',\n",
       " ' ₹34L',\n",
       " ' ₹23L',\n",
       " ' ₹71L',\n",
       " ' ₹22L',\n",
       " ' ₹21L',\n",
       " ' ₹21L',\n",
       " ' ₹19L',\n",
       " ' ₹22L']"
      ]
     },
     "execution_count": 282,
     "metadata": {},
     "output_type": "execute_result"
    }
   ],
   "source": [
    "max=[]\n",
    "for i in minmax_salary:\n",
    "    max.append(i.text.split('-')[1])\n",
    "max"
   ]
  },
  {
   "cell_type": "code",
   "execution_count": 290,
   "metadata": {},
   "outputs": [
    {
     "data": {
      "text/html": [
       "<div>\n",
       "<style scoped>\n",
       "    .dataframe tbody tr th:only-of-type {\n",
       "        vertical-align: middle;\n",
       "    }\n",
       "\n",
       "    .dataframe tbody tr th {\n",
       "        vertical-align: top;\n",
       "    }\n",
       "\n",
       "    .dataframe thead th {\n",
       "        text-align: right;\n",
       "    }\n",
       "</style>\n",
       "<table border=\"1\" class=\"dataframe\">\n",
       "  <thead>\n",
       "    <tr style=\"text-align: right;\">\n",
       "      <th></th>\n",
       "      <th>Company Name</th>\n",
       "      <th>Average Salary</th>\n",
       "      <th>Rating</th>\n",
       "      <th>Min Salary</th>\n",
       "      <th>Max Salary</th>\n",
       "    </tr>\n",
       "  </thead>\n",
       "  <tbody>\n",
       "    <tr>\n",
       "      <th>0</th>\n",
       "      <td>IBM</td>\n",
       "      <td>₹10,67,758\\n /yr</td>\n",
       "      <td>3.9\\n★</td>\n",
       "      <td>₹2L</td>\n",
       "      <td>₹43L</td>\n",
       "    </tr>\n",
       "    <tr>\n",
       "      <th>1</th>\n",
       "      <td>Tata Consultancy Services</td>\n",
       "      <td>₹6,52,075\\n /yr</td>\n",
       "      <td>3.9\\n★</td>\n",
       "      <td>₹2L</td>\n",
       "      <td>₹25L</td>\n",
       "    </tr>\n",
       "    <tr>\n",
       "      <th>2</th>\n",
       "      <td>Mu Sigma</td>\n",
       "      <td>₹6,28,073\\n /yr</td>\n",
       "      <td>3.3\\n★</td>\n",
       "      <td>₹3L</td>\n",
       "      <td>₹47L</td>\n",
       "    </tr>\n",
       "    <tr>\n",
       "      <th>3</th>\n",
       "      <td>Accenture</td>\n",
       "      <td>₹10,12,340\\n /yr</td>\n",
       "      <td>4\\n★</td>\n",
       "      <td>₹2L</td>\n",
       "      <td>₹31L</td>\n",
       "    </tr>\n",
       "    <tr>\n",
       "      <th>4</th>\n",
       "      <td>Cognizant Technology Solutions</td>\n",
       "      <td>₹8,62,110\\n /yr</td>\n",
       "      <td>3.8\\n★</td>\n",
       "      <td>₹3L</td>\n",
       "      <td>₹36L</td>\n",
       "    </tr>\n",
       "    <tr>\n",
       "      <th>5</th>\n",
       "      <td>Infosys</td>\n",
       "      <td>₹8,72,024\\n /yr</td>\n",
       "      <td>3.4\\n★</td>\n",
       "      <td>₹2L</td>\n",
       "      <td>₹32L</td>\n",
       "    </tr>\n",
       "    <tr>\n",
       "      <th>6</th>\n",
       "      <td>Fractal</td>\n",
       "      <td>₹14,91,226\\n /yr</td>\n",
       "      <td>4\\n★</td>\n",
       "      <td>₹6L</td>\n",
       "      <td>₹21L</td>\n",
       "    </tr>\n",
       "    <tr>\n",
       "      <th>7</th>\n",
       "      <td>Capgemini</td>\n",
       "      <td>₹9,50,923\\n /yr</td>\n",
       "      <td>3.8\\n★</td>\n",
       "      <td>₹4L</td>\n",
       "      <td>₹24L</td>\n",
       "    </tr>\n",
       "    <tr>\n",
       "      <th>8</th>\n",
       "      <td>Amazon</td>\n",
       "      <td>₹13,97,321\\n /yr</td>\n",
       "      <td>3.8\\n★</td>\n",
       "      <td>₹6L</td>\n",
       "      <td>₹34L</td>\n",
       "    </tr>\n",
       "    <tr>\n",
       "      <th>9</th>\n",
       "      <td>Wipro</td>\n",
       "      <td>₹9,41,910\\n /yr</td>\n",
       "      <td>3.4\\n★</td>\n",
       "      <td>₹3L</td>\n",
       "      <td>₹28L</td>\n",
       "    </tr>\n",
       "  </tbody>\n",
       "</table>\n",
       "</div>"
      ],
      "text/plain": [
       "                     Company Name    Average Salary  Rating Min Salary  \\\n",
       "0                             IBM  ₹10,67,758\\n /yr  3.9\\n★       ₹2L    \n",
       "1       Tata Consultancy Services   ₹6,52,075\\n /yr  3.9\\n★       ₹2L    \n",
       "2                        Mu Sigma   ₹6,28,073\\n /yr  3.3\\n★       ₹3L    \n",
       "3                       Accenture  ₹10,12,340\\n /yr    4\\n★       ₹2L    \n",
       "4  Cognizant Technology Solutions   ₹8,62,110\\n /yr  3.8\\n★       ₹3L    \n",
       "5                         Infosys   ₹8,72,024\\n /yr  3.4\\n★       ₹2L    \n",
       "6                         Fractal  ₹14,91,226\\n /yr    4\\n★       ₹6L    \n",
       "7                       Capgemini   ₹9,50,923\\n /yr  3.8\\n★       ₹4L    \n",
       "8                          Amazon  ₹13,97,321\\n /yr  3.8\\n★       ₹6L    \n",
       "9                           Wipro   ₹9,41,910\\n /yr  3.4\\n★       ₹3L    \n",
       "\n",
       "  Max Salary  \n",
       "0       ₹43L  \n",
       "1       ₹25L  \n",
       "2       ₹47L  \n",
       "3       ₹31L  \n",
       "4       ₹36L  \n",
       "5       ₹32L  \n",
       "6       ₹21L  \n",
       "7       ₹24L  \n",
       "8       ₹34L  \n",
       "9       ₹28L  "
      ]
     },
     "execution_count": 290,
     "metadata": {},
     "output_type": "execute_result"
    }
   ],
   "source": [
    "import pandas as pd\n",
    "glassdoor=pd.DataFrame({})\n",
    "glassdoor['Company Name']=companyname\n",
    "glassdoor['Average Salary']=Averagesalary\n",
    "glassdoor['Rating']=ratings\n",
    "glassdoor['Min Salary']=min\n",
    "glassdoor['Max Salary']=max\n",
    "glassdoor.head(10)"
   ]
  },
  {
   "cell_type": "markdown",
   "metadata": {},
   "source": [
    "# Q6 scrape Brand,Product Description,price and Discount on filpkart website"
   ]
  },
  {
   "cell_type": "code",
   "execution_count": 67,
   "metadata": {},
   "outputs": [
    {
     "name": "stdout",
     "output_type": "stream",
     "text": [
      "Requirement already satisfied: selenium in c:\\jpytr notebook\\lib\\site-packages (3.141.0)\n",
      "Requirement already satisfied: urllib3 in c:\\jpytr notebook\\lib\\site-packages (from selenium) (1.25.11)\n"
     ]
    }
   ],
   "source": [
    "#install selenium\n",
    "!pip install selenium"
   ]
  },
  {
   "cell_type": "code",
   "execution_count": 68,
   "metadata": {},
   "outputs": [],
   "source": [
    "import selenium\n",
    "from selenium import webdriver \n",
    "import time\n",
    "from selenium.common.exceptions import NoSuchElementException\n",
    "driver=webdriver.Chrome(\"chromedriver.exe\")\n",
    "\n"
   ]
  },
  {
   "cell_type": "code",
   "execution_count": 69,
   "metadata": {},
   "outputs": [],
   "source": [
    "url=\"https://www.flipkart.com/\"\n",
    "driver.get(url)"
   ]
  },
  {
   "cell_type": "code",
   "execution_count": 70,
   "metadata": {},
   "outputs": [],
   "source": [
    "cross_click=driver.find_element_by_xpath(\"//button[@class='_2KpZ6l _2doB4z']\")\n",
    "cross_click.click()"
   ]
  },
  {
   "cell_type": "code",
   "execution_count": 71,
   "metadata": {},
   "outputs": [],
   "source": [
    "search=driver.find_element_by_xpath(\"//input[@class='_3704LK']\")\n",
    "search.click()"
   ]
  },
  {
   "cell_type": "code",
   "execution_count": 72,
   "metadata": {},
   "outputs": [],
   "source": [
    "search.send_keys(\"sunglasses\")\n"
   ]
  },
  {
   "cell_type": "code",
   "execution_count": 73,
   "metadata": {},
   "outputs": [],
   "source": [
    "search_btn=driver.find_element_by_xpath(\"//button[@class='L0Z3Pu']\")\n",
    "search_btn.click()"
   ]
  },
  {
   "cell_type": "code",
   "execution_count": 74,
   "metadata": {},
   "outputs": [
    {
     "name": "stdout",
     "output_type": "stream",
     "text": [
      "enter number ofpages3\n",
      "glasses in page1\n",
      "40\n",
      "40\n",
      "40\n",
      "glasses in page2\n",
      "40\n",
      "40\n",
      "40\n",
      "glasses in page3\n",
      "40\n",
      "40\n",
      "40\n"
     ]
    }
   ],
   "source": [
    "page_num=input(\"enter number ofpages\")\n",
    "brandname=[]\n",
    "price=[]\n",
    "discount=[]\n",
    "brandname_=[] \n",
    "price_=[] \n",
    "discount_=[] \n",
    "\n",
    "for i in range(1,int(page_num)+1):\n",
    "    url=\"https://www.flipkart.com/search?q=sunglasses&otracker=search&otracker1=search&marketplace=FLIPKART&as-show=on&as=off\"+str(i)\n",
    "    driver.get(url)\n",
    "    \n",
    "    brandname=driver.find_elements_by_xpath(\"//div[@class='_2WkVRV']\")\n",
    "    price=driver.find_elements_by_xpath(\"//div[@class='_30jeq3']\")\n",
    "    discount=driver.find_elements_by_xpath(\"//div[@class='_3Ay6Sb']\")\n",
    "    \n",
    "    print(\"glasses in page\"+str(i))\n",
    "    print(len(brandname))\n",
    "    print(len(price))\n",
    "    print(len(discount))\n",
    "    \n",
    "    for i in brandname:\n",
    "        brandname_.append(i.text)\n",
    "    \n",
    "    for i in price:\n",
    "        price_.append(i.text)\n",
    "    \n",
    "    for i in discount:\n",
    "        discount_.append(i.text)\n",
    "    \n",
    "    \n",
    "    \n",
    "        "
   ]
  },
  {
   "cell_type": "code",
   "execution_count": 75,
   "metadata": {},
   "outputs": [
    {
     "name": "stdout",
     "output_type": "stream",
     "text": [
      "LIZA ANGEL\n",
      "PIRASO\n",
      "Fastrack\n",
      "kingsunglasses\n",
      "Fastrack\n",
      "Fastrack\n",
      "Fastrack\n",
      "AISLIN\n",
      "PIRASO\n",
      "Fastrack\n",
      "Fastrack\n",
      "PIRASO\n",
      "kingsunglasses\n",
      "Fastrack\n",
      "Fastrack\n",
      "Wrogn\n",
      "PIRASO\n",
      "kingsunglasses\n",
      "ROZZETTA CRAFT\n",
      "Wrogn\n",
      "kingsunglasses\n",
      "Fastrack\n",
      "Fastrack\n",
      "ROYAL SON\n",
      "Singco India\n",
      "PHENOMENAL\n",
      "PHENOMENAL\n",
      "Wrogn\n",
      "DEIXELS\n",
      "Fastrack\n",
      "HIPPON\n",
      "ROYAL SON\n",
      "NuVew\n",
      "Fastrack\n",
      "PHENOMENAL\n",
      "Wrogn\n",
      "ROZZETTA CRAFT\n",
      "United Colors of Benetton\n",
      "IRUS by IDEE\n",
      "ROZZETTA CRAFT\n",
      "LIZA ANGEL\n",
      "PIRASO\n",
      "Fastrack\n",
      "kingsunglasses\n",
      "Fastrack\n",
      "Fastrack\n",
      "Fastrack\n",
      "AISLIN\n",
      "PIRASO\n",
      "Fastrack\n",
      "kingsunglasses\n",
      "PIRASO\n",
      "Fastrack\n",
      "Fastrack\n",
      "Fastrack\n",
      "Wrogn\n",
      "PIRASO\n",
      "kingsunglasses\n",
      "ROZZETTA CRAFT\n",
      "ROYAL SON\n",
      "Fastrack\n",
      "kingsunglasses\n",
      "Fastrack\n",
      "Wrogn\n",
      "PHENOMENAL\n",
      "Singco India\n",
      "PHENOMENAL\n",
      "ROZZETTA CRAFT\n",
      "DEIXELS\n",
      "NuVew\n",
      "Fastrack\n",
      "ROYAL SON\n",
      "HIPPON\n",
      "Fastrack\n",
      "PHENOMENAL\n",
      "AISLIN\n",
      "ROZZETTA CRAFT\n",
      "Fastrack\n",
      "United Colors of Benetton\n",
      "Wrogn\n",
      "LIZA ANGEL\n",
      "PIRASO\n",
      "Fastrack\n",
      "kingsunglasses\n",
      "Fastrack\n",
      "Fastrack\n",
      "Fastrack\n",
      "AISLIN\n",
      "PIRASO\n",
      "Fastrack\n",
      "kingsunglasses\n",
      "PIRASO\n",
      "Fastrack\n",
      "Fastrack\n",
      "Fastrack\n",
      "Wrogn\n",
      "PIRASO\n",
      "kingsunglasses\n",
      "ROZZETTA CRAFT\n",
      "ROYAL SON\n",
      "Fastrack\n",
      "kingsunglasses\n",
      "Fastrack\n",
      "Wrogn\n",
      "PHENOMENAL\n",
      "Singco India\n",
      "PHENOMENAL\n",
      "ROYAL SON\n",
      "DEIXELS\n",
      "NuVew\n",
      "Fastrack\n",
      "Wrogn\n",
      "HIPPON\n",
      "Fastrack\n",
      "PHENOMENAL\n",
      "Wrogn\n",
      "ROZZETTA CRAFT\n",
      "Fastrack\n",
      "United Colors of Benetton\n",
      "NuVew\n"
     ]
    }
   ],
   "source": [
    " \n",
    "for i in brandname_:\n",
    "    print(i)\n",
    "    \n"
   ]
  },
  {
   "cell_type": "code",
   "execution_count": 76,
   "metadata": {},
   "outputs": [
    {
     "name": "stdout",
     "output_type": "stream",
     "text": [
      "₹233\n",
      "₹250\n",
      "₹459\n",
      "₹299\n",
      "₹513\n",
      "₹558\n",
      "₹682\n",
      "₹498\n",
      "₹250\n",
      "₹439\n",
      "₹459\n",
      "₹250\n",
      "₹349\n",
      "₹569\n",
      "₹1,010\n",
      "₹639\n",
      "₹349\n",
      "₹299\n",
      "₹404\n",
      "₹1,039\n",
      "₹225\n",
      "₹592\n",
      "₹659\n",
      "₹699\n",
      "₹252\n",
      "₹297\n",
      "₹399\n",
      "₹1,139\n",
      "₹213\n",
      "₹1,219\n",
      "₹251\n",
      "₹664\n",
      "₹215\n",
      "₹647\n",
      "₹379\n",
      "₹849\n",
      "₹449\n",
      "₹789\n",
      "₹499\n",
      "₹449\n",
      "₹233\n",
      "₹250\n",
      "₹459\n",
      "₹299\n",
      "₹513\n",
      "₹558\n",
      "₹682\n",
      "₹498\n",
      "₹250\n",
      "₹439\n",
      "₹349\n",
      "₹250\n",
      "₹459\n",
      "₹569\n",
      "₹1,010\n",
      "₹639\n",
      "₹349\n",
      "₹299\n",
      "₹404\n",
      "₹664\n",
      "₹659\n",
      "₹225\n",
      "₹592\n",
      "₹1,039\n",
      "₹399\n",
      "₹252\n",
      "₹297\n",
      "₹399\n",
      "₹213\n",
      "₹215\n",
      "₹1,219\n",
      "₹699\n",
      "₹251\n",
      "₹647\n",
      "₹379\n",
      "₹625\n",
      "₹499\n",
      "₹976\n",
      "₹789\n",
      "₹1,139\n",
      "₹233\n",
      "₹250\n",
      "₹459\n",
      "₹299\n",
      "₹513\n",
      "₹558\n",
      "₹682\n",
      "₹498\n",
      "₹250\n",
      "₹439\n",
      "₹349\n",
      "₹250\n",
      "₹459\n",
      "₹569\n",
      "₹1,010\n",
      "₹639\n",
      "₹349\n",
      "₹299\n",
      "₹404\n",
      "₹664\n",
      "₹659\n",
      "₹225\n",
      "₹592\n",
      "₹1,039\n",
      "₹399\n",
      "₹252\n",
      "₹297\n",
      "₹699\n",
      "₹213\n",
      "₹215\n",
      "₹1,219\n",
      "₹1,139\n",
      "₹251\n",
      "₹647\n",
      "₹379\n",
      "₹849\n",
      "₹499\n",
      "₹976\n",
      "₹789\n",
      "₹398\n"
     ]
    }
   ],
   "source": [
    "   \n",
    "for i in price_:\n",
    "    print(i)"
   ]
  },
  {
   "cell_type": "code",
   "execution_count": 77,
   "metadata": {},
   "outputs": [
    {
     "name": "stdout",
     "output_type": "stream",
     "text": [
      "70% off\n",
      "84% off\n",
      "48% off\n",
      "88% off\n",
      "₹286 off\n",
      "₹241 off\n",
      "₹217 off\n",
      "67% off\n",
      "84% off\n",
      "45% off\n",
      "48% off\n",
      "84% off\n",
      "78% off\n",
      "₹330 off\n",
      "₹289 off\n",
      "75% off\n",
      "78% off\n",
      "88% off\n",
      "79% off\n",
      "65% off\n",
      "79% off\n",
      "₹307 off\n",
      "₹240 off\n",
      "65% off\n",
      "83% off\n",
      "87% off\n",
      "80% off\n",
      "64% off\n",
      "82% off\n",
      "41% off\n",
      "79% off\n",
      "55% off\n",
      "72% off\n",
      "₹252 off\n",
      "81% off\n",
      "73% off\n",
      "79% off\n",
      "80% off\n",
      "61% off\n",
      "77% off\n",
      "70% off\n",
      "84% off\n",
      "48% off\n",
      "88% off\n",
      "₹286 off\n",
      "₹241 off\n",
      "₹217 off\n",
      "67% off\n",
      "84% off\n",
      "45% off\n",
      "78% off\n",
      "84% off\n",
      "48% off\n",
      "₹330 off\n",
      "₹289 off\n",
      "75% off\n",
      "78% off\n",
      "88% off\n",
      "79% off\n",
      "55% off\n",
      "₹240 off\n",
      "79% off\n",
      "₹307 off\n",
      "65% off\n",
      "80% off\n",
      "83% off\n",
      "87% off\n",
      "72% off\n",
      "82% off\n",
      "72% off\n",
      "41% off\n",
      "65% off\n",
      "79% off\n",
      "₹252 off\n",
      "81% off\n",
      "70% off\n",
      "77% off\n",
      "₹323 off\n",
      "80% off\n",
      "64% off\n",
      "70% off\n",
      "84% off\n",
      "48% off\n",
      "88% off\n",
      "₹286 off\n",
      "₹241 off\n",
      "₹217 off\n",
      "67% off\n",
      "84% off\n",
      "45% off\n",
      "78% off\n",
      "84% off\n",
      "48% off\n",
      "₹330 off\n",
      "₹289 off\n",
      "75% off\n",
      "78% off\n",
      "88% off\n",
      "79% off\n",
      "55% off\n",
      "₹240 off\n",
      "79% off\n",
      "₹307 off\n",
      "65% off\n",
      "80% off\n",
      "83% off\n",
      "87% off\n",
      "65% off\n",
      "82% off\n",
      "72% off\n",
      "41% off\n",
      "64% off\n",
      "79% off\n",
      "₹252 off\n",
      "81% off\n",
      "73% off\n",
      "77% off\n",
      "₹323 off\n",
      "80% off\n",
      "72% off\n"
     ]
    }
   ],
   "source": [
    "   \n",
    "for i in discount_:\n",
    "    print(i)\n",
    "\n"
   ]
  },
  {
   "cell_type": "code",
   "execution_count": 86,
   "metadata": {},
   "outputs": [],
   "source": [
    "urls=[]\n",
    "for i in driver.find_elements_by_xpath(\"//a[@class='IRpwTa _2-ICcC']\"):\n",
    "    urls.append(i.get_attribute(\"href\"))"
   ]
  },
  {
   "cell_type": "code",
   "execution_count": 87,
   "metadata": {},
   "outputs": [],
   "source": [
    "description_=[]"
   ]
  },
  {
   "cell_type": "code",
   "execution_count": 90,
   "metadata": {},
   "outputs": [],
   "source": [
    "for i in urls[:100]:\n",
    "    driver.get(i)\n",
    "    time.sleep(3)\n",
    "    \n",
    "    try:\n",
    "        desc=driver.find_element_by_xpath(\"//span[@class='B_NuCI']\")\n",
    "        description_.append(desc.text)\n",
    "    except NoSuchElementException:\n",
    "        description_.append('-')\n",
    "        \n"
   ]
  },
  {
   "cell_type": "code",
   "execution_count": 91,
   "metadata": {},
   "outputs": [
    {
     "data": {
      "text/plain": [
       "0"
      ]
     },
     "execution_count": 91,
     "metadata": {},
     "output_type": "execute_result"
    }
   ],
   "source": [
    "len(description_)"
   ]
  },
  {
   "cell_type": "code",
   "execution_count": 92,
   "metadata": {},
   "outputs": [
    {
     "data": {
      "text/html": [
       "<div>\n",
       "<style scoped>\n",
       "    .dataframe tbody tr th:only-of-type {\n",
       "        vertical-align: middle;\n",
       "    }\n",
       "\n",
       "    .dataframe tbody tr th {\n",
       "        vertical-align: top;\n",
       "    }\n",
       "\n",
       "    .dataframe thead th {\n",
       "        text-align: right;\n",
       "    }\n",
       "</style>\n",
       "<table border=\"1\" class=\"dataframe\">\n",
       "  <thead>\n",
       "    <tr style=\"text-align: right;\">\n",
       "      <th></th>\n",
       "      <th>Glasses Brand Name</th>\n",
       "      <th>Glasses price</th>\n",
       "      <th>Glasses discount</th>\n",
       "    </tr>\n",
       "  </thead>\n",
       "  <tbody>\n",
       "    <tr>\n",
       "      <th>0</th>\n",
       "      <td>LIZA ANGEL</td>\n",
       "      <td>₹233</td>\n",
       "      <td>70% off</td>\n",
       "    </tr>\n",
       "    <tr>\n",
       "      <th>1</th>\n",
       "      <td>PIRASO</td>\n",
       "      <td>₹250</td>\n",
       "      <td>84% off</td>\n",
       "    </tr>\n",
       "    <tr>\n",
       "      <th>2</th>\n",
       "      <td>Fastrack</td>\n",
       "      <td>₹459</td>\n",
       "      <td>48% off</td>\n",
       "    </tr>\n",
       "    <tr>\n",
       "      <th>3</th>\n",
       "      <td>kingsunglasses</td>\n",
       "      <td>₹299</td>\n",
       "      <td>88% off</td>\n",
       "    </tr>\n",
       "    <tr>\n",
       "      <th>4</th>\n",
       "      <td>Fastrack</td>\n",
       "      <td>₹513</td>\n",
       "      <td>₹286 off</td>\n",
       "    </tr>\n",
       "    <tr>\n",
       "      <th>...</th>\n",
       "      <td>...</td>\n",
       "      <td>...</td>\n",
       "      <td>...</td>\n",
       "    </tr>\n",
       "    <tr>\n",
       "      <th>95</th>\n",
       "      <td>Wrogn</td>\n",
       "      <td>₹639</td>\n",
       "      <td>75% off</td>\n",
       "    </tr>\n",
       "    <tr>\n",
       "      <th>96</th>\n",
       "      <td>PIRASO</td>\n",
       "      <td>₹349</td>\n",
       "      <td>78% off</td>\n",
       "    </tr>\n",
       "    <tr>\n",
       "      <th>97</th>\n",
       "      <td>kingsunglasses</td>\n",
       "      <td>₹299</td>\n",
       "      <td>88% off</td>\n",
       "    </tr>\n",
       "    <tr>\n",
       "      <th>98</th>\n",
       "      <td>ROZZETTA CRAFT</td>\n",
       "      <td>₹404</td>\n",
       "      <td>79% off</td>\n",
       "    </tr>\n",
       "    <tr>\n",
       "      <th>99</th>\n",
       "      <td>ROYAL SON</td>\n",
       "      <td>₹664</td>\n",
       "      <td>55% off</td>\n",
       "    </tr>\n",
       "  </tbody>\n",
       "</table>\n",
       "<p>100 rows × 3 columns</p>\n",
       "</div>"
      ],
      "text/plain": [
       "   Glasses Brand Name Glasses price Glasses discount\n",
       "0          LIZA ANGEL          ₹233          70% off\n",
       "1              PIRASO          ₹250          84% off\n",
       "2            Fastrack          ₹459          48% off\n",
       "3      kingsunglasses          ₹299          88% off\n",
       "4            Fastrack          ₹513         ₹286 off\n",
       "..                ...           ...              ...\n",
       "95              Wrogn          ₹639          75% off\n",
       "96             PIRASO          ₹349          78% off\n",
       "97     kingsunglasses          ₹299          88% off\n",
       "98     ROZZETTA CRAFT          ₹404          79% off\n",
       "99          ROYAL SON          ₹664          55% off\n",
       "\n",
       "[100 rows x 3 columns]"
      ]
     },
     "execution_count": 92,
     "metadata": {},
     "output_type": "execute_result"
    }
   ],
   "source": [
    "import pandas as pd\n",
    "glasses_detail=pd.DataFrame({})\n",
    "glasses_detail['Glasses Brand Name']=brandname_[:100]\n",
    "glasses_detail['Glasses price']=price_[:100]\n",
    "glasses_detail['Glasses discount']=discount_[:100]\n",
    "#glasses_detail['glasses Description']=description_\n",
    "glasses_detail\n"
   ]
  },
  {
   "cell_type": "markdown",
   "metadata": {},
   "source": [
    "### Q7 Scrape 100 reviews data from flipkart.com for iphone11 phone"
   ]
  },
  {
   "cell_type": "code",
   "execution_count": 1,
   "metadata": {},
   "outputs": [
    {
     "name": "stdout",
     "output_type": "stream",
     "text": [
      "Requirement already satisfied: selenium in c:\\jpytr notebook\\lib\\site-packages (3.141.0)\n",
      "Requirement already satisfied: urllib3 in c:\\jpytr notebook\\lib\\site-packages (from selenium) (1.25.11)\n"
     ]
    }
   ],
   "source": [
    "#install selenium\n",
    "!pip install selenium"
   ]
  },
  {
   "cell_type": "code",
   "execution_count": 2,
   "metadata": {},
   "outputs": [],
   "source": [
    "import pandas as pd\n",
    "import selenium\n",
    "from selenium import webdriver"
   ]
  },
  {
   "cell_type": "code",
   "execution_count": 3,
   "metadata": {},
   "outputs": [],
   "source": [
    "#install chrome drivers\n",
    "driver=webdriver.Chrome(\"chromedriver.exe\")"
   ]
  },
  {
   "cell_type": "code",
   "execution_count": 4,
   "metadata": {},
   "outputs": [],
   "source": [
    "url=\"https://www.flipkart.com/apple-iphone-11-black-64-gb-includesearpods-poweradapter/p/itm0f37c2240b217?pid=MOBFKCTSVZAXUHGR&lid=LSTMOBFKCTSVZAXUHGREPBFGI&marketplace\"\n",
    "driver.get(url)"
   ]
  },
  {
   "cell_type": "code",
   "execution_count": 7,
   "metadata": {},
   "outputs": [],
   "source": [
    "review_click=driver.find_element_by_xpath(\"//div[@class='_3UAT2v _16PBlm']\")\n",
    "review_click.click()"
   ]
  },
  {
   "cell_type": "code",
   "execution_count": 8,
   "metadata": {},
   "outputs": [
    {
     "name": "stdout",
     "output_type": "stream",
     "text": [
      "enter number ofpages10\n",
      "glasses in page1\n",
      "10\n",
      "10\n",
      "10\n",
      "glasses in page2\n",
      "10\n",
      "10\n",
      "10\n",
      "glasses in page3\n",
      "10\n",
      "10\n",
      "10\n",
      "glasses in page4\n",
      "10\n",
      "10\n",
      "10\n",
      "glasses in page5\n",
      "10\n",
      "10\n",
      "10\n",
      "glasses in page6\n",
      "10\n",
      "10\n",
      "10\n",
      "glasses in page7\n",
      "10\n",
      "10\n",
      "10\n",
      "glasses in page8\n",
      "10\n",
      "10\n",
      "10\n",
      "glasses in page9\n",
      "10\n",
      "10\n",
      "10\n",
      "glasses in page10\n",
      "10\n",
      "10\n",
      "10\n"
     ]
    }
   ],
   "source": [
    "page_num=input(\"enter number ofpages\")\n",
    "rating=[]\n",
    "review_summary=[]\n",
    "full_review=[]\n",
    "rating_=[] \n",
    "review_summary_=[] \n",
    "full_review_=[] \n",
    "\n",
    "for i in range(1,int(page_num)+1):\n",
    "    url=\"https://www.flipkart.com/apple-iphone-11-black-64-gb-includes-earpods-power-adapter/product-reviews/itm0f37c2240b217?pid=MOBFKCTSVZAXUHGR&lid=LSTMOBFKCTSVZAXUHGREPBFGI&marketplace=FLIPKART\"+str(i)\n",
    "    driver.get(url)\n",
    "    \n",
    "    rating=driver.find_elements_by_xpath(\"//div[@class='_3LWZlK _1BLPMq']\")\n",
    "    review_summary=driver.find_elements_by_xpath(\"//p[@class='_2-N8zT']\")\n",
    "    full_review=driver.find_elements_by_xpath(\"//div[@class='t-ZTKy']\")\n",
    "    \n",
    "    print(\"glasses in page\"+str(i))\n",
    "    print(len(rating))\n",
    "    print(len(review_summary))\n",
    "    print(len(full_review))\n",
    "    \n",
    "    for i in rating:\n",
    "        rating_.append(i.text)\n",
    "    \n",
    "    for i in review_summary:\n",
    "        review_summary_.append(i.text)\n",
    "    \n",
    "    for i in full_review:\n",
    "        full_review_.append(i.text)"
   ]
  },
  {
   "cell_type": "code",
   "execution_count": 9,
   "metadata": {},
   "outputs": [
    {
     "name": "stdout",
     "output_type": "stream",
     "text": [
      "5\n",
      "5\n",
      "5\n",
      "5\n",
      "5\n",
      "4\n",
      "5\n",
      "5\n",
      "5\n",
      "5\n",
      "5\n",
      "5\n",
      "5\n",
      "5\n",
      "5\n",
      "4\n",
      "5\n",
      "5\n",
      "5\n",
      "5\n",
      "5\n",
      "5\n",
      "5\n",
      "5\n",
      "5\n",
      "4\n",
      "5\n",
      "5\n",
      "5\n",
      "5\n",
      "5\n",
      "5\n",
      "5\n",
      "5\n",
      "5\n",
      "4\n",
      "5\n",
      "5\n",
      "5\n",
      "5\n",
      "5\n",
      "5\n",
      "5\n",
      "5\n",
      "5\n",
      "4\n",
      "5\n",
      "5\n",
      "5\n",
      "5\n",
      "5\n",
      "5\n",
      "5\n",
      "5\n",
      "5\n",
      "4\n",
      "5\n",
      "5\n",
      "5\n",
      "5\n",
      "5\n",
      "5\n",
      "5\n",
      "5\n",
      "5\n",
      "4\n",
      "5\n",
      "5\n",
      "5\n",
      "5\n",
      "5\n",
      "5\n",
      "5\n",
      "5\n",
      "5\n",
      "4\n",
      "5\n",
      "5\n",
      "5\n",
      "5\n",
      "5\n",
      "5\n",
      "5\n",
      "5\n",
      "5\n",
      "4\n",
      "5\n",
      "5\n",
      "5\n",
      "5\n",
      "5\n",
      "5\n",
      "5\n",
      "5\n",
      "5\n",
      "4\n",
      "5\n",
      "5\n",
      "5\n",
      "5\n"
     ]
    }
   ],
   "source": [
    "for i in rating_:\n",
    "    print(i)"
   ]
  },
  {
   "cell_type": "code",
   "execution_count": 10,
   "metadata": {},
   "outputs": [
    {
     "name": "stdout",
     "output_type": "stream",
     "text": [
      "Brilliant\n",
      "Perfect product!\n",
      "Fabulous!\n",
      "Worth every penny\n",
      "Great product\n",
      "Good choice\n",
      "Simply awesome\n",
      "Worth every penny\n",
      "Highly recommended\n",
      "Perfect product!\n",
      "Brilliant\n",
      "Perfect product!\n",
      "Fabulous!\n",
      "Worth every penny\n",
      "Great product\n",
      "Good choice\n",
      "Simply awesome\n",
      "Worth every penny\n",
      "Highly recommended\n",
      "Perfect product!\n",
      "Brilliant\n",
      "Perfect product!\n",
      "Fabulous!\n",
      "Worth every penny\n",
      "Great product\n",
      "Good choice\n",
      "Simply awesome\n",
      "Worth every penny\n",
      "Highly recommended\n",
      "Perfect product!\n",
      "Brilliant\n",
      "Perfect product!\n",
      "Fabulous!\n",
      "Worth every penny\n",
      "Great product\n",
      "Good choice\n",
      "Simply awesome\n",
      "Worth every penny\n",
      "Highly recommended\n",
      "Perfect product!\n",
      "Brilliant\n",
      "Perfect product!\n",
      "Fabulous!\n",
      "Worth every penny\n",
      "Great product\n",
      "Good choice\n",
      "Simply awesome\n",
      "Worth every penny\n",
      "Highly recommended\n",
      "Perfect product!\n",
      "Brilliant\n",
      "Perfect product!\n",
      "Fabulous!\n",
      "Worth every penny\n",
      "Great product\n",
      "Good choice\n",
      "Simply awesome\n",
      "Worth every penny\n",
      "Highly recommended\n",
      "Perfect product!\n",
      "Brilliant\n",
      "Perfect product!\n",
      "Fabulous!\n",
      "Worth every penny\n",
      "Great product\n",
      "Good choice\n",
      "Simply awesome\n",
      "Worth every penny\n",
      "Highly recommended\n",
      "Perfect product!\n",
      "Brilliant\n",
      "Perfect product!\n",
      "Fabulous!\n",
      "Worth every penny\n",
      "Great product\n",
      "Good choice\n",
      "Simply awesome\n",
      "Worth every penny\n",
      "Highly recommended\n",
      "Perfect product!\n",
      "Brilliant\n",
      "Perfect product!\n",
      "Fabulous!\n",
      "Worth every penny\n",
      "Great product\n",
      "Good choice\n",
      "Simply awesome\n",
      "Worth every penny\n",
      "Highly recommended\n",
      "Perfect product!\n",
      "Brilliant\n",
      "Perfect product!\n",
      "Fabulous!\n",
      "Worth every penny\n",
      "Great product\n",
      "Good choice\n",
      "Simply awesome\n",
      "Worth every penny\n",
      "Highly recommended\n",
      "Perfect product!\n"
     ]
    }
   ],
   "source": [
    "for i in review_summary_:\n",
    "    print(i)"
   ]
  },
  {
   "cell_type": "code",
   "execution_count": 13,
   "metadata": {},
   "outputs": [
    {
     "name": "stdout",
     "output_type": "stream",
     "text": [
      "The Best Phone for the Money\n",
      "\n",
      "The iPhone 11 offers superb cameras, a more durable design and excellent battery life for an affordable price.\n",
      "\n",
      "Compelling ultra-wide camera\n",
      "New Night mode is excellent\n",
      "Long battery life\n",
      "Amazing phone with great cameras and better battery which gives you the best performance. I just love the camera .\n",
      "This is my first iOS phone. I am very happy with this product. Very much satisfied with this. I love this phone.\n",
      "Previously I was using one plus 3t it was a great phone\n",
      "And then I decided to upgrade I am stuck between Samsung s10 plus or iPhone 11\n",
      "I have seen the specs and everything were good except the display it’s somewhere between 720-1080 and it’s not even an amoled it’s an LCD display\n",
      "But I decided to go with iPhone because I have never used an IOS device I have Been an android user from the past 9 years I ordered IPhone 11 (128gb) product red\n",
      "My experience after using 3 weeks\n",
      "1. The delivery ...\n",
      "READ MORE\n",
      "Amazing Powerful and Durable Gadget.\n",
      "\n",
      "I’m am very happy with the camera picture quality, Amazing face id unlocked in dark room, Strong battery with perfect screen size as you can carry easily in pocket. This is my third iPhone.\n",
      "\n",
      "I shifted from android Samsung Note series to iPhone because of the strong build quality and peace of mind for next 3-4 years.\n",
      "\n",
      "Don’t think to much just go for it and I suggest you to go for minimum 128gb variant or more 256gb.\n",
      "\n",
      "I’ve attached my puppy pics and no fi...\n",
      "READ MORE\n",
      "So far it’s been an AMAZING experience coming back to iOS after nearly a decade but it’s not as versatile as android though phone is sturdy dropped it accidentally a couple of times and nothing happened fortunately camera is awesome\n",
      "Really satisfied with the Product I received... It’s totally genuine and the packaging was also really good so if ur planning to buy just go for it.\n",
      "i11 is worthy to buy, too much happy with the product. Thank u flipkart I received the item on time..loved it..\n",
      "iphone 11 is a very good phone to buy only if you can compromise for the display. The display on this is device is pretty good but you can get other options with better displays in this price segment.\n",
      "If you can survive with an HD+ LCD panel with thicker bezels and a notch up top then this is a very good phone for you.\n",
      "Cameras are awesome, battery backup excellent, great performance and a decent premium look. Good job Apple !\n",
      "It’s a must buy who is looking for an upgrade from previous generation of iPhones. If you are using XR then still you can hold on for sometime and upgrade to 2020 model else this phone is a must buy . Camera quality is amazing and wide angle is something to count upon. Performance wise it’s amazing and feels premium while holding in hand. So a big YES for this device. Go for 128 GB variant as the 4K videos will occupy lots of space and the storage can get over very quickly. Try to buy it with...\n",
      "READ MORE\n",
      "The Best Phone for the Money\n",
      "\n",
      "The iPhone 11 offers superb cameras, a more durable design and excellent battery life for an affordable price.\n",
      "\n",
      "Compelling ultra-wide camera\n",
      "New Night mode is excellent\n",
      "Long battery life\n",
      "Amazing phone with great cameras and better battery which gives you the best performance. I just love the camera .\n",
      "This is my first iOS phone. I am very happy with this product. Very much satisfied with this. I love this phone.\n",
      "Previously I was using one plus 3t it was a great phone\n",
      "And then I decided to upgrade I am stuck between Samsung s10 plus or iPhone 11\n",
      "I have seen the specs and everything were good except the display it’s somewhere between 720-1080 and it’s not even an amoled it’s an LCD display\n",
      "But I decided to go with iPhone because I have never used an IOS device I have Been an android user from the past 9 years I ordered IPhone 11 (128gb) product red\n",
      "My experience after using 3 weeks\n",
      "1. The delivery ...\n",
      "READ MORE\n",
      "Amazing Powerful and Durable Gadget.\n",
      "\n",
      "I’m am very happy with the camera picture quality, Amazing face id unlocked in dark room, Strong battery with perfect screen size as you can carry easily in pocket. This is my third iPhone.\n",
      "\n",
      "I shifted from android Samsung Note series to iPhone because of the strong build quality and peace of mind for next 3-4 years.\n",
      "\n",
      "Don’t think to much just go for it and I suggest you to go for minimum 128gb variant or more 256gb.\n",
      "\n",
      "I’ve attached my puppy pics and no fi...\n",
      "READ MORE\n",
      "So far it’s been an AMAZING experience coming back to iOS after nearly a decade but it’s not as versatile as android though phone is sturdy dropped it accidentally a couple of times and nothing happened fortunately camera is awesome\n",
      "Really satisfied with the Product I received... It’s totally genuine and the packaging was also really good so if ur planning to buy just go for it.\n",
      "i11 is worthy to buy, too much happy with the product. Thank u flipkart I received the item on time..loved it..\n",
      "iphone 11 is a very good phone to buy only if you can compromise for the display. The display on this is device is pretty good but you can get other options with better displays in this price segment.\n",
      "If you can survive with an HD+ LCD panel with thicker bezels and a notch up top then this is a very good phone for you.\n",
      "Cameras are awesome, battery backup excellent, great performance and a decent premium look. Good job Apple !\n",
      "It’s a must buy who is looking for an upgrade from previous generation of iPhones. If you are using XR then still you can hold on for sometime and upgrade to 2020 model else this phone is a must buy . Camera quality is amazing and wide angle is something to count upon. Performance wise it’s amazing and feels premium while holding in hand. So a big YES for this device. Go for 128 GB variant as the 4K videos will occupy lots of space and the storage can get over very quickly. Try to buy it with...\n",
      "READ MORE\n",
      "The Best Phone for the Money\n",
      "\n",
      "The iPhone 11 offers superb cameras, a more durable design and excellent battery life for an affordable price.\n",
      "\n",
      "Compelling ultra-wide camera\n",
      "New Night mode is excellent\n",
      "Long battery life\n",
      "Amazing phone with great cameras and better battery which gives you the best performance. I just love the camera .\n",
      "This is my first iOS phone. I am very happy with this product. Very much satisfied with this. I love this phone.\n",
      "Previously I was using one plus 3t it was a great phone\n",
      "And then I decided to upgrade I am stuck between Samsung s10 plus or iPhone 11\n",
      "I have seen the specs and everything were good except the display it’s somewhere between 720-1080 and it’s not even an amoled it’s an LCD display\n",
      "But I decided to go with iPhone because I have never used an IOS device I have Been an android user from the past 9 years I ordered IPhone 11 (128gb) product red\n",
      "My experience after using 3 weeks\n",
      "1. The delivery ...\n",
      "READ MORE\n",
      "Amazing Powerful and Durable Gadget.\n",
      "\n",
      "I’m am very happy with the camera picture quality, Amazing face id unlocked in dark room, Strong battery with perfect screen size as you can carry easily in pocket. This is my third iPhone.\n",
      "\n",
      "I shifted from android Samsung Note series to iPhone because of the strong build quality and peace of mind for next 3-4 years.\n",
      "\n",
      "Don’t think to much just go for it and I suggest you to go for minimum 128gb variant or more 256gb.\n",
      "\n",
      "I’ve attached my puppy pics and no fi...\n",
      "READ MORE\n",
      "So far it’s been an AMAZING experience coming back to iOS after nearly a decade but it’s not as versatile as android though phone is sturdy dropped it accidentally a couple of times and nothing happened fortunately camera is awesome\n",
      "Really satisfied with the Product I received... It’s totally genuine and the packaging was also really good so if ur planning to buy just go for it.\n",
      "i11 is worthy to buy, too much happy with the product. Thank u flipkart I received the item on time..loved it..\n",
      "iphone 11 is a very good phone to buy only if you can compromise for the display. The display on this is device is pretty good but you can get other options with better displays in this price segment.\n",
      "If you can survive with an HD+ LCD panel with thicker bezels and a notch up top then this is a very good phone for you.\n",
      "Cameras are awesome, battery backup excellent, great performance and a decent premium look. Good job Apple !\n",
      "It’s a must buy who is looking for an upgrade from previous generation of iPhones. If you are using XR then still you can hold on for sometime and upgrade to 2020 model else this phone is a must buy . Camera quality is amazing and wide angle is something to count upon. Performance wise it’s amazing and feels premium while holding in hand. So a big YES for this device. Go for 128 GB variant as the 4K videos will occupy lots of space and the storage can get over very quickly. Try to buy it with...\n",
      "READ MORE\n",
      "The Best Phone for the Money\n",
      "\n",
      "The iPhone 11 offers superb cameras, a more durable design and excellent battery life for an affordable price.\n",
      "\n",
      "Compelling ultra-wide camera\n",
      "New Night mode is excellent\n",
      "Long battery life\n",
      "Amazing phone with great cameras and better battery which gives you the best performance. I just love the camera .\n",
      "This is my first iOS phone. I am very happy with this product. Very much satisfied with this. I love this phone.\n",
      "Previously I was using one plus 3t it was a great phone\n",
      "And then I decided to upgrade I am stuck between Samsung s10 plus or iPhone 11\n",
      "I have seen the specs and everything were good except the display it’s somewhere between 720-1080 and it’s not even an amoled it’s an LCD display\n",
      "But I decided to go with iPhone because I have never used an IOS device I have Been an android user from the past 9 years I ordered IPhone 11 (128gb) product red\n",
      "My experience after using 3 weeks\n",
      "1. The delivery ...\n",
      "READ MORE\n",
      "Amazing Powerful and Durable Gadget.\n",
      "\n",
      "I’m am very happy with the camera picture quality, Amazing face id unlocked in dark room, Strong battery with perfect screen size as you can carry easily in pocket. This is my third iPhone.\n",
      "\n",
      "I shifted from android Samsung Note series to iPhone because of the strong build quality and peace of mind for next 3-4 years.\n",
      "\n",
      "Don’t think to much just go for it and I suggest you to go for minimum 128gb variant or more 256gb.\n",
      "\n",
      "I’ve attached my puppy pics and no fi...\n",
      "READ MORE\n",
      "So far it’s been an AMAZING experience coming back to iOS after nearly a decade but it’s not as versatile as android though phone is sturdy dropped it accidentally a couple of times and nothing happened fortunately camera is awesome\n",
      "Really satisfied with the Product I received... It’s totally genuine and the packaging was also really good so if ur planning to buy just go for it.\n",
      "i11 is worthy to buy, too much happy with the product. Thank u flipkart I received the item on time..loved it..\n",
      "iphone 11 is a very good phone to buy only if you can compromise for the display. The display on this is device is pretty good but you can get other options with better displays in this price segment.\n",
      "If you can survive with an HD+ LCD panel with thicker bezels and a notch up top then this is a very good phone for you.\n",
      "Cameras are awesome, battery backup excellent, great performance and a decent premium look. Good job Apple !\n",
      "It’s a must buy who is looking for an upgrade from previous generation of iPhones. If you are using XR then still you can hold on for sometime and upgrade to 2020 model else this phone is a must buy . Camera quality is amazing and wide angle is something to count upon. Performance wise it’s amazing and feels premium while holding in hand. So a big YES for this device. Go for 128 GB variant as the 4K videos will occupy lots of space and the storage can get over very quickly. Try to buy it with...\n",
      "READ MORE\n",
      "The Best Phone for the Money\n",
      "\n",
      "The iPhone 11 offers superb cameras, a more durable design and excellent battery life for an affordable price.\n",
      "\n",
      "Compelling ultra-wide camera\n",
      "New Night mode is excellent\n",
      "Long battery life\n",
      "Amazing phone with great cameras and better battery which gives you the best performance. I just love the camera .\n",
      "This is my first iOS phone. I am very happy with this product. Very much satisfied with this. I love this phone.\n",
      "Previously I was using one plus 3t it was a great phone\n",
      "And then I decided to upgrade I am stuck between Samsung s10 plus or iPhone 11\n",
      "I have seen the specs and everything were good except the display it’s somewhere between 720-1080 and it’s not even an amoled it’s an LCD display\n",
      "But I decided to go with iPhone because I have never used an IOS device I have Been an android user from the past 9 years I ordered IPhone 11 (128gb) product red\n",
      "My experience after using 3 weeks\n",
      "1. The delivery ...\n",
      "READ MORE\n",
      "Amazing Powerful and Durable Gadget.\n",
      "\n",
      "I’m am very happy with the camera picture quality, Amazing face id unlocked in dark room, Strong battery with perfect screen size as you can carry easily in pocket. This is my third iPhone.\n",
      "\n",
      "I shifted from android Samsung Note series to iPhone because of the strong build quality and peace of mind for next 3-4 years.\n",
      "\n",
      "Don’t think to much just go for it and I suggest you to go for minimum 128gb variant or more 256gb.\n",
      "\n",
      "I’ve attached my puppy pics and no fi...\n",
      "READ MORE\n",
      "So far it’s been an AMAZING experience coming back to iOS after nearly a decade but it’s not as versatile as android though phone is sturdy dropped it accidentally a couple of times and nothing happened fortunately camera is awesome\n",
      "Really satisfied with the Product I received... It’s totally genuine and the packaging was also really good so if ur planning to buy just go for it.\n",
      "i11 is worthy to buy, too much happy with the product. Thank u flipkart I received the item on time..loved it..\n",
      "iphone 11 is a very good phone to buy only if you can compromise for the display. The display on this is device is pretty good but you can get other options with better displays in this price segment.\n",
      "If you can survive with an HD+ LCD panel with thicker bezels and a notch up top then this is a very good phone for you.\n",
      "Cameras are awesome, battery backup excellent, great performance and a decent premium look. Good job Apple !\n",
      "It’s a must buy who is looking for an upgrade from previous generation of iPhones. If you are using XR then still you can hold on for sometime and upgrade to 2020 model else this phone is a must buy . Camera quality is amazing and wide angle is something to count upon. Performance wise it’s amazing and feels premium while holding in hand. So a big YES for this device. Go for 128 GB variant as the 4K videos will occupy lots of space and the storage can get over very quickly. Try to buy it with...\n",
      "READ MORE\n",
      "The Best Phone for the Money\n",
      "\n",
      "The iPhone 11 offers superb cameras, a more durable design and excellent battery life for an affordable price.\n",
      "\n",
      "Compelling ultra-wide camera\n",
      "New Night mode is excellent\n",
      "Long battery life\n",
      "Amazing phone with great cameras and better battery which gives you the best performance. I just love the camera .\n",
      "This is my first iOS phone. I am very happy with this product. Very much satisfied with this. I love this phone.\n",
      "Previously I was using one plus 3t it was a great phone\n",
      "And then I decided to upgrade I am stuck between Samsung s10 plus or iPhone 11\n",
      "I have seen the specs and everything were good except the display it’s somewhere between 720-1080 and it’s not even an amoled it’s an LCD display\n",
      "But I decided to go with iPhone because I have never used an IOS device I have Been an android user from the past 9 years I ordered IPhone 11 (128gb) product red\n",
      "My experience after using 3 weeks\n",
      "1. The delivery ...\n",
      "READ MORE\n",
      "Amazing Powerful and Durable Gadget.\n",
      "\n",
      "I’m am very happy with the camera picture quality, Amazing face id unlocked in dark room, Strong battery with perfect screen size as you can carry easily in pocket. This is my third iPhone.\n",
      "\n",
      "I shifted from android Samsung Note series to iPhone because of the strong build quality and peace of mind for next 3-4 years.\n",
      "\n",
      "Don’t think to much just go for it and I suggest you to go for minimum 128gb variant or more 256gb.\n",
      "\n",
      "I’ve attached my puppy pics and no fi...\n",
      "READ MORE\n",
      "So far it’s been an AMAZING experience coming back to iOS after nearly a decade but it’s not as versatile as android though phone is sturdy dropped it accidentally a couple of times and nothing happened fortunately camera is awesome\n",
      "Really satisfied with the Product I received... It’s totally genuine and the packaging was also really good so if ur planning to buy just go for it.\n",
      "i11 is worthy to buy, too much happy with the product. Thank u flipkart I received the item on time..loved it..\n",
      "iphone 11 is a very good phone to buy only if you can compromise for the display. The display on this is device is pretty good but you can get other options with better displays in this price segment.\n",
      "If you can survive with an HD+ LCD panel with thicker bezels and a notch up top then this is a very good phone for you.\n",
      "Cameras are awesome, battery backup excellent, great performance and a decent premium look. Good job Apple !\n",
      "It’s a must buy who is looking for an upgrade from previous generation of iPhones. If you are using XR then still you can hold on for sometime and upgrade to 2020 model else this phone is a must buy . Camera quality is amazing and wide angle is something to count upon. Performance wise it’s amazing and feels premium while holding in hand. So a big YES for this device. Go for 128 GB variant as the 4K videos will occupy lots of space and the storage can get over very quickly. Try to buy it with...\n",
      "READ MORE\n",
      "The Best Phone for the Money\n",
      "\n",
      "The iPhone 11 offers superb cameras, a more durable design and excellent battery life for an affordable price.\n",
      "\n",
      "Compelling ultra-wide camera\n",
      "New Night mode is excellent\n",
      "Long battery life\n",
      "Amazing phone with great cameras and better battery which gives you the best performance. I just love the camera .\n",
      "This is my first iOS phone. I am very happy with this product. Very much satisfied with this. I love this phone.\n",
      "Previously I was using one plus 3t it was a great phone\n",
      "And then I decided to upgrade I am stuck between Samsung s10 plus or iPhone 11\n",
      "I have seen the specs and everything were good except the display it’s somewhere between 720-1080 and it’s not even an amoled it’s an LCD display\n",
      "But I decided to go with iPhone because I have never used an IOS device I have Been an android user from the past 9 years I ordered IPhone 11 (128gb) product red\n",
      "My experience after using 3 weeks\n",
      "1. The delivery ...\n",
      "READ MORE\n",
      "Amazing Powerful and Durable Gadget.\n",
      "\n",
      "I’m am very happy with the camera picture quality, Amazing face id unlocked in dark room, Strong battery with perfect screen size as you can carry easily in pocket. This is my third iPhone.\n",
      "\n",
      "I shifted from android Samsung Note series to iPhone because of the strong build quality and peace of mind for next 3-4 years.\n",
      "\n",
      "Don’t think to much just go for it and I suggest you to go for minimum 128gb variant or more 256gb.\n",
      "\n",
      "I’ve attached my puppy pics and no fi...\n",
      "READ MORE\n",
      "So far it’s been an AMAZING experience coming back to iOS after nearly a decade but it’s not as versatile as android though phone is sturdy dropped it accidentally a couple of times and nothing happened fortunately camera is awesome\n",
      "Really satisfied with the Product I received... It’s totally genuine and the packaging was also really good so if ur planning to buy just go for it.\n",
      "i11 is worthy to buy, too much happy with the product. Thank u flipkart I received the item on time..loved it..\n",
      "iphone 11 is a very good phone to buy only if you can compromise for the display. The display on this is device is pretty good but you can get other options with better displays in this price segment.\n",
      "If you can survive with an HD+ LCD panel with thicker bezels and a notch up top then this is a very good phone for you.\n",
      "Cameras are awesome, battery backup excellent, great performance and a decent premium look. Good job Apple !\n",
      "It’s a must buy who is looking for an upgrade from previous generation of iPhones. If you are using XR then still you can hold on for sometime and upgrade to 2020 model else this phone is a must buy . Camera quality is amazing and wide angle is something to count upon. Performance wise it’s amazing and feels premium while holding in hand. So a big YES for this device. Go for 128 GB variant as the 4K videos will occupy lots of space and the storage can get over very quickly. Try to buy it with...\n",
      "READ MORE\n",
      "The Best Phone for the Money\n",
      "\n",
      "The iPhone 11 offers superb cameras, a more durable design and excellent battery life for an affordable price.\n",
      "\n",
      "Compelling ultra-wide camera\n",
      "New Night mode is excellent\n",
      "Long battery life\n",
      "Amazing phone with great cameras and better battery which gives you the best performance. I just love the camera .\n",
      "This is my first iOS phone. I am very happy with this product. Very much satisfied with this. I love this phone.\n",
      "Previously I was using one plus 3t it was a great phone\n",
      "And then I decided to upgrade I am stuck between Samsung s10 plus or iPhone 11\n",
      "I have seen the specs and everything were good except the display it’s somewhere between 720-1080 and it’s not even an amoled it’s an LCD display\n",
      "But I decided to go with iPhone because I have never used an IOS device I have Been an android user from the past 9 years I ordered IPhone 11 (128gb) product red\n",
      "My experience after using 3 weeks\n",
      "1. The delivery ...\n",
      "READ MORE\n",
      "Amazing Powerful and Durable Gadget.\n",
      "\n",
      "I’m am very happy with the camera picture quality, Amazing face id unlocked in dark room, Strong battery with perfect screen size as you can carry easily in pocket. This is my third iPhone.\n",
      "\n",
      "I shifted from android Samsung Note series to iPhone because of the strong build quality and peace of mind for next 3-4 years.\n",
      "\n",
      "Don’t think to much just go for it and I suggest you to go for minimum 128gb variant or more 256gb.\n",
      "\n",
      "I’ve attached my puppy pics and no fi...\n",
      "READ MORE\n",
      "So far it’s been an AMAZING experience coming back to iOS after nearly a decade but it’s not as versatile as android though phone is sturdy dropped it accidentally a couple of times and nothing happened fortunately camera is awesome\n",
      "Really satisfied with the Product I received... It’s totally genuine and the packaging was also really good so if ur planning to buy just go for it.\n",
      "i11 is worthy to buy, too much happy with the product. Thank u flipkart I received the item on time..loved it..\n",
      "iphone 11 is a very good phone to buy only if you can compromise for the display. The display on this is device is pretty good but you can get other options with better displays in this price segment.\n",
      "If you can survive with an HD+ LCD panel with thicker bezels and a notch up top then this is a very good phone for you.\n",
      "Cameras are awesome, battery backup excellent, great performance and a decent premium look. Good job Apple !\n",
      "It’s a must buy who is looking for an upgrade from previous generation of iPhones. If you are using XR then still you can hold on for sometime and upgrade to 2020 model else this phone is a must buy . Camera quality is amazing and wide angle is something to count upon. Performance wise it’s amazing and feels premium while holding in hand. So a big YES for this device. Go for 128 GB variant as the 4K videos will occupy lots of space and the storage can get over very quickly. Try to buy it with...\n",
      "READ MORE\n",
      "The Best Phone for the Money\n",
      "\n",
      "The iPhone 11 offers superb cameras, a more durable design and excellent battery life for an affordable price.\n",
      "\n",
      "Compelling ultra-wide camera\n",
      "New Night mode is excellent\n",
      "Long battery life\n",
      "Amazing phone with great cameras and better battery which gives you the best performance. I just love the camera .\n",
      "This is my first iOS phone. I am very happy with this product. Very much satisfied with this. I love this phone.\n",
      "Previously I was using one plus 3t it was a great phone\n",
      "And then I decided to upgrade I am stuck between Samsung s10 plus or iPhone 11\n",
      "I have seen the specs and everything were good except the display it’s somewhere between 720-1080 and it’s not even an amoled it’s an LCD display\n",
      "But I decided to go with iPhone because I have never used an IOS device I have Been an android user from the past 9 years I ordered IPhone 11 (128gb) product red\n",
      "My experience after using 3 weeks\n",
      "1. The delivery ...\n",
      "READ MORE\n",
      "Amazing Powerful and Durable Gadget.\n",
      "\n",
      "I’m am very happy with the camera picture quality, Amazing face id unlocked in dark room, Strong battery with perfect screen size as you can carry easily in pocket. This is my third iPhone.\n",
      "\n",
      "I shifted from android Samsung Note series to iPhone because of the strong build quality and peace of mind for next 3-4 years.\n",
      "\n",
      "Don’t think to much just go for it and I suggest you to go for minimum 128gb variant or more 256gb.\n",
      "\n",
      "I’ve attached my puppy pics and no fi...\n",
      "READ MORE\n",
      "So far it’s been an AMAZING experience coming back to iOS after nearly a decade but it’s not as versatile as android though phone is sturdy dropped it accidentally a couple of times and nothing happened fortunately camera is awesome\n",
      "Really satisfied with the Product I received... It’s totally genuine and the packaging was also really good so if ur planning to buy just go for it.\n",
      "i11 is worthy to buy, too much happy with the product. Thank u flipkart I received the item on time..loved it..\n",
      "iphone 11 is a very good phone to buy only if you can compromise for the display. The display on this is device is pretty good but you can get other options with better displays in this price segment.\n",
      "If you can survive with an HD+ LCD panel with thicker bezels and a notch up top then this is a very good phone for you.\n",
      "Cameras are awesome, battery backup excellent, great performance and a decent premium look. Good job Apple !\n",
      "It’s a must buy who is looking for an upgrade from previous generation of iPhones. If you are using XR then still you can hold on for sometime and upgrade to 2020 model else this phone is a must buy . Camera quality is amazing and wide angle is something to count upon. Performance wise it’s amazing and feels premium while holding in hand. So a big YES for this device. Go for 128 GB variant as the 4K videos will occupy lots of space and the storage can get over very quickly. Try to buy it with...\n",
      "READ MORE\n",
      "The Best Phone for the Money\n",
      "\n",
      "The iPhone 11 offers superb cameras, a more durable design and excellent battery life for an affordable price.\n",
      "\n",
      "Compelling ultra-wide camera\n",
      "New Night mode is excellent\n",
      "Long battery life\n",
      "Amazing phone with great cameras and better battery which gives you the best performance. I just love the camera .\n",
      "This is my first iOS phone. I am very happy with this product. Very much satisfied with this. I love this phone.\n",
      "Previously I was using one plus 3t it was a great phone\n",
      "And then I decided to upgrade I am stuck between Samsung s10 plus or iPhone 11\n",
      "I have seen the specs and everything were good except the display it’s somewhere between 720-1080 and it’s not even an amoled it’s an LCD display\n",
      "But I decided to go with iPhone because I have never used an IOS device I have Been an android user from the past 9 years I ordered IPhone 11 (128gb) product red\n",
      "My experience after using 3 weeks\n",
      "1. The delivery ...\n",
      "READ MORE\n",
      "Amazing Powerful and Durable Gadget.\n",
      "\n",
      "I’m am very happy with the camera picture quality, Amazing face id unlocked in dark room, Strong battery with perfect screen size as you can carry easily in pocket. This is my third iPhone.\n",
      "\n",
      "I shifted from android Samsung Note series to iPhone because of the strong build quality and peace of mind for next 3-4 years.\n",
      "\n",
      "Don’t think to much just go for it and I suggest you to go for minimum 128gb variant or more 256gb.\n",
      "\n",
      "I’ve attached my puppy pics and no fi...\n",
      "READ MORE\n",
      "So far it’s been an AMAZING experience coming back to iOS after nearly a decade but it’s not as versatile as android though phone is sturdy dropped it accidentally a couple of times and nothing happened fortunately camera is awesome\n",
      "Really satisfied with the Product I received... It’s totally genuine and the packaging was also really good so if ur planning to buy just go for it.\n",
      "i11 is worthy to buy, too much happy with the product. Thank u flipkart I received the item on time..loved it..\n",
      "iphone 11 is a very good phone to buy only if you can compromise for the display. The display on this is device is pretty good but you can get other options with better displays in this price segment.\n",
      "If you can survive with an HD+ LCD panel with thicker bezels and a notch up top then this is a very good phone for you.\n",
      "Cameras are awesome, battery backup excellent, great performance and a decent premium look. Good job Apple !\n",
      "It’s a must buy who is looking for an upgrade from previous generation of iPhones. If you are using XR then still you can hold on for sometime and upgrade to 2020 model else this phone is a must buy . Camera quality is amazing and wide angle is something to count upon. Performance wise it’s amazing and feels premium while holding in hand. So a big YES for this device. Go for 128 GB variant as the 4K videos will occupy lots of space and the storage can get over very quickly. Try to buy it with...\n",
      "READ MORE\n"
     ]
    }
   ],
   "source": [
    "for i in full_review_:\n",
    "    print(i)"
   ]
  },
  {
   "cell_type": "code",
   "execution_count": 14,
   "metadata": {},
   "outputs": [
    {
     "data": {
      "text/html": [
       "<div>\n",
       "<style scoped>\n",
       "    .dataframe tbody tr th:only-of-type {\n",
       "        vertical-align: middle;\n",
       "    }\n",
       "\n",
       "    .dataframe tbody tr th {\n",
       "        vertical-align: top;\n",
       "    }\n",
       "\n",
       "    .dataframe thead th {\n",
       "        text-align: right;\n",
       "    }\n",
       "</style>\n",
       "<table border=\"1\" class=\"dataframe\">\n",
       "  <thead>\n",
       "    <tr style=\"text-align: right;\">\n",
       "      <th></th>\n",
       "      <th>iphone Ratings</th>\n",
       "      <th>Review Summary</th>\n",
       "      <th>Full Review</th>\n",
       "    </tr>\n",
       "  </thead>\n",
       "  <tbody>\n",
       "    <tr>\n",
       "      <th>0</th>\n",
       "      <td>5</td>\n",
       "      <td>Brilliant</td>\n",
       "      <td>The Best Phone for the Money\\n\\nThe iPhone 11 ...</td>\n",
       "    </tr>\n",
       "    <tr>\n",
       "      <th>1</th>\n",
       "      <td>5</td>\n",
       "      <td>Perfect product!</td>\n",
       "      <td>Amazing phone with great cameras and better ba...</td>\n",
       "    </tr>\n",
       "    <tr>\n",
       "      <th>2</th>\n",
       "      <td>5</td>\n",
       "      <td>Fabulous!</td>\n",
       "      <td>This is my first iOS phone. I am very happy wi...</td>\n",
       "    </tr>\n",
       "    <tr>\n",
       "      <th>3</th>\n",
       "      <td>5</td>\n",
       "      <td>Worth every penny</td>\n",
       "      <td>Previously I was using one plus 3t it was a gr...</td>\n",
       "    </tr>\n",
       "    <tr>\n",
       "      <th>4</th>\n",
       "      <td>5</td>\n",
       "      <td>Great product</td>\n",
       "      <td>Amazing Powerful and Durable Gadget.\\n\\nI’m am...</td>\n",
       "    </tr>\n",
       "    <tr>\n",
       "      <th>...</th>\n",
       "      <td>...</td>\n",
       "      <td>...</td>\n",
       "      <td>...</td>\n",
       "    </tr>\n",
       "    <tr>\n",
       "      <th>95</th>\n",
       "      <td>4</td>\n",
       "      <td>Good choice</td>\n",
       "      <td>So far it’s been an AMAZING experience coming ...</td>\n",
       "    </tr>\n",
       "    <tr>\n",
       "      <th>96</th>\n",
       "      <td>5</td>\n",
       "      <td>Simply awesome</td>\n",
       "      <td>Really satisfied with the Product I received.....</td>\n",
       "    </tr>\n",
       "    <tr>\n",
       "      <th>97</th>\n",
       "      <td>5</td>\n",
       "      <td>Worth every penny</td>\n",
       "      <td>i11 is worthy to buy, too much happy with the ...</td>\n",
       "    </tr>\n",
       "    <tr>\n",
       "      <th>98</th>\n",
       "      <td>5</td>\n",
       "      <td>Highly recommended</td>\n",
       "      <td>iphone 11 is a very good phone to buy only if ...</td>\n",
       "    </tr>\n",
       "    <tr>\n",
       "      <th>99</th>\n",
       "      <td>5</td>\n",
       "      <td>Perfect product!</td>\n",
       "      <td>It’s a must buy who is looking for an upgrade ...</td>\n",
       "    </tr>\n",
       "  </tbody>\n",
       "</table>\n",
       "<p>100 rows × 3 columns</p>\n",
       "</div>"
      ],
      "text/plain": [
       "   iphone Ratings      Review Summary  \\\n",
       "0               5           Brilliant   \n",
       "1               5    Perfect product!   \n",
       "2               5           Fabulous!   \n",
       "3               5   Worth every penny   \n",
       "4               5       Great product   \n",
       "..            ...                 ...   \n",
       "95              4         Good choice   \n",
       "96              5      Simply awesome   \n",
       "97              5   Worth every penny   \n",
       "98              5  Highly recommended   \n",
       "99              5    Perfect product!   \n",
       "\n",
       "                                          Full Review  \n",
       "0   The Best Phone for the Money\\n\\nThe iPhone 11 ...  \n",
       "1   Amazing phone with great cameras and better ba...  \n",
       "2   This is my first iOS phone. I am very happy wi...  \n",
       "3   Previously I was using one plus 3t it was a gr...  \n",
       "4   Amazing Powerful and Durable Gadget.\\n\\nI’m am...  \n",
       "..                                                ...  \n",
       "95  So far it’s been an AMAZING experience coming ...  \n",
       "96  Really satisfied with the Product I received.....  \n",
       "97  i11 is worthy to buy, too much happy with the ...  \n",
       "98  iphone 11 is a very good phone to buy only if ...  \n",
       "99  It’s a must buy who is looking for an upgrade ...  \n",
       "\n",
       "[100 rows x 3 columns]"
      ]
     },
     "execution_count": 14,
     "metadata": {},
     "output_type": "execute_result"
    }
   ],
   "source": [
    "import pandas as pd\n",
    "iphone_detail=pd.DataFrame({})\n",
    "iphone_detail['iphone Ratings']=rating_\n",
    "iphone_detail['Review Summary']=review_summary_\n",
    "iphone_detail['Full Review']=full_review_\n",
    "iphone_detail"
   ]
  },
  {
   "cell_type": "markdown",
   "metadata": {},
   "source": [
    "### Q8 have to scrape 4 attributes of each sneaker :Brand,Product Description,price,%Discount\n"
   ]
  },
  {
   "cell_type": "code",
   "execution_count": 177,
   "metadata": {},
   "outputs": [
    {
     "name": "stdout",
     "output_type": "stream",
     "text": [
      "Requirement already satisfied: selenium in c:\\jpytr notebook\\lib\\site-packages (3.141.0)\n",
      "Requirement already satisfied: urllib3 in c:\\jpytr notebook\\lib\\site-packages (from selenium) (1.25.11)\n"
     ]
    }
   ],
   "source": [
    "#install selenium\n",
    "!pip install selenium"
   ]
  },
  {
   "cell_type": "code",
   "execution_count": 35,
   "metadata": {},
   "outputs": [],
   "source": [
    "#install imp libraries\n",
    "import selenium\n",
    "from selenium import webdriver\n",
    "import time\n",
    "from selenium.common.exceptions import NoSuchElementException\n"
   ]
  },
  {
   "cell_type": "code",
   "execution_count": 36,
   "metadata": {},
   "outputs": [],
   "source": [
    "#install chrome drivers\n",
    "driver=webdriver.Chrome(\"chromedriver.exe\")"
   ]
  },
  {
   "cell_type": "code",
   "execution_count": 37,
   "metadata": {},
   "outputs": [],
   "source": [
    "weburl=\"https://www.flipkart.com/\"\n",
    "driver.get(weburl)"
   ]
  },
  {
   "cell_type": "code",
   "execution_count": 38,
   "metadata": {},
   "outputs": [],
   "source": [
    "cross_click=driver.find_element_by_xpath(\"//button[@class='_2KpZ6l _2doB4z']\")\n",
    "cross_click.click()\n"
   ]
  },
  {
   "cell_type": "code",
   "execution_count": 39,
   "metadata": {},
   "outputs": [],
   "source": [
    "search=driver.find_element_by_xpath(\"//input[@class='_3704LK']\")\n",
    "search.click()"
   ]
  },
  {
   "cell_type": "code",
   "execution_count": 40,
   "metadata": {},
   "outputs": [],
   "source": [
    "search.send_keys(\"sneakers\")"
   ]
  },
  {
   "cell_type": "code",
   "execution_count": 41,
   "metadata": {},
   "outputs": [],
   "source": [
    "search_click=driver.find_element_by_xpath(\"//button[@class='L0Z3Pu']\")\n",
    "search_click.click()"
   ]
  },
  {
   "cell_type": "code",
   "execution_count": 43,
   "metadata": {},
   "outputs": [],
   "source": [
    "\n",
    "brandname_=[] \n",
    "price_=[] \n",
    "discount_=[] \n",
    "desc_=[]\n",
    "\n"
   ]
  },
  {
   "cell_type": "code",
   "execution_count": 45,
   "metadata": {},
   "outputs": [
    {
     "name": "stdout",
     "output_type": "stream",
     "text": [
      "enter number ofpages3\n",
      "glasses in page1\n",
      "40\n",
      "40\n",
      "40\n",
      "35\n",
      "glasses in page2\n",
      "40\n",
      "40\n",
      "40\n",
      "35\n",
      "glasses in page3\n",
      "40\n",
      "40\n",
      "40\n",
      "35\n"
     ]
    }
   ],
   "source": [
    "page_num=input(\"enter number ofpages\")\n",
    "\n",
    "\n",
    "for i in range(1,int(page_num)+1):\n",
    "    url=\"https://www.flipkart.com/search?q=sneakers&otracker=search&otracker1=search&marketplace=FLIPKART&as-show=on&as=off\"+str(i)\n",
    "    driver.get(url)\n",
    "    \n",
    "    brandname=driver.find_elements_by_xpath(\"//div[@class='_2WkVRV']\")\n",
    "    discount=driver.find_elements_by_xpath(\"//div[@class='_3Ay6Sb']\")\n",
    "    price=driver.find_elements_by_xpath(\"//div[@class='_30jeq3']\")\n",
    "    desc=driver.find_elements_by_xpath(\"//a[@class='IRpwTa']\")\n",
    "    \n",
    "    print(\"glasses in page\"+str(i))\n",
    "    print(len(brandname))\n",
    "    print(len(discount))\n",
    "    print(len(price))\n",
    "    print(len(desc))\n",
    "    \n",
    "    for i in brandname:\n",
    "        brandname_.append(i.text)\n",
    "    \n",
    "    for i in discount:\n",
    "        discount_.append(i.text)\n",
    "    \n",
    "    for i in price:\n",
    "        price_.append(i.text)\n",
    "    \n",
    "    try:\n",
    "        for i in desc:\n",
    "             desc_.append(i.text)\n",
    "    except:\n",
    "        desc_.append('-')   \n",
    "        \n",
    "   # try:\n",
    "        #desc=driver.find_element_by_xpath(\"//span[@class='priceblock_ourprice_row']\")\n",
    "        #desc_.append(desc.text)\n",
    "    #except:\n",
    "        #desc_.append('-')\n",
    "        \n",
    "                                   "
   ]
  },
  {
   "cell_type": "code",
   "execution_count": 46,
   "metadata": {},
   "outputs": [
    {
     "data": {
      "text/plain": [
       "213"
      ]
     },
     "execution_count": 46,
     "metadata": {},
     "output_type": "execute_result"
    }
   ],
   "source": [
    "len(desc_)"
   ]
  },
  {
   "cell_type": "code",
   "execution_count": 47,
   "metadata": {},
   "outputs": [
    {
     "data": {
      "text/html": [
       "<div>\n",
       "<style scoped>\n",
       "    .dataframe tbody tr th:only-of-type {\n",
       "        vertical-align: middle;\n",
       "    }\n",
       "\n",
       "    .dataframe tbody tr th {\n",
       "        vertical-align: top;\n",
       "    }\n",
       "\n",
       "    .dataframe thead th {\n",
       "        text-align: right;\n",
       "    }\n",
       "</style>\n",
       "<table border=\"1\" class=\"dataframe\">\n",
       "  <thead>\n",
       "    <tr style=\"text-align: right;\">\n",
       "      <th></th>\n",
       "      <th>Brand Name</th>\n",
       "      <th>Price</th>\n",
       "      <th>discount</th>\n",
       "      <th>description</th>\n",
       "    </tr>\n",
       "  </thead>\n",
       "  <tbody>\n",
       "    <tr>\n",
       "      <th>0</th>\n",
       "      <td>Numenzo</td>\n",
       "      <td>₹449</td>\n",
       "      <td>77% off</td>\n",
       "      <td>Sneakers For Men</td>\n",
       "    </tr>\n",
       "    <tr>\n",
       "      <th>1</th>\n",
       "      <td>Birde</td>\n",
       "      <td>₹588</td>\n",
       "      <td>76% off</td>\n",
       "      <td>Combo Pack of 5 Casual Shoes Loafers Sneakers ...</td>\n",
       "    </tr>\n",
       "    <tr>\n",
       "      <th>2</th>\n",
       "      <td>Robbie jones</td>\n",
       "      <td>₹379</td>\n",
       "      <td>62% off</td>\n",
       "      <td>Casual Sneakers Shoes For Men Sneakers For Men</td>\n",
       "    </tr>\n",
       "    <tr>\n",
       "      <th>3</th>\n",
       "      <td>CALCADOS</td>\n",
       "      <td>₹748</td>\n",
       "      <td>62% off</td>\n",
       "      <td>Original Luxury Branded Fashionable Men's Casu...</td>\n",
       "    </tr>\n",
       "    <tr>\n",
       "      <th>4</th>\n",
       "      <td>ASTEROID</td>\n",
       "      <td>₹499</td>\n",
       "      <td>75% off</td>\n",
       "      <td>Sneakers For Men</td>\n",
       "    </tr>\n",
       "    <tr>\n",
       "      <th>...</th>\n",
       "      <td>...</td>\n",
       "      <td>...</td>\n",
       "      <td>...</td>\n",
       "      <td>...</td>\n",
       "    </tr>\n",
       "    <tr>\n",
       "      <th>95</th>\n",
       "      <td>Echor</td>\n",
       "      <td>₹539</td>\n",
       "      <td>46% off</td>\n",
       "      <td>casual for men (blue 10) Sneakers For Men</td>\n",
       "    </tr>\n",
       "    <tr>\n",
       "      <th>96</th>\n",
       "      <td>ESSENCE</td>\n",
       "      <td>₹359</td>\n",
       "      <td>64% off</td>\n",
       "      <td>Sneakers For Men</td>\n",
       "    </tr>\n",
       "    <tr>\n",
       "      <th>97</th>\n",
       "      <td>Birde</td>\n",
       "      <td>₹588</td>\n",
       "      <td>70% off</td>\n",
       "      <td>Combo Pack of 4 Casual Sneakers With Sneakers ...</td>\n",
       "    </tr>\n",
       "    <tr>\n",
       "      <th>98</th>\n",
       "      <td>believe</td>\n",
       "      <td>₹399</td>\n",
       "      <td>60% off</td>\n",
       "      <td>Speed Set of 5 Pairs Sneakers Outdoors Casuals...</td>\n",
       "    </tr>\n",
       "    <tr>\n",
       "      <th>99</th>\n",
       "      <td>Birde</td>\n",
       "      <td>₹420</td>\n",
       "      <td>78% off</td>\n",
       "      <td>Sneakers For Men</td>\n",
       "    </tr>\n",
       "  </tbody>\n",
       "</table>\n",
       "<p>100 rows × 4 columns</p>\n",
       "</div>"
      ],
      "text/plain": [
       "      Brand Name Price discount  \\\n",
       "0        Numenzo  ₹449  77% off   \n",
       "1          Birde  ₹588  76% off   \n",
       "2   Robbie jones  ₹379  62% off   \n",
       "3       CALCADOS  ₹748  62% off   \n",
       "4       ASTEROID  ₹499  75% off   \n",
       "..           ...   ...      ...   \n",
       "95         Echor  ₹539  46% off   \n",
       "96       ESSENCE  ₹359  64% off   \n",
       "97         Birde  ₹588  70% off   \n",
       "98       believe  ₹399  60% off   \n",
       "99         Birde  ₹420  78% off   \n",
       "\n",
       "                                          description  \n",
       "0                                    Sneakers For Men  \n",
       "1   Combo Pack of 5 Casual Shoes Loafers Sneakers ...  \n",
       "2      Casual Sneakers Shoes For Men Sneakers For Men  \n",
       "3   Original Luxury Branded Fashionable Men's Casu...  \n",
       "4                                    Sneakers For Men  \n",
       "..                                                ...  \n",
       "95          casual for men (blue 10) Sneakers For Men  \n",
       "96                                   Sneakers For Men  \n",
       "97  Combo Pack of 4 Casual Sneakers With Sneakers ...  \n",
       "98  Speed Set of 5 Pairs Sneakers Outdoors Casuals...  \n",
       "99                                   Sneakers For Men  \n",
       "\n",
       "[100 rows x 4 columns]"
      ]
     },
     "execution_count": 47,
     "metadata": {},
     "output_type": "execute_result"
    }
   ],
   "source": [
    "import pandas as pd\n",
    "sneaker_detail=pd.DataFrame({})\n",
    "sneaker_detail['Brand Name']=brandname_[:100]\n",
    "sneaker_detail['Price']=price_[:100]\n",
    "sneaker_detail['discount']=discount_[:100]\n",
    "sneaker_detail['description']=desc_[:100]\n",
    "sneaker_detail\n"
   ]
  },
  {
   "cell_type": "markdown",
   "metadata": {},
   "source": [
    "### scrape myantras  first 100 shoes"
   ]
  },
  {
   "cell_type": "code",
   "execution_count": 1,
   "metadata": {},
   "outputs": [
    {
     "name": "stdout",
     "output_type": "stream",
     "text": [
      "Requirement already satisfied: selenium in c:\\jpytr notebook\\lib\\site-packages (3.141.0)\n",
      "Requirement already satisfied: urllib3 in c:\\jpytr notebook\\lib\\site-packages (from selenium) (1.25.11)\n"
     ]
    }
   ],
   "source": [
    "!pip install selenium"
   ]
  },
  {
   "cell_type": "code",
   "execution_count": 2,
   "metadata": {},
   "outputs": [],
   "source": [
    "#install imp libraries\n",
    "import selenium\n",
    "from selenium import webdriver\n",
    "import time\n",
    "from selenium.common.exceptions import NoSuchElementException"
   ]
  },
  {
   "cell_type": "code",
   "execution_count": 3,
   "metadata": {},
   "outputs": [],
   "source": [
    "driver=webdriver.Chrome(\"chromedriver.exe\")"
   ]
  },
  {
   "cell_type": "code",
   "execution_count": 5,
   "metadata": {},
   "outputs": [],
   "source": [
    "url=\"https://www.myntra.com/shoes\"\n",
    "driver.get(url)"
   ]
  },
  {
   "cell_type": "code",
   "execution_count": 7,
   "metadata": {},
   "outputs": [],
   "source": [
    "filter_price=driver.find_element_by_xpath(\"//*[text()='Rs. 6649 to Rs. 13099']\")\n",
    "filter_price.click()"
   ]
  },
  {
   "cell_type": "code",
   "execution_count": 8,
   "metadata": {},
   "outputs": [],
   "source": [
    "# filtering through text\n",
    "\n",
    "filter_color=driver.find_element_by_xpath(\"//*[text()='Black']\")\n",
    "filter_color.click()"
   ]
  },
  {
   "cell_type": "code",
   "execution_count": 9,
   "metadata": {},
   "outputs": [
    {
     "name": "stdout",
     "output_type": "stream",
     "text": [
      "enter number ofpages2\n",
      "glasses in page1\n",
      "50\n",
      "50\n",
      "50\n",
      "glasses in page2\n",
      "50\n",
      "50\n",
      "50\n"
     ]
    }
   ],
   "source": [
    "page_num=input(\"enter number ofpages\")\n",
    "brandname=[]\n",
    "shoe_desc=[]\n",
    "price=[]\n",
    "brandname_=[] \n",
    "shoe_desc_=[] \n",
    "price_=[] \n",
    "\n",
    "for i in range(1,int(page_num)+1):\n",
    "    url=\"https://www.myntra.com/shoes?f=Color%3ABlack_36454f&plaEnabled=false&rf=Price%3A6649.0_13099.0_6649.0%20TO%2013099.0\"+str(i)\n",
    "    driver.get(url)\n",
    "    \n",
    "    brandname=driver.find_elements_by_xpath(\"//h3[@class='product-brand']\")\n",
    "    shoe_desc=driver.find_elements_by_xpath(\"//h4[@class='product-product']\")\n",
    "    price=driver.find_elements_by_xpath(\"//div[@class='product-price']\")\n",
    "    \n",
    "    print(\"glasses in page\"+str(i))\n",
    "    print(len(brandname))\n",
    "    print(len(shoe_desc))\n",
    "    print(len(price))\n",
    "    \n",
    "    for i in brandname:\n",
    "        brandname_.append(i.text)\n",
    "    \n",
    "    for i in shoe_desc:\n",
    "        shoe_desc_.append(i.text)\n",
    "    \n",
    "    for i in price:\n",
    "        price_.append(i.text)"
   ]
  },
  {
   "cell_type": "code",
   "execution_count": 10,
   "metadata": {},
   "outputs": [
    {
     "name": "stdout",
     "output_type": "stream",
     "text": [
      "Nike\n",
      "Nike\n",
      "Nike\n",
      "ALDO\n",
      "ALDO\n",
      "Nike\n",
      "Nike\n",
      "Puma\n",
      "Skechers\n",
      "Hush Puppies\n",
      "UNDER ARMOUR\n",
      "UNDER ARMOUR\n",
      "PUMA Hoops\n",
      "UNDER ARMOUR\n",
      "Nike\n",
      "Kalenji By Decathlon\n",
      "FORCLAZ By Decathlon\n",
      "ASICS\n",
      "UNDER ARMOUR\n",
      "Hush Puppies\n",
      "Puma\n",
      "Geox\n",
      "Puma\n",
      "Hush Puppies\n",
      "Quechua By Decathlon\n",
      "Hush Puppies\n",
      "Lacoste\n",
      "ASICS\n",
      "Puma\n",
      "J.FONTINI\n",
      "RARE RABBIT\n",
      "Ruosh\n",
      "Geox\n",
      "Cole Haan\n",
      "FILA\n",
      "J.FONTINI\n",
      "Geox\n",
      "Hush Puppies\n",
      "UNDER ARMOUR\n",
      "Nike\n",
      "Skechers\n",
      "UNDER ARMOUR\n",
      "KIPRUN By Decathlon\n",
      "ALDO\n",
      "Geox\n",
      "ALDO\n",
      "Hush Puppies\n",
      "Hush Puppies\n",
      "Geox\n",
      "Puma\n",
      "Nike\n",
      "Nike\n",
      "Nike\n",
      "Nike\n",
      "ALDO\n",
      "ALDO\n",
      "Nike\n",
      "Puma\n",
      "Hush Puppies\n",
      "UNDER ARMOUR\n",
      "UNDER ARMOUR\n",
      "UNDER ARMOUR\n",
      "RARE RABBIT\n",
      "Nike\n",
      "PUMA Hoops\n",
      "FORCLAZ By Decathlon\n",
      "UNDER ARMOUR\n",
      "Hush Puppies\n",
      "Kalenji By Decathlon\n",
      "Puma\n",
      "Geox\n",
      "Puma\n",
      "Hush Puppies\n",
      "ASICS\n",
      "Quechua By Decathlon\n",
      "Hush Puppies\n",
      "Lacoste\n",
      "ASICS\n",
      "Puma\n",
      "Ruosh\n",
      "Geox\n",
      "Cole Haan\n",
      "FILA\n",
      "J.FONTINI\n",
      "Geox\n",
      "J.FONTINI\n",
      "RARE RABBIT\n",
      "Skechers\n",
      "Hush Puppies\n",
      "UNDER ARMOUR\n",
      "Nike\n",
      "UNDER ARMOUR\n",
      "KIPRUN By Decathlon\n",
      "ALDO\n",
      "ALDO\n",
      "Hush Puppies\n",
      "Hush Puppies\n",
      "Puma\n",
      "DAVINCHI\n",
      "Skechers\n"
     ]
    }
   ],
   "source": [
    "for i in brandname_:\n",
    "    print(i)"
   ]
  },
  {
   "cell_type": "code",
   "execution_count": 11,
   "metadata": {},
   "outputs": [
    {
     "name": "stdout",
     "output_type": "stream",
     "text": [
      "Men JOYRIDE Running Shoes\n",
      "AIR ZOOM PEGASUS Running Shoes\n",
      "Men KD13 EP Basketball Shoes\n",
      "Men Sneakers\n",
      "Men Driving Shoes\n",
      "Men AIR ZOOM PEGASUS 38 Run\n",
      "Men AIR ZOOM Running Shoes\n",
      "Men Deviate Nitro Running Shoe\n",
      "Women AIR ELEMENT 2 Sneakers\n",
      "Men Leather Slip-On Sneakers\n",
      "Men HOVR Infinite Running\n",
      "HOVR Sonic 3 Running Shoes\n",
      "Unisex Clyde Basketball Shoes\n",
      "HOVR Sonic 3 Running Shoes\n",
      "Men JORDAN DELTA Sneakers\n",
      "Men KD500 Running Shoe\n",
      "TREKKING 100 Boots\n",
      "Men Running Shoes\n",
      "Women HOVR Rise 2 Training\n",
      "Men Leather Slip-On Shoes\n",
      "Women Deviate Nitro Running\n",
      "Men Leather Driving Shoes\n",
      "Women Velocity Nitro Running\n",
      "Men Solid Leather Formal Slip-Ons\n",
      "Men Trekking Shoes\n",
      "Men Formal Derbys\n",
      "Men Woven Design Sneakers\n",
      "Women Running Shoes\n",
      "Men IGNITE Dual Running Shoes\n",
      "Men Textured Leather Loafers\n",
      "Men Leather Loafers\n",
      "Men Solid Leather Formal Oxfords\n",
      "Men Leather Semiformal Driving\n",
      "Leather Sneakers\n",
      "Men Leather Sneakers\n",
      "Men Solid Loafers\n",
      "Men Leather Formal Slip-Ons\n",
      "Men Leather Slip-On Sneakers\n",
      "Women TriBase Reign 2 Training\n",
      "Women AIR MAX VIVA Sneakers\n",
      "Men Flex Advantage 4.0Upstream\n",
      "GS SC 3Zero IV Basketball\n",
      "Women Running Shoes\n",
      "Women Solid Leather Pumps\n",
      "Men Leather Formal Derbys\n",
      "Women Sandals\n",
      "Men Solid Leather Formal Derbys\n",
      "Men Solid Leather Formal Slip-Ons\n",
      "Men Leather Formal Slip Ons\n",
      "Men Football Shoes\n",
      "Men AIR ZOOM Running Shoes\n",
      "Men JOYRIDE Running Shoes\n",
      "AIR ZOOM PEGASUS Running Shoes\n",
      "Men KD13 EP Basketball Shoes\n",
      "Men Sneakers\n",
      "Men Driving Shoes\n",
      "Men AIR ZOOM PEGASUS 38 Run\n",
      "Men Deviate Nitro Running Shoe\n",
      "Men Leather Slip-On Sneakers\n",
      "Men HOVR Infinite Running\n",
      "HOVR Sonic 3 Running Shoes\n",
      "HOVR Sonic 3 Running Shoes\n",
      "Men Perforations Leather Brogues\n",
      "Men JORDAN DELTA Sneakers\n",
      "Unisex Clyde Basketball Shoes\n",
      "TREKKING 100 Boots\n",
      "Women HOVR Rise 2 Training\n",
      "Men Leather Slip-On Shoes\n",
      "Men KD500 Running Shoe\n",
      "Women Deviate Nitro Running\n",
      "Men Leather Driving Shoes\n",
      "Women Velocity Nitro Running\n",
      "Men Solid Leather Formal Slip-Ons\n",
      "Men Running Shoes\n",
      "Men Trekking Shoes\n",
      "Men Formal Derbys\n",
      "Men Woven Design Sneakers\n",
      "Women Running Shoes\n",
      "Men IGNITE Dual Running Shoes\n",
      "Men Solid Leather Formal Oxfords\n",
      "Men Leather Semiformal Driving\n",
      "Leather Sneakers\n",
      "Men Leather Sneakers\n",
      "Men Solid Loafers\n",
      "Men Leather Formal Slip-Ons\n",
      "Men Textured Leather Loafers\n",
      "Men Leather Loafers\n",
      "Women AIR ELEMENT 2 Sneakers\n",
      "Men Leather Slip-On Sneakers\n",
      "Women TriBase Reign 2 Training\n",
      "Women AIR MAX VIVA Sneakers\n",
      "GS SC 3Zero IV Basketball\n",
      "Women Running Shoes\n",
      "Women Solid Leather Pumps\n",
      "Women Sandals\n",
      "Men Solid Leather Formal Derbys\n",
      "Men Solid Leather Formal Slip-Ons\n",
      "Men Football Shoes\n",
      "Men Textured Formal Leather Loafers\n",
      "Men Flex Advantage 4.0Upstream\n"
     ]
    }
   ],
   "source": [
    "for i in shoe_desc_:\n",
    "    print(i)\n",
    "    "
   ]
  },
  {
   "cell_type": "code",
   "execution_count": 12,
   "metadata": {},
   "outputs": [
    {
     "name": "stdout",
     "output_type": "stream",
     "text": [
      "Rs. 10496Rs. 14995(30% OFF)\n",
      "Rs. 11495\n",
      "Rs. 12995\n",
      "Rs. 9999\n",
      "Rs. 11999\n",
      "Rs. 9995\n",
      "Rs. 8236Rs. 10295(20% OFF)\n",
      "Rs. 9749Rs. 14999(35% OFF)\n",
      "Rs. 7999\n",
      "Rs. 6999Rs. 9999(30% OFF)\n",
      "Rs. 11999\n",
      "Rs. 10999\n",
      "Rs. 7699Rs. 10999(30% OFF)\n",
      "Rs. 10999\n",
      "Rs. 10995\n",
      "Rs. 7857Rs. 8449(7% OFF)\n",
      "Rs. 6999\n",
      "Rs. 6999Rs. 9999(30% OFF)\n",
      "Rs. 9999\n",
      "Rs. 6999\n",
      "Rs. 9749Rs. 14999(35% OFF)\n",
      "Rs. 9990\n",
      "Rs. 7149Rs. 10999(35% OFF)\n",
      "Rs. 8999\n",
      "Rs. 9999\n",
      "Rs. 9999\n",
      "Rs. 8500\n",
      "Rs. 9799Rs. 13999(30% OFF)\n",
      "Rs. 6999\n",
      "Rs. 6990\n",
      "Rs. 8499\n",
      "Rs. 8094Rs. 13490(40% OFF)\n",
      "Rs. 10490\n",
      "Rs. 10999\n",
      "Rs. 7999\n",
      "Rs. 7990\n",
      "Rs. 7495Rs. 14990(50% OFF)\n",
      "Rs. 6999\n",
      "Rs. 8399Rs. 11999(30% OFF)\n",
      "Rs. 12495\n",
      "Rs. 6999\n",
      "Rs. 7499\n",
      "Rs. 7006Rs. 7149(2% OFF)\n",
      "Rs. 9999\n",
      "Rs. 7349Rs. 10499(30% OFF)\n",
      "Rs. 8999\n",
      "Rs. 9999\n",
      "Rs. 9999\n",
      "Rs. 8999\n",
      "Rs. 8499Rs. 16999(50% OFF)\n",
      "Rs. 8236Rs. 10295(20% OFF)\n",
      "Rs. 10496Rs. 14995(30% OFF)\n",
      "Rs. 11495\n",
      "Rs. 12995\n",
      "Rs. 9999\n",
      "Rs. 11999\n",
      "Rs. 9995\n",
      "Rs. 9749Rs. 14999(35% OFF)\n",
      "Rs. 6999Rs. 9999(30% OFF)\n",
      "Rs. 11999\n",
      "Rs. 10999\n",
      "Rs. 10999\n",
      "Rs. 6999\n",
      "Rs. 10995\n",
      "Rs. 7699Rs. 10999(30% OFF)\n",
      "Rs. 6999\n",
      "Rs. 9999\n",
      "Rs. 6999\n",
      "Rs. 7857Rs. 8449(7% OFF)\n",
      "Rs. 9749Rs. 14999(35% OFF)\n",
      "Rs. 9990\n",
      "Rs. 7149Rs. 10999(35% OFF)\n",
      "Rs. 8999\n",
      "Rs. 6999Rs. 9999(30% OFF)\n",
      "Rs. 9999\n",
      "Rs. 9999\n",
      "Rs. 8500\n",
      "Rs. 9799Rs. 13999(30% OFF)\n",
      "Rs. 6999\n",
      "Rs. 8094Rs. 13490(40% OFF)\n",
      "Rs. 10490\n",
      "Rs. 10999\n",
      "Rs. 7999\n",
      "Rs. 7990\n",
      "Rs. 7495Rs. 14990(50% OFF)\n",
      "Rs. 6990\n",
      "Rs. 8499\n",
      "Rs. 7999\n",
      "Rs. 6999\n",
      "Rs. 8399Rs. 11999(30% OFF)\n",
      "Rs. 12495\n",
      "Rs. 7499\n",
      "Rs. 7006Rs. 7149(2% OFF)\n",
      "Rs. 9999\n",
      "Rs. 8999\n",
      "Rs. 9999\n",
      "Rs. 9999\n",
      "Rs. 8499Rs. 16999(50% OFF)\n",
      "Rs. 8990\n",
      "Rs. 6999\n"
     ]
    }
   ],
   "source": [
    "for i in price_:\n",
    "    print(i)"
   ]
  },
  {
   "cell_type": "code",
   "execution_count": 13,
   "metadata": {},
   "outputs": [
    {
     "data": {
      "text/html": [
       "<div>\n",
       "<style scoped>\n",
       "    .dataframe tbody tr th:only-of-type {\n",
       "        vertical-align: middle;\n",
       "    }\n",
       "\n",
       "    .dataframe tbody tr th {\n",
       "        vertical-align: top;\n",
       "    }\n",
       "\n",
       "    .dataframe thead th {\n",
       "        text-align: right;\n",
       "    }\n",
       "</style>\n",
       "<table border=\"1\" class=\"dataframe\">\n",
       "  <thead>\n",
       "    <tr style=\"text-align: right;\">\n",
       "      <th></th>\n",
       "      <th>Brand Name</th>\n",
       "      <th>Short Description</th>\n",
       "      <th>Price</th>\n",
       "    </tr>\n",
       "  </thead>\n",
       "  <tbody>\n",
       "    <tr>\n",
       "      <th>0</th>\n",
       "      <td>Nike</td>\n",
       "      <td>Men JOYRIDE Running Shoes</td>\n",
       "      <td>Rs. 10496Rs. 14995(30% OFF)</td>\n",
       "    </tr>\n",
       "    <tr>\n",
       "      <th>1</th>\n",
       "      <td>Nike</td>\n",
       "      <td>AIR ZOOM PEGASUS Running Shoes</td>\n",
       "      <td>Rs. 11495</td>\n",
       "    </tr>\n",
       "    <tr>\n",
       "      <th>2</th>\n",
       "      <td>Nike</td>\n",
       "      <td>Men KD13 EP Basketball Shoes</td>\n",
       "      <td>Rs. 12995</td>\n",
       "    </tr>\n",
       "    <tr>\n",
       "      <th>3</th>\n",
       "      <td>ALDO</td>\n",
       "      <td>Men Sneakers</td>\n",
       "      <td>Rs. 9999</td>\n",
       "    </tr>\n",
       "    <tr>\n",
       "      <th>4</th>\n",
       "      <td>ALDO</td>\n",
       "      <td>Men Driving Shoes</td>\n",
       "      <td>Rs. 11999</td>\n",
       "    </tr>\n",
       "    <tr>\n",
       "      <th>...</th>\n",
       "      <td>...</td>\n",
       "      <td>...</td>\n",
       "      <td>...</td>\n",
       "    </tr>\n",
       "    <tr>\n",
       "      <th>95</th>\n",
       "      <td>Hush Puppies</td>\n",
       "      <td>Men Solid Leather Formal Derbys</td>\n",
       "      <td>Rs. 9999</td>\n",
       "    </tr>\n",
       "    <tr>\n",
       "      <th>96</th>\n",
       "      <td>Hush Puppies</td>\n",
       "      <td>Men Solid Leather Formal Slip-Ons</td>\n",
       "      <td>Rs. 9999</td>\n",
       "    </tr>\n",
       "    <tr>\n",
       "      <th>97</th>\n",
       "      <td>Puma</td>\n",
       "      <td>Men Football Shoes</td>\n",
       "      <td>Rs. 8499Rs. 16999(50% OFF)</td>\n",
       "    </tr>\n",
       "    <tr>\n",
       "      <th>98</th>\n",
       "      <td>DAVINCHI</td>\n",
       "      <td>Men Textured Formal Leather Loafers</td>\n",
       "      <td>Rs. 8990</td>\n",
       "    </tr>\n",
       "    <tr>\n",
       "      <th>99</th>\n",
       "      <td>Skechers</td>\n",
       "      <td>Men Flex Advantage 4.0Upstream</td>\n",
       "      <td>Rs. 6999</td>\n",
       "    </tr>\n",
       "  </tbody>\n",
       "</table>\n",
       "<p>100 rows × 3 columns</p>\n",
       "</div>"
      ],
      "text/plain": [
       "      Brand Name                    Short Description  \\\n",
       "0           Nike            Men JOYRIDE Running Shoes   \n",
       "1           Nike       AIR ZOOM PEGASUS Running Shoes   \n",
       "2           Nike         Men KD13 EP Basketball Shoes   \n",
       "3           ALDO                         Men Sneakers   \n",
       "4           ALDO                    Men Driving Shoes   \n",
       "..           ...                                  ...   \n",
       "95  Hush Puppies      Men Solid Leather Formal Derbys   \n",
       "96  Hush Puppies    Men Solid Leather Formal Slip-Ons   \n",
       "97          Puma                   Men Football Shoes   \n",
       "98      DAVINCHI  Men Textured Formal Leather Loafers   \n",
       "99      Skechers       Men Flex Advantage 4.0Upstream   \n",
       "\n",
       "                          Price  \n",
       "0   Rs. 10496Rs. 14995(30% OFF)  \n",
       "1                     Rs. 11495  \n",
       "2                     Rs. 12995  \n",
       "3                      Rs. 9999  \n",
       "4                     Rs. 11999  \n",
       "..                          ...  \n",
       "95                     Rs. 9999  \n",
       "96                     Rs. 9999  \n",
       "97   Rs. 8499Rs. 16999(50% OFF)  \n",
       "98                     Rs. 8990  \n",
       "99                     Rs. 6999  \n",
       "\n",
       "[100 rows x 3 columns]"
      ]
     },
     "execution_count": 13,
     "metadata": {},
     "output_type": "execute_result"
    }
   ],
   "source": [
    "import pandas as pd\n",
    "shoe_detail=pd.DataFrame({})\n",
    "shoe_detail['Brand Name']=brandname_\n",
    "shoe_detail['Short Description']=shoe_desc_\n",
    "shoe_detail['Price']=price_\n",
    "shoe_detail"
   ]
  },
  {
   "cell_type": "markdown",
   "metadata": {},
   "source": [
    "### Q10 scrape data from amazon laptop title,rating and the discount"
   ]
  },
  {
   "cell_type": "code",
   "execution_count": 18,
   "metadata": {},
   "outputs": [
    {
     "name": "stdout",
     "output_type": "stream",
     "text": [
      "Requirement already satisfied: selenium in c:\\jpytr notebook\\lib\\site-packages (3.141.0)\n",
      "Requirement already satisfied: urllib3 in c:\\jpytr notebook\\lib\\site-packages (from selenium) (1.25.11)\n"
     ]
    }
   ],
   "source": [
    "#install selenium\n",
    "\n",
    "!pip install selenium"
   ]
  },
  {
   "cell_type": "code",
   "execution_count": 19,
   "metadata": {},
   "outputs": [],
   "source": [
    "#install imp libraries\n",
    "\n",
    "import selenium\n",
    "from selenium import webdriver\n",
    "import time\n",
    "from selenium.common.exceptions import NoSuchElementException"
   ]
  },
  {
   "cell_type": "code",
   "execution_count": 24,
   "metadata": {},
   "outputs": [],
   "source": [
    "#install chrome driver\n",
    "\n",
    "driver=webdriver.Chrome(\"chromedriver.exe\")"
   ]
  },
  {
   "cell_type": "code",
   "execution_count": 25,
   "metadata": {},
   "outputs": [],
   "source": [
    "url=\"https://www.amazon.in/\"\n",
    "driver.get(url)"
   ]
  },
  {
   "cell_type": "code",
   "execution_count": 26,
   "metadata": {},
   "outputs": [
    {
     "data": {
      "text/plain": [
       "<selenium.webdriver.remote.webelement.WebElement (session=\"25462483699ba88551a1c6b29d5925bf\", element=\"aa1cc743-b3d1-451f-bd59-ada8c3119f97\")>"
      ]
     },
     "execution_count": 26,
     "metadata": {},
     "output_type": "execute_result"
    }
   ],
   "source": [
    "search=driver.find_element_by_id(\"twotabsearchtextbox\")\n",
    "search"
   ]
  },
  {
   "cell_type": "code",
   "execution_count": 27,
   "metadata": {},
   "outputs": [],
   "source": [
    "search.send_keys(\"laptops\")"
   ]
  },
  {
   "cell_type": "code",
   "execution_count": 28,
   "metadata": {},
   "outputs": [],
   "source": [
    "search_click=driver.find_element_by_id(\"nav-search-submit-button\")\n",
    "search_click.click()"
   ]
  },
  {
   "cell_type": "code",
   "execution_count": 29,
   "metadata": {},
   "outputs": [],
   "source": [
    "filter_i7=driver.find_element_by_xpath(\"//*[text()='Intel Core i7']\")\n",
    "filter_i7.click()"
   ]
  },
  {
   "cell_type": "code",
   "execution_count": 30,
   "metadata": {},
   "outputs": [],
   "source": [
    "filter_i9=driver.find_element_by_xpath(\"//*[text()='Intel Core i9']\")\n",
    "filter_i9.click()"
   ]
  },
  {
   "cell_type": "code",
   "execution_count": 31,
   "metadata": {},
   "outputs": [],
   "source": [
    "urls=[]\n",
    "for i in driver.find_elements_by_xpath(\"//a[@class='a-link-normal a-text-normal']\"):\n",
    "    urls.append(i.get_attribute(\"href\"))"
   ]
  },
  {
   "cell_type": "code",
   "execution_count": 32,
   "metadata": {},
   "outputs": [],
   "source": [
    "title_=[]\n",
    "rating_=[]\n",
    "price_=[]"
   ]
  },
  {
   "cell_type": "code",
   "execution_count": 33,
   "metadata": {},
   "outputs": [],
   "source": [
    "#fetching data using try and except\n",
    "\n",
    "for i in urls[:10]:\n",
    "    driver.get(i)\n",
    "    time.sleep(3)\n",
    "    \n",
    "    #for fetching the title\n",
    "    \n",
    "    try:\n",
    "        title=driver.find_element_by_xpath(\"//h1[@class='a-size-large a-spacing-none']\")\n",
    "        title_.append(title.text)\n",
    "    except:\n",
    "        title_.append('-')\n",
    "        \n",
    "    #for fetching the rating\n",
    "        \n",
    "    try:\n",
    "        rating=driver.find_element_by_xpath(\"//span[@class='a-size-base a-nowrap']\")\n",
    "        rating_.append(rating.text)\n",
    "    except:\n",
    "        rating_.append('-')\n",
    "        \n",
    "    \n",
    "    #for fetching the price\n",
    "        \n",
    "    try:\n",
    "        price=driver.find_element_by_xpath(\"//tr[@id='priceblock_ourprice_row']\")\n",
    "        price_.append(price.text)\n",
    "    except:\n",
    "        price_.append('-')"
   ]
  },
  {
   "cell_type": "code",
   "execution_count": 34,
   "metadata": {},
   "outputs": [
    {
     "data": {
      "text/html": [
       "<div>\n",
       "<style scoped>\n",
       "    .dataframe tbody tr th:only-of-type {\n",
       "        vertical-align: middle;\n",
       "    }\n",
       "\n",
       "    .dataframe tbody tr th {\n",
       "        vertical-align: top;\n",
       "    }\n",
       "\n",
       "    .dataframe thead th {\n",
       "        text-align: right;\n",
       "    }\n",
       "</style>\n",
       "<table border=\"1\" class=\"dataframe\">\n",
       "  <thead>\n",
       "    <tr style=\"text-align: right;\">\n",
       "      <th></th>\n",
       "      <th>Title</th>\n",
       "      <th>Rating</th>\n",
       "      <th>Price</th>\n",
       "    </tr>\n",
       "  </thead>\n",
       "  <tbody>\n",
       "    <tr>\n",
       "      <th>0</th>\n",
       "      <td>HP Pavilion x360 (2021) 14\" (35.56cms) FHD Tou...</td>\n",
       "      <td>3.9 out of 5</td>\n",
       "      <td>Price: ₹ 78,903.00</td>\n",
       "    </tr>\n",
       "    <tr>\n",
       "      <th>1</th>\n",
       "      <td>HP Pavilion (2021) Thin &amp; Light 11th Gen Core ...</td>\n",
       "      <td>4.5 out of 5</td>\n",
       "      <td>Price: ₹ 84,990.00</td>\n",
       "    </tr>\n",
       "    <tr>\n",
       "      <th>2</th>\n",
       "      <td>(Renewed) Dell Intel Core i7 4th Gen 14 Inch(3...</td>\n",
       "      <td>-</td>\n",
       "      <td>Price: ₹ 41,999.00</td>\n",
       "    </tr>\n",
       "    <tr>\n",
       "      <th>3</th>\n",
       "      <td>(Renewed) Dell Intel Core i7 4th Gen 14 Inch(3...</td>\n",
       "      <td>-</td>\n",
       "      <td>Price: ₹ 46,999.00</td>\n",
       "    </tr>\n",
       "    <tr>\n",
       "      <th>4</th>\n",
       "      <td>Mi Notebook Horizon Edition 14 Intel Core i7-1...</td>\n",
       "      <td>4.4 out of 5</td>\n",
       "      <td>Combo Price: ₹ 59,999.00</td>\n",
       "    </tr>\n",
       "    <tr>\n",
       "      <th>5</th>\n",
       "      <td>(Renewed) Dell Intel Core i7 4th Gen 14 Inch(3...</td>\n",
       "      <td>-</td>\n",
       "      <td>Price: ₹ 54,999.00</td>\n",
       "    </tr>\n",
       "    <tr>\n",
       "      <th>6</th>\n",
       "      <td>HP Pavilion Gaming 10th Gen Intel Core i7 Proc...</td>\n",
       "      <td>4.2 out of 5</td>\n",
       "      <td>Price: ₹ 86,990.00</td>\n",
       "    </tr>\n",
       "    <tr>\n",
       "      <th>7</th>\n",
       "      <td>(Renewed) Dell Intel Core i7 4th Gen 14 Inch(3...</td>\n",
       "      <td>-</td>\n",
       "      <td>Price: ₹ 39,999.00</td>\n",
       "    </tr>\n",
       "    <tr>\n",
       "      <th>8</th>\n",
       "      <td>Dell Inspiron 5410 14\" FHD Touch Display 2in1 ...</td>\n",
       "      <td>4.5 out of 5</td>\n",
       "      <td>Price: ₹ 91,790.00</td>\n",
       "    </tr>\n",
       "    <tr>\n",
       "      <th>9</th>\n",
       "      <td>(Renewed) Dell Intel Core i7 4th Gen 14 Inch(3...</td>\n",
       "      <td>-</td>\n",
       "      <td>Price: ₹ 42,999.00</td>\n",
       "    </tr>\n",
       "  </tbody>\n",
       "</table>\n",
       "</div>"
      ],
      "text/plain": [
       "                                               Title        Rating  \\\n",
       "0  HP Pavilion x360 (2021) 14\" (35.56cms) FHD Tou...  3.9 out of 5   \n",
       "1  HP Pavilion (2021) Thin & Light 11th Gen Core ...  4.5 out of 5   \n",
       "2  (Renewed) Dell Intel Core i7 4th Gen 14 Inch(3...             -   \n",
       "3  (Renewed) Dell Intel Core i7 4th Gen 14 Inch(3...             -   \n",
       "4  Mi Notebook Horizon Edition 14 Intel Core i7-1...  4.4 out of 5   \n",
       "5  (Renewed) Dell Intel Core i7 4th Gen 14 Inch(3...             -   \n",
       "6  HP Pavilion Gaming 10th Gen Intel Core i7 Proc...  4.2 out of 5   \n",
       "7  (Renewed) Dell Intel Core i7 4th Gen 14 Inch(3...             -   \n",
       "8  Dell Inspiron 5410 14\" FHD Touch Display 2in1 ...  4.5 out of 5   \n",
       "9  (Renewed) Dell Intel Core i7 4th Gen 14 Inch(3...             -   \n",
       "\n",
       "                      Price  \n",
       "0        Price: ₹ 78,903.00  \n",
       "1        Price: ₹ 84,990.00  \n",
       "2        Price: ₹ 41,999.00  \n",
       "3        Price: ₹ 46,999.00  \n",
       "4  Combo Price: ₹ 59,999.00  \n",
       "5        Price: ₹ 54,999.00  \n",
       "6        Price: ₹ 86,990.00  \n",
       "7        Price: ₹ 39,999.00  \n",
       "8        Price: ₹ 91,790.00  \n",
       "9        Price: ₹ 42,999.00  "
      ]
     },
     "execution_count": 34,
     "metadata": {},
     "output_type": "execute_result"
    }
   ],
   "source": [
    "#putting all the data into dataframe\n",
    "\n",
    "import pandas as pd\n",
    "laptop_detail=pd.DataFrame({})\n",
    "laptop_detail['Title']=title_\n",
    "laptop_detail['Rating']=rating_\n",
    "laptop_detail['Price']=price_\n",
    "laptop_detail"
   ]
  },
  {
   "cell_type": "code",
   "execution_count": null,
   "metadata": {},
   "outputs": [],
   "source": []
  }
 ],
 "metadata": {
  "kernelspec": {
   "display_name": "Python 3",
   "language": "python",
   "name": "python3"
  },
  "language_info": {
   "codemirror_mode": {
    "name": "ipython",
    "version": 3
   },
   "file_extension": ".py",
   "mimetype": "text/x-python",
   "name": "python",
   "nbconvert_exporter": "python",
   "pygments_lexer": "ipython3",
   "version": "3.8.5"
  }
 },
 "nbformat": 4,
 "nbformat_minor": 4
}

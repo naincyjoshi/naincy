{
 "cells": [
  {
   "cell_type": "markdown",
   "metadata": {},
   "source": [
    "## wikipedia Header Finding"
   ]
  },
  {
   "cell_type": "code",
   "execution_count": null,
   "metadata": {},
   "outputs": [],
   "source": [
    "!pip install bs4\n",
    "!pip install requests"
   ]
  },
  {
   "cell_type": "code",
   "execution_count": null,
   "metadata": {},
   "outputs": [],
   "source": [
    "from bs4 import BeautifulSoup\n",
    "import requests"
   ]
  },
  {
   "cell_type": "code",
   "execution_count": null,
   "metadata": {},
   "outputs": [],
   "source": [
    "page=requests.get(\"http://en.wikipedia.org/wiki/Main_Page\")\n",
    "page"
   ]
  },
  {
   "cell_type": "code",
   "execution_count": null,
   "metadata": {},
   "outputs": [],
   "source": [
    "soup=BeautifulSoup(page.content)\n",
    "soup"
   ]
  },
  {
   "cell_type": "code",
   "execution_count": null,
   "metadata": {},
   "outputs": [],
   "source": [
    "first_header=soup.find('h2',class_=\"mp-h2\")\n",
    "first_header"
   ]
  },
  {
   "cell_type": "code",
   "execution_count": null,
   "metadata": {},
   "outputs": [],
   "source": [
    "first_header.text"
   ]
  },
  {
   "cell_type": "code",
   "execution_count": null,
   "metadata": {},
   "outputs": [],
   "source": [
    "headers=soup.find_all('h2',class_=\"mp-h2\")\n",
    "headers"
   ]
  },
  {
   "cell_type": "code",
   "execution_count": null,
   "metadata": {},
   "outputs": [],
   "source": [
    "first_header=[]\n",
    "for i in headers:\n",
    "    first_header.append(i.text)\n",
    "first_header"
   ]
  },
  {
   "cell_type": "code",
   "execution_count": null,
   "metadata": {},
   "outputs": [],
   "source": [
    "import pandas as pd\n",
    "headers=pd.DataFrame({})\n",
    "headers['all_headers']=first_header\n",
    "headers"
   ]
  },
  {
   "cell_type": "markdown",
   "metadata": {},
   "source": [
    "## 100 Top Rated Movie"
   ]
  },
  {
   "cell_type": "code",
   "execution_count": null,
   "metadata": {},
   "outputs": [],
   "source": [
    "\n",
    "!pip install bs4\n",
    "!pip install requests"
   ]
  },
  {
   "cell_type": "code",
   "execution_count": null,
   "metadata": {},
   "outputs": [],
   "source": [
    "from bs4 import BeautifulSoup\n",
    "import requests"
   ]
  },
  {
   "cell_type": "code",
   "execution_count": null,
   "metadata": {},
   "outputs": [],
   "source": [
    "page=requests.get(\"https://www.imdb.com/list/ls056092300/\")\n",
    "page"
   ]
  },
  {
   "cell_type": "code",
   "execution_count": null,
   "metadata": {},
   "outputs": [],
   "source": [
    "soup=BeautifulSoup(page.content)\n",
    "soup"
   ]
  },
  {
   "cell_type": "code",
   "execution_count": null,
   "metadata": {},
   "outputs": [],
   "source": [
    "movie_title=soup.find('h3',class_=\"lister-item-header\")\n",
    "\n",
    "movie_title"
   ]
  },
  {
   "cell_type": "code",
   "execution_count": null,
   "metadata": {},
   "outputs": [],
   "source": [
    "movie_title.text"
   ]
  },
  {
   "cell_type": "code",
   "execution_count": null,
   "metadata": {},
   "outputs": [],
   "source": [
    "movie_title.text.replace('\\n','')"
   ]
  },
  {
   "cell_type": "code",
   "execution_count": null,
   "metadata": {},
   "outputs": [],
   "source": [
    "titles=soup.find_all('h3',class_=\"lister-item-header\")\n",
    "titles"
   ]
  },
  {
   "cell_type": "code",
   "execution_count": null,
   "metadata": {},
   "outputs": [],
   "source": [
    "movie_title=[]\n",
    "for i in titles:\n",
    "    movie_title.append(i.text.replace(\"\\n\",\"\"))\n",
    "movie_title"
   ]
  },
  {
   "cell_type": "code",
   "execution_count": null,
   "metadata": {},
   "outputs": [],
   "source": [
    "star_rating=soup.find_all('div',class_=\"ipl-rating-widget\")\n",
    "star_rating  "
   ]
  },
  {
   "cell_type": "code",
   "execution_count": null,
   "metadata": {},
   "outputs": [],
   "source": [
    "starrating=[]\n",
    "for i in star_rating:\n",
    "    starrating.append(i.find_all('span',class_=\"ipl-rating-star__rating\")[0].text.strip())\n",
    "starrating"
   ]
  },
  {
   "cell_type": "code",
   "execution_count": null,
   "metadata": {},
   "outputs": [],
   "source": [
    "import pandas as pd\n",
    "index=pd.DataFrame({})\n",
    "index['MOVIE Name and Release YEAR']=movie_title\n",
    "index['rating']=starrating\n",
    "index"
   ]
  },
  {
   "cell_type": "markdown",
   "metadata": {},
   "source": [
    "## TOP 5 Book"
   ]
  },
  {
   "cell_type": "code",
   "execution_count": null,
   "metadata": {},
   "outputs": [],
   "source": [
    "!pip install bs4\n",
    "!pip install requests"
   ]
  },
  {
   "cell_type": "code",
   "execution_count": null,
   "metadata": {},
   "outputs": [],
   "source": [
    "from bs4 import BeautifulSoup\n",
    "import requests"
   ]
  },
  {
   "cell_type": "code",
   "execution_count": null,
   "metadata": {},
   "outputs": [],
   "source": [
    "page=requests.get(\"https://bookpage.com/\")\n",
    "page"
   ]
  },
  {
   "cell_type": "code",
   "execution_count": null,
   "metadata": {},
   "outputs": [],
   "source": [
    "soup=BeautifulSoup(page.content)\n",
    "soup"
   ]
  },
  {
   "cell_type": "code",
   "execution_count": null,
   "metadata": {},
   "outputs": [],
   "source": [
    "import pandas as pd\n",
    "raw_data={'Book Name':['Act Your AGE,Eve Brown','Dusk,Night,Dawn','The Natural Mother Of Child','In','The Hidden Palace'],\n",
    "         'Author Name':['Talia Hebert','Anne lamotte','Krys Malcom Belc','Will McPhail','Helele wecker'],\n",
    "         'Genere':['Contemporary Romantic','NonFiction','NonFiction','Graphic Novel','Fiction'],\n",
    "         'Book Review':['Narrator Ione Butler goes straight for the heart—but never loses the humor—in her rendition of Talia Hibbert’s latest rom-com','Anne Lamott’s narration of Dusk, Night, Dawn is the soundtrack for feeling better in the midst of a troubled landscape','Krys Malcolm Belc’s growing realization that he identified as male happened as his wife bore children and as Belc decided to carry a child as well.','Small talk becomes real talk in Will McPhail’s graphic novel, and the world suddenly seems all that much brighter.','Fans have waited eight years for this sequel, a minor eternity perfectly in keeping with the precarious immortality of Helene Wecker’s hopeful monsters.']}\n",
    "df=pd.DataFrame(raw_data,columns=['Book Name','Author Name','Genere','Book Review'])\n",
    "df"
   ]
  },
  {
   "cell_type": "markdown",
   "metadata": {},
   "source": [
    "## Top 10 Mens Ranking"
   ]
  },
  {
   "cell_type": "code",
   "execution_count": null,
   "metadata": {},
   "outputs": [],
   "source": [
    "!pip install bs4\n",
    "!pip install requests"
   ]
  },
  {
   "cell_type": "code",
   "execution_count": null,
   "metadata": {},
   "outputs": [],
   "source": [
    "from bs4 import BeautifulSoup\n",
    "import requests"
   ]
  },
  {
   "cell_type": "code",
   "execution_count": null,
   "metadata": {},
   "outputs": [],
   "source": [
    "page=requests.get(\"https://www.icc-cricket.com/rankings/mens/team-rankings/odi\")\n",
    "page"
   ]
  },
  {
   "cell_type": "code",
   "execution_count": null,
   "metadata": {},
   "outputs": [],
   "source": [
    "soup=BeautifulSoup(page.content)\n",
    "soup"
   ]
  },
  {
   "cell_type": "code",
   "execution_count": null,
   "metadata": {},
   "outputs": [],
   "source": [
    "ICC_ranking=soup.find('td',class_=\"rankings-block__banner--team-name\")\n",
    "ICC_ranking"
   ]
  },
  {
   "cell_type": "code",
   "execution_count": null,
   "metadata": {},
   "outputs": [],
   "source": [
    "ranking=soup.find_all('td',class_=\"table-body__cell rankings-table__team\")\n",
    "ranking"
   ]
  },
  {
   "cell_type": "code",
   "execution_count": null,
   "metadata": {},
   "outputs": [],
   "source": [
    "ODIranking=[]\n",
    "ODIranking.append(ICC_ranking.text.strip())\n",
    "for i in ranking:\n",
    "    ODIranking.append(i.text.replace(\"\\n\",\"\"))\n",
    "ODIranking"
   ]
  },
  {
   "cell_type": "code",
   "execution_count": null,
   "metadata": {},
   "outputs": [],
   "source": [
    "matchbanner=soup.find('td',class_=\"rankings-block__banner--matches\")\n",
    "matchbanner"
   ]
  },
  {
   "cell_type": "code",
   "execution_count": null,
   "metadata": {},
   "outputs": [],
   "source": [
    "points_=soup.find('td',class_=\"rankings-block__banner--points\")\n",
    "points_"
   ]
  },
  {
   "cell_type": "code",
   "execution_count": null,
   "metadata": {},
   "outputs": [],
   "source": [
    "matches=soup.find_all('tr',class_=\"table-body\")\n",
    "matches"
   ]
  },
  {
   "cell_type": "code",
   "execution_count": null,
   "metadata": {},
   "outputs": [],
   "source": [
    "matches_ = []\n",
    "matches_.append(matchbanner.text.strip())\n",
    "points=[]\n",
    "points.append(points_.text.strip())\n",
    "for i in matches:\n",
    "    matches_.append(i.find_all('td',class_=\"table-body__cell u-center-text\")[0].text.strip())\n",
    "    points.append(i.find_all('td',class_=\"table-body__cell u-center-text\")[1].text.strip())"
   ]
  },
  {
   "cell_type": "code",
   "execution_count": null,
   "metadata": {},
   "outputs": [],
   "source": [
    "matches_"
   ]
  },
  {
   "cell_type": "code",
   "execution_count": null,
   "metadata": {},
   "outputs": [],
   "source": [
    "points"
   ]
  },
  {
   "cell_type": "code",
   "execution_count": null,
   "metadata": {},
   "outputs": [],
   "source": [
    "rating=soup.find('td',class_=\"rankings-block__banner--points\")\n",
    "rating"
   ]
  },
  {
   "cell_type": "code",
   "execution_count": null,
   "metadata": {},
   "outputs": [],
   "source": [
    "ratings=soup.find_all('td',class_=\"table-body__cell u-text-right rating\")\n",
    "ratings"
   ]
  },
  {
   "cell_type": "code",
   "execution_count": null,
   "metadata": {},
   "outputs": [],
   "source": [
    "ratings_=[]\n",
    "ratings_.append(rating.text.strip())\n",
    "for i in ratings:\n",
    "    ratings_.append(i.text.replace(\"\\n\",\"\"))\n",
    "ratings_"
   ]
  },
  {
   "cell_type": "code",
   "execution_count": null,
   "metadata": {},
   "outputs": [],
   "source": [
    "import pandas as pd\n",
    "cricket=pd.DataFrame({})\n",
    "cricket['Teams']=ODIranking\n",
    "cricket['Matches']=matches_\n",
    "cricket['Points']=points\n",
    "cricket['Ratings']=ratings_\n",
    "cricket.head(10)"
   ]
  },
  {
   "cell_type": "markdown",
   "metadata": {},
   "source": [
    "## Top 10 Mens in Batting"
   ]
  },
  {
   "cell_type": "code",
   "execution_count": null,
   "metadata": {},
   "outputs": [],
   "source": [
    "!pip install bs4\n",
    "!pip install requests"
   ]
  },
  {
   "cell_type": "code",
   "execution_count": null,
   "metadata": {},
   "outputs": [],
   "source": [
    "from bs4 import BeautifulSoup\n",
    "import requests"
   ]
  },
  {
   "cell_type": "code",
   "execution_count": null,
   "metadata": {},
   "outputs": [],
   "source": [
    "page=requests.get(\"https://www.icc-cricket.com/rankings/mens/player-rankings/odi\")\n",
    "page"
   ]
  },
  {
   "cell_type": "code",
   "execution_count": null,
   "metadata": {},
   "outputs": [],
   "source": [
    "soup=BeautifulSoup(page.content)\n",
    "soup"
   ]
  },
  {
   "cell_type": "code",
   "execution_count": null,
   "metadata": {},
   "outputs": [],
   "source": [
    "player_name=soup.find('td',class_=\"table-body__cell name\")\n",
    "player_name"
   ]
  },
  {
   "cell_type": "code",
   "execution_count": null,
   "metadata": {},
   "outputs": [],
   "source": [
    "player_name.text"
   ]
  },
  {
   "cell_type": "code",
   "execution_count": null,
   "metadata": {},
   "outputs": [],
   "source": [
    "player=soup.find_all('td',class_=\"table-body__cell name\")\n",
    "player"
   ]
  },
  {
   "cell_type": "code",
   "execution_count": null,
   "metadata": {},
   "outputs": [],
   "source": [
    "firstbatsman=soup.find('div',class_=\"rankings-block__banner--name\")\n",
    "firstbatsman.text"
   ]
  },
  {
   "cell_type": "code",
   "execution_count": null,
   "metadata": {},
   "outputs": [],
   "source": [
    "player_name=[]\n",
    "player_name.append(firstbatsman.text.strip())\n",
    "for i in player:\n",
    "    \n",
    "    player_name.append(i.text.replace(\"\\n\",\"\"))\n",
    "    \n",
    "player_name"
   ]
  },
  {
   "cell_type": "code",
   "execution_count": null,
   "metadata": {},
   "outputs": [],
   "source": [
    "team=soup.find_all('span',class_='table-body__logo-text')\n",
    "team"
   ]
  },
  {
   "cell_type": "code",
   "execution_count": null,
   "metadata": {},
   "outputs": [],
   "source": [
    "countryname=soup.find('div',class_=\"rankings-block__banner--nationality\")\n",
    "countryname=countryname.text.strip().replace(\"\\n\",\"\").split(' ')[0]\n",
    "countryname"
   ]
  },
  {
   "cell_type": "code",
   "execution_count": null,
   "metadata": {},
   "outputs": [],
   "source": [
    "team_=[]\n",
    "team_.append(countryname)\n",
    "for i in team:\n",
    "    team_.append(i.text.replace(\"\\n\",\"\"))\n",
    "team_"
   ]
  },
  {
   "cell_type": "code",
   "execution_count": null,
   "metadata": {},
   "outputs": [],
   "source": [
    "rating_=soup.find('div',class_=\"rankings-block__banner--nationality\")\n",
    "rating_=rating_.text.strip().replace(\"\\n\",\"\").split(' ')[-1]\n",
    "rating_"
   ]
  },
  {
   "cell_type": "code",
   "execution_count": null,
   "metadata": {},
   "outputs": [],
   "source": [
    "rating=soup.find_all('td',class_=\"table-body__cell u-text-right rating\")\n",
    "rating"
   ]
  },
  {
   "cell_type": "code",
   "execution_count": null,
   "metadata": {},
   "outputs": [],
   "source": [
    "rating_Batting=[]\n",
    "rating_Batting.append(rating_)\n",
    "for i in rating:\n",
    "    rating_Batting.append(i.text.replace(\"\\n\",\"\"))\n",
    "rating_Batting"
   ]
  },
  {
   "cell_type": "code",
   "execution_count": null,
   "metadata": {},
   "outputs": [],
   "source": [
    "import pandas as pd\n",
    "cricket=pd.DataFrame({})\n",
    "cricket['player']=player_name\n",
    "cricket['team']=team_\n",
    "cricket['rating']=rating_Batting\n",
    "cricket.head(10)"
   ]
  },
  {
   "cell_type": "markdown",
   "metadata": {},
   "source": [
    "## Top 10 Mens in Bowling"
   ]
  },
  {
   "cell_type": "code",
   "execution_count": null,
   "metadata": {},
   "outputs": [],
   "source": [
    "!pip install bs4\n",
    "!pip install requests"
   ]
  },
  {
   "cell_type": "code",
   "execution_count": null,
   "metadata": {},
   "outputs": [],
   "source": [
    "from bs4 import BeautifulSoup\n",
    "import requests"
   ]
  },
  {
   "cell_type": "code",
   "execution_count": null,
   "metadata": {},
   "outputs": [],
   "source": [
    "page=requests.get(\"https://www.icc-cricket.com/rankings/mens/player-rankings/odi/bowling\")\n",
    "page"
   ]
  },
  {
   "cell_type": "code",
   "execution_count": null,
   "metadata": {},
   "outputs": [],
   "source": [
    "soup=BeautifulSoup(page.content)\n",
    "soup"
   ]
  },
  {
   "cell_type": "code",
   "execution_count": null,
   "metadata": {},
   "outputs": [],
   "source": [
    "Bowler_player_name=soup.find('div',class_=\"rankings-block__banner--name-large\")\n",
    "Bowler_player_name"
   ]
  },
  {
   "cell_type": "code",
   "execution_count": null,
   "metadata": {},
   "outputs": [],
   "source": [
    "Bowler_name=soup.find_all('td',class_=\"table-body__cell rankings-table__name name\")\n",
    "Bowler_name"
   ]
  },
  {
   "cell_type": "code",
   "execution_count": null,
   "metadata": {},
   "outputs": [],
   "source": [
    "Bowlerplayer=[]\n",
    "Bowlerplayer.append(Bowler_player_name.text.strip())\n",
    "for i in Bowler_name:\n",
    "    Bowlerplayer.append(i.text.replace(\"\\n\",\"\"))\n",
    "Bowlerplayer"
   ]
  },
  {
   "cell_type": "code",
   "execution_count": null,
   "metadata": {},
   "outputs": [],
   "source": [
    "country_name=soup.find('div',class_=\"rankings-block__banner--nationality\")\n",
    "country_name"
   ]
  },
  {
   "cell_type": "code",
   "execution_count": null,
   "metadata": {},
   "outputs": [],
   "source": [
    "Teams=soup.find_all('span',class_=\"table-body__logo-text\")\n",
    "Teams"
   ]
  },
  {
   "cell_type": "code",
   "execution_count": null,
   "metadata": {},
   "outputs": [],
   "source": [
    "countryname=[]\n",
    "countryname.append(country_name.text.strip())\n",
    "for i in Teams:\n",
    "    countryname.append(i.text)\n",
    "countryname"
   ]
  },
  {
   "cell_type": "code",
   "execution_count": null,
   "metadata": {},
   "outputs": [],
   "source": [
    "R1=soup.find('div',class_=\"rankings-block__banner--rating\")\n",
    "R1"
   ]
  },
  {
   "cell_type": "code",
   "execution_count": null,
   "metadata": {},
   "outputs": [],
   "source": [
    "rating=soup.find_all('td',class_=\"table-body__cell rating\")\n",
    "rating"
   ]
  },
  {
   "cell_type": "code",
   "execution_count": null,
   "metadata": {},
   "outputs": [],
   "source": [
    "ratings_=[]\n",
    "ratings_.append(R1.text.strip())\n",
    "for i in rating:\n",
    "    ratings_.append(i.text)\n",
    "ratings_"
   ]
  },
  {
   "cell_type": "code",
   "execution_count": null,
   "metadata": {},
   "outputs": [],
   "source": [
    "len(Bowler_player_name)"
   ]
  },
  {
   "cell_type": "code",
   "execution_count": null,
   "metadata": {},
   "outputs": [],
   "source": [
    "import pandas as pd\n",
    "cricket=pd.DataFrame({})\n",
    "cricket['Bowlerplayer']=Bowlerplayer\n",
    "cricket['Teams']=countryname\n",
    "cricket['ratings']=ratings_\n",
    "cricket.head(10)"
   ]
  },
  {
   "cell_type": "markdown",
   "metadata": {},
   "source": [
    "## TOP 10 Womens Ranking"
   ]
  },
  {
   "cell_type": "code",
   "execution_count": null,
   "metadata": {},
   "outputs": [],
   "source": [
    "!pip install bs4\n",
    "!pip install requests"
   ]
  },
  {
   "cell_type": "code",
   "execution_count": null,
   "metadata": {},
   "outputs": [],
   "source": [
    "from bs4 import BeautifulSoup\n",
    "import requests"
   ]
  },
  {
   "cell_type": "code",
   "execution_count": null,
   "metadata": {},
   "outputs": [],
   "source": [
    "page=requests.get(\"https://www.icc-cricket.com/rankings/womens/team-rankings/odi\")\n",
    "page"
   ]
  },
  {
   "cell_type": "code",
   "execution_count": null,
   "metadata": {},
   "outputs": [],
   "source": [
    "soup=BeautifulSoup(page.content)\n",
    "soup"
   ]
  },
  {
   "cell_type": "code",
   "execution_count": null,
   "metadata": {},
   "outputs": [],
   "source": [
    "Women_player=soup.find('td',class_=\"rankings-block__banner--team-name\")\n",
    "#Women_player=Women_player.text.strip().replace(\"\\n\",\"\").split(' ')\n",
    "Women_player"
   ]
  },
  {
   "cell_type": "code",
   "execution_count": null,
   "metadata": {},
   "outputs": [],
   "source": [
    "WomenPlayer=soup.find_all('td',class_=\"table-body__cell rankings-table__team\")\n",
    "\n",
    "WomenPlayer"
   ]
  },
  {
   "cell_type": "code",
   "execution_count": null,
   "metadata": {},
   "outputs": [],
   "source": [
    "player=[]\n",
    "player.append(Women_player.text.strip())\n",
    "for i in WomenPlayer:\n",
    "    player.append(i.text.replace(\"\\n\",\"\"))\n",
    "player"
   ]
  },
  {
   "cell_type": "code",
   "execution_count": null,
   "metadata": {},
   "outputs": [],
   "source": [
    "Match=soup.find('td',class_=\"rankings-block__banner--matches\")\n",
    "#Match=Match.text.strip().replace(\"\\n\",\"\").split(' ')\n",
    "Match"
   ]
  },
  {
   "cell_type": "code",
   "execution_count": null,
   "metadata": {},
   "outputs": [],
   "source": [
    "point=soup.find('td',class_=\"rankings-block__banner--points\")\n",
    "#point=point.text.strip().replace(\"\\n\",\"\").split(' ')\n",
    "point"
   ]
  },
  {
   "cell_type": "code",
   "execution_count": null,
   "metadata": {},
   "outputs": [],
   "source": [
    "matches=soup.find_all('tr',class_=\"table-body\")\n",
    "matches"
   ]
  },
  {
   "cell_type": "code",
   "execution_count": null,
   "metadata": {},
   "outputs": [],
   "source": [
    "matches_=[]\n",
    "matches_.append(Match.text.strip())\n",
    "points=[]\n",
    "points.append(point.text.strip())\n",
    "\n",
    "for i in matches:\n",
    "    matches_.append(i.find_all('td',class_=\"table-body__cell u-center-text\")[0].text.strip())\n",
    "    points.append(i.find_all('td',class_=\"table-body__cell u-center-text\")[1].text.strip())"
   ]
  },
  {
   "cell_type": "code",
   "execution_count": null,
   "metadata": {},
   "outputs": [],
   "source": [
    "matches_"
   ]
  },
  {
   "cell_type": "code",
   "execution_count": null,
   "metadata": {},
   "outputs": [],
   "source": [
    "points"
   ]
  },
  {
   "cell_type": "code",
   "execution_count": null,
   "metadata": {},
   "outputs": [],
   "source": [
    "rating=soup.find('td',class_=\"rankings-block__banner--rating u-text-right\")\n",
    "rating"
   ]
  },
  {
   "cell_type": "code",
   "execution_count": null,
   "metadata": {},
   "outputs": [],
   "source": [
    "ratings=soup.find_all('td',class_=\"table-body__cell u-text-right rating\")\n",
    "ratings"
   ]
  },
  {
   "cell_type": "code",
   "execution_count": null,
   "metadata": {},
   "outputs": [],
   "source": [
    "ratings_=[]\n",
    "ratings_.append(rating.text.strip())\n",
    "for i in ratings:\n",
    "    ratings_.append(i.text.replace(\"\\n\",\"\"))\n",
    "ratings_"
   ]
  },
  {
   "cell_type": "code",
   "execution_count": null,
   "metadata": {},
   "outputs": [],
   "source": [
    "import pandas as pd\n",
    "Women_ranking=pd.DataFrame({})\n",
    "Women_ranking['Player']=player\n",
    "Women_ranking['Matches']=matches_\n",
    "Women_ranking['Points']=points\n",
    "Women_ranking['Rating']=ratings_\n",
    "Women_ranking"
   ]
  },
  {
   "cell_type": "markdown",
   "metadata": {},
   "source": [
    "## TOP 10 Womens Batting"
   ]
  },
  {
   "cell_type": "code",
   "execution_count": null,
   "metadata": {},
   "outputs": [],
   "source": [
    "!pip install bs4\n",
    "!pip install requests"
   ]
  },
  {
   "cell_type": "code",
   "execution_count": null,
   "metadata": {},
   "outputs": [],
   "source": [
    "from bs4 import BeautifulSoup\n",
    "import requests"
   ]
  },
  {
   "cell_type": "code",
   "execution_count": null,
   "metadata": {},
   "outputs": [],
   "source": [
    "page=requests.get(\"https://www.icc-cricket.com/rankings/womens/player-rankings/odi/batting\")\n",
    "page"
   ]
  },
  {
   "cell_type": "code",
   "execution_count": null,
   "metadata": {},
   "outputs": [],
   "source": [
    "soup=BeautifulSoup(page.content)\n",
    "soup"
   ]
  },
  {
   "cell_type": "code",
   "execution_count": null,
   "metadata": {},
   "outputs": [],
   "source": [
    "Women_player=soup.find('td',class_=\"table-body__cell rankings-table__name name\")\n",
    "Women_player"
   ]
  },
  {
   "cell_type": "code",
   "execution_count": null,
   "metadata": {},
   "outputs": [],
   "source": [
    "Women_player.text"
   ]
  },
  {
   "cell_type": "code",
   "execution_count": null,
   "metadata": {},
   "outputs": [],
   "source": [
    "Womenplayer=soup.find_all('td',class_=\"table-body__cell rankings-table__name name\")\n",
    "Womenplayer"
   ]
  },
  {
   "cell_type": "code",
   "execution_count": null,
   "metadata": {},
   "outputs": [],
   "source": [
    "Women_player=[]\n",
    "for i in Womenplayer:\n",
    "    Women_player.append(i.text.replace(\"\\n\",\"\"))\n",
    "Women_player"
   ]
  },
  {
   "cell_type": "code",
   "execution_count": null,
   "metadata": {},
   "outputs": [],
   "source": [
    "country_name=soup.find('span',class_=\"table-body__logo-text\")\n",
    "country_name"
   ]
  },
  {
   "cell_type": "code",
   "execution_count": null,
   "metadata": {},
   "outputs": [],
   "source": [
    "Team=soup.find_all('span',class_=\"table-body__logo-text\")\n",
    "Team"
   ]
  },
  {
   "cell_type": "code",
   "execution_count": null,
   "metadata": {},
   "outputs": [],
   "source": [
    "country_name=[]\n",
    "for i in Team:\n",
    "    country_name.append(i.text)\n",
    "country_name"
   ]
  },
  {
   "cell_type": "code",
   "execution_count": null,
   "metadata": {},
   "outputs": [],
   "source": [
    "rating_=soup.find('td',class_=\"table-body__cell rating\")\n",
    "rating_"
   ]
  },
  {
   "cell_type": "code",
   "execution_count": null,
   "metadata": {},
   "outputs": [],
   "source": [
    "rating=soup.find_all('td',class_=\"table-body__cell rating\")\n",
    "rating"
   ]
  },
  {
   "cell_type": "code",
   "execution_count": null,
   "metadata": {},
   "outputs": [],
   "source": [
    "rating_=[]\n",
    "for i in rating:\n",
    "        rating_.append(i.text)\n",
    "rating_"
   ]
  },
  {
   "cell_type": "code",
   "execution_count": null,
   "metadata": {},
   "outputs": [],
   "source": [
    "import pandas as pd\n",
    "cricket=pd.DataFrame({})\n",
    "cricket['player']=Women_player\n",
    "cricket['Team']=country_name\n",
    "cricket['Rating']=rating_\n",
    "cricket.head(10)"
   ]
  },
  {
   "cell_type": "markdown",
   "metadata": {},
   "source": [
    "##TOP 10 Women All Rounder"
   ]
  },
  {
   "cell_type": "markdown",
   "metadata": {},
   "source": [
    "# "
   ]
  },
  {
   "cell_type": "code",
   "execution_count": null,
   "metadata": {},
   "outputs": [],
   "source": [
    "!pip install bs4\n",
    "!pip install requests"
   ]
  },
  {
   "cell_type": "code",
   "execution_count": null,
   "metadata": {},
   "outputs": [],
   "source": [
    "from bs4 import BeautifulSoup\n",
    "import requests"
   ]
  },
  {
   "cell_type": "code",
   "execution_count": null,
   "metadata": {},
   "outputs": [],
   "source": [
    "page=requests.get(\"https://www.icc-cricket.com/rankings/womens/player-rankings/odi/all-rounder\")\n",
    "page"
   ]
  },
  {
   "cell_type": "code",
   "execution_count": null,
   "metadata": {},
   "outputs": [],
   "source": [
    "soup=BeautifulSoup(page.content)\n",
    "soup"
   ]
  },
  {
   "cell_type": "code",
   "execution_count": null,
   "metadata": {},
   "outputs": [],
   "source": [
    "Women_allrounder=soup.find('div',class_=\"rankings-block__banner--name-large\")\n",
    "Women_allrounder"
   ]
  },
  {
   "cell_type": "code",
   "execution_count": null,
   "metadata": {},
   "outputs": [],
   "source": [
    "Womenallrounder=soup.find_all('td',class_=\"table-body__cell rankings-table__name name\")\n",
    "Womenallrounder"
   ]
  },
  {
   "cell_type": "code",
   "execution_count": null,
   "metadata": {},
   "outputs": [],
   "source": [
    "Women_all_rounder=[]\n",
    "Women_all_rounder.append(Women_allrounder.text.strip())\n",
    "for i in Womenallrounder:\n",
    "    Women_all_rounder.append(i.text.replace(\"\\n\",\"\"))\n",
    "Women_all_rounder"
   ]
  },
  {
   "cell_type": "code",
   "execution_count": null,
   "metadata": {},
   "outputs": [],
   "source": [
    "Rating_=soup.find('div',class_=\"rankings-block__banner--rating\")\n",
    "Rating_"
   ]
  },
  {
   "cell_type": "code",
   "execution_count": null,
   "metadata": {},
   "outputs": [],
   "source": [
    "rating=soup.find_all('td',class_=\"table-body__cell rating\")\n",
    "rating"
   ]
  },
  {
   "cell_type": "code",
   "execution_count": null,
   "metadata": {},
   "outputs": [],
   "source": [
    "ratings=[]\n",
    "ratings.append(Rating_.text.strip())\n",
    "for i in rating:\n",
    "    ratings.append(i.text)\n",
    "ratings\n",
    "    "
   ]
  },
  {
   "cell_type": "code",
   "execution_count": null,
   "metadata": {},
   "outputs": [],
   "source": [
    "Team_=soup.find('div',class_=\"rankings-block__banner--nationality\")\n",
    "Team_"
   ]
  },
  {
   "cell_type": "code",
   "execution_count": null,
   "metadata": {},
   "outputs": [],
   "source": [
    "Team=soup.find_all('td',class_=\"table-body__cell nationality-logo rankings-table__team\")\n",
    "Team"
   ]
  },
  {
   "cell_type": "code",
   "execution_count": null,
   "metadata": {},
   "outputs": [],
   "source": [
    "Teams=[]\n",
    "Teams.append(Team_.text.strip())\n",
    "for i in Team:\n",
    "    Teams.append(i.text.replace(\"\\n\",\"\"))\n",
    "Teams"
   ]
  },
  {
   "cell_type": "code",
   "execution_count": null,
   "metadata": {},
   "outputs": [],
   "source": [
    "import pandas as pd\n",
    "cricket=pd.DataFrame({})\n",
    "cricket['Women Allrounder']=Women_all_rounder\n",
    "cricket['Teams']=Teams\n",
    "cricket['Ratings']=ratings\n",
    "cricket.head(10)"
   ]
  },
  {
   "cell_type": "markdown",
   "metadata": {},
   "source": [
    "## Amazon Mobile Details"
   ]
  },
  {
   "cell_type": "code",
   "execution_count": null,
   "metadata": {},
   "outputs": [],
   "source": [
    "!pip install bs4\n",
    "!pip install requests"
   ]
  },
  {
   "cell_type": "code",
   "execution_count": null,
   "metadata": {},
   "outputs": [],
   "source": [
    "from bs4 import BeautifulSoup\n",
    "import requests"
   ]
  },
  {
   "cell_type": "code",
   "execution_count": null,
   "metadata": {},
   "outputs": [],
   "source": [
    "page=requests.get(\"https://www.amazon.in/s?i=electronics&bbn=1389401031&rh=n%3A1389401031%2Cp_36%3A1318506031&dc&qid=1624182524&ref=sr_ex_p_89\")\n",
    "page"
   ]
  },
  {
   "cell_type": "code",
   "execution_count": null,
   "metadata": {},
   "outputs": [],
   "source": [
    "soup=BeautifulSoup(page.content)\n",
    "soup"
   ]
  },
  {
   "cell_type": "code",
   "execution_count": null,
   "metadata": {},
   "outputs": [],
   "source": [
    "mobile_name=soup.find_all('h2',class_=\"a-size-mini a-spacing-none a-color-base s-line-clamp-4\")\n",
    "mobile_name"
   ]
  },
  {
   "cell_type": "code",
   "execution_count": null,
   "metadata": {},
   "outputs": [],
   "source": [
    "productname=[]\n",
    "for i in mobile_name:\n",
    "    productname.append(i.text.replace(\"\\n\",\"\"))\n",
    "productname"
   ]
  },
  {
   "cell_type": "code",
   "execution_count": null,
   "metadata": {},
   "outputs": [],
   "source": [
    "review=soup.find_all('div',class_=\"a-row a-size-small\")\n",
    "review"
   ]
  },
  {
   "cell_type": "code",
   "execution_count": null,
   "metadata": {},
   "outputs": [],
   "source": [
    "review_=[]\n",
    "for i in review:\n",
    "    review_.append(i.text.replace(\"\\n\",\"\"))\n",
    "review_"
   ]
  },
  {
   "cell_type": "code",
   "execution_count": null,
   "metadata": {},
   "outputs": [],
   "source": [
    "url=soup.find_all('div',class_=\"a-section aok-relative s-image-square-aspect\")\n",
    "url"
   ]
  },
  {
   "cell_type": "code",
   "execution_count": null,
   "metadata": {},
   "outputs": [],
   "source": [
    "import re\n",
    "images = soup.find_all('img', {'src':re.compile('.jpg')})\n",
    "\n",
    "for image in images: \n",
    "    (print(image['src']+'\\n',\"\"))"
   ]
  },
  {
   "cell_type": "code",
   "execution_count": null,
   "metadata": {},
   "outputs": [],
   "source": [
    "price=soup.find_all('span',class_=\"a-price-whole\")\n",
    "price"
   ]
  },
  {
   "cell_type": "code",
   "execution_count": null,
   "metadata": {},
   "outputs": [],
   "source": [
    "price_=[]\n",
    "for i in price:\n",
    "    price_.append(i.text.replace(\"\\n\",\"\"))\n",
    "price_"
   ]
  },
  {
   "cell_type": "markdown",
   "metadata": {},
   "source": [
    "## Internshala project"
   ]
  },
  {
   "cell_type": "code",
   "execution_count": null,
   "metadata": {},
   "outputs": [],
   "source": [
    "!pip install bs4\n",
    "!pip install requests"
   ]
  },
  {
   "cell_type": "code",
   "execution_count": null,
   "metadata": {},
   "outputs": [],
   "source": [
    "!pip install bs4\n",
    "!pip install requests"
   ]
  },
  {
   "cell_type": "code",
   "execution_count": null,
   "metadata": {},
   "outputs": [],
   "source": [
    "page=requests.get(\"https://internshala.com/fresher-jobs\")\n",
    "page"
   ]
  },
  {
   "cell_type": "code",
   "execution_count": null,
   "metadata": {},
   "outputs": [],
   "source": [
    "soup=BeautifulSoup(page.content)\n",
    "soup"
   ]
  },
  {
   "cell_type": "code",
   "execution_count": null,
   "metadata": {},
   "outputs": [],
   "source": [
    "print(soup.prettify())"
   ]
  },
  {
   "cell_type": "code",
   "execution_count": null,
   "metadata": {},
   "outputs": [],
   "source": [
    "Job_title=soup.find('div',class_=\"heading_4_5 profile\")\n",
    "Job_title"
   ]
  },
  {
   "cell_type": "code",
   "execution_count": null,
   "metadata": {},
   "outputs": [],
   "source": [
    "Job_title.text"
   ]
  },
  {
   "cell_type": "code",
   "execution_count": null,
   "metadata": {},
   "outputs": [],
   "source": [
    "Jobtitle=soup.find_all('div',class_=\"heading_4_5 profile\")\n",
    "Jobtitle"
   ]
  },
  {
   "cell_type": "code",
   "execution_count": null,
   "metadata": {},
   "outputs": [],
   "source": [
    "Job_title=[]\n",
    "for i in Jobtitle:\n",
    "    Job_title.append(i.text.replace(\"\\n\",\"\"))\n",
    "Job_title"
   ]
  },
  {
   "cell_type": "code",
   "execution_count": null,
   "metadata": {},
   "outputs": [],
   "source": [
    "company_name=soup.find('div',class_=\"heading_6 company_name\")\n",
    "company_name"
   ]
  },
  {
   "cell_type": "code",
   "execution_count": null,
   "metadata": {},
   "outputs": [],
   "source": [
    "company_name.text"
   ]
  },
  {
   "cell_type": "code",
   "execution_count": null,
   "metadata": {},
   "outputs": [],
   "source": [
    "companyname=soup.find_all('div',class_=\"heading_6 company_name\")\n",
    "companyname"
   ]
  },
  {
   "cell_type": "code",
   "execution_count": null,
   "metadata": {},
   "outputs": [],
   "source": [
    "company_name=[]\n",
    "for i in companyname:\n",
    "    company_name.append(i.text.replace(\"\\n\",\"\"))\n",
    "company_name"
   ]
  },
  {
   "cell_type": "code",
   "execution_count": null,
   "metadata": {},
   "outputs": [],
   "source": [
    "CTC_=soup.find_all('div',class_=\"internship_other_details_container\")\n",
    "CTC_"
   ]
  },
  {
   "cell_type": "code",
   "execution_count": null,
   "metadata": {},
   "outputs": [],
   "source": [
    "CTC = []\n",
    "APPLY_DATE=[]\n",
    "for i in CTC_:\n",
    "    CTC.append(i.find_all('div',class_=\"item_body\")[1].text.strip())\n",
    "    APPLY_DATE.append(i.find_all('div',class_=\"item_body\")[2].text.strip())"
   ]
  },
  {
   "cell_type": "code",
   "execution_count": null,
   "metadata": {},
   "outputs": [],
   "source": [
    "CTC"
   ]
  },
  {
   "cell_type": "code",
   "execution_count": null,
   "metadata": {},
   "outputs": [],
   "source": [
    "APPLY_DATE"
   ]
  },
  {
   "cell_type": "code",
   "execution_count": null,
   "metadata": {},
   "outputs": [],
   "source": [
    "CTC"
   ]
  },
  {
   "cell_type": "code",
   "execution_count": null,
   "metadata": {},
   "outputs": [],
   "source": [
    "import pandas as pd\n",
    "internshala=pd.DataFrame({})\n",
    "internshala['jobtitle']=Job_title\n",
    "internshala['companyName']=company_name\n",
    "internshala['CTC']=CTC\n",
    "internshala['Apply date']=APPLY_DATE\n",
    "internshala"
   ]
  },
  {
   "cell_type": "markdown",
   "metadata": {},
   "source": [
    "## Housing Detail"
   ]
  },
  {
   "cell_type": "code",
   "execution_count": null,
   "metadata": {},
   "outputs": [],
   "source": [
    "!pip install bs4\n",
    "!pip install requests"
   ]
  },
  {
   "cell_type": "code",
   "execution_count": null,
   "metadata": {},
   "outputs": [],
   "source": [
    "from bs4 import BeautifulSoup\n",
    "import requests"
   ]
  },
  {
   "cell_type": "code",
   "execution_count": null,
   "metadata": {},
   "outputs": [],
   "source": [
    "page=requests.get(\"https://www.nobroker.in/flats-for-sale-in-shivaji_nagar_bangalore\")\n",
    "page"
   ]
  },
  {
   "cell_type": "code",
   "execution_count": null,
   "metadata": {},
   "outputs": [],
   "source": [
    "soup=BeautifulSoup(page.content)\n",
    "soup"
   ]
  },
  {
   "cell_type": "code",
   "execution_count": null,
   "metadata": {},
   "outputs": [],
   "source": [
    "House_title=soup.find('h2',class_=\"heading-6 font-semi-bold nb__1AShY\")\n",
    "House_title"
   ]
  },
  {
   "cell_type": "code",
   "execution_count": null,
   "metadata": {},
   "outputs": [],
   "source": [
    "House_title.text"
   ]
  },
  {
   "cell_type": "code",
   "execution_count": null,
   "metadata": {},
   "outputs": [],
   "source": [
    "Housetitle=soup.find_all('h2',class_=\"heading-6 font-semi-bold nb__1AShY\")\n",
    "Housetitle"
   ]
  },
  {
   "cell_type": "code",
   "execution_count": null,
   "metadata": {},
   "outputs": [],
   "source": [
    "House_title=[]\n",
    "for i in Housetitle:\n",
    "    House_title.append(i.text)\n",
    "House_title"
   ]
  },
  {
   "cell_type": "code",
   "execution_count": null,
   "metadata": {},
   "outputs": [],
   "source": [
    "location=soup.find_all('div',class_=\"nb__2CMjv\")\n",
    "location"
   ]
  },
  {
   "cell_type": "code",
   "execution_count": null,
   "metadata": {},
   "outputs": [],
   "source": [
    "location_=[]\n",
    "for i in location:\n",
    "    location_.append(i.text.strip())\n",
    "location_"
   ]
  },
  {
   "cell_type": "code",
   "execution_count": null,
   "metadata": {},
   "outputs": [],
   "source": [
    "# EMI_=soup.find_all('div', class_='nb__2NPHR')\n",
    "EMI_=soup.find_all('div', class_='font-semi-bold heading-6' ,id='roomType')"
   ]
  },
  {
   "cell_type": "code",
   "execution_count": null,
   "metadata": {},
   "outputs": [],
   "source": [
    "l = []\n",
    "for i in EMI_:\n",
    "#     print(i.text)\n",
    "    l.append(i.text.split(\"/\")[0])\n",
    "print(l)"
   ]
  },
  {
   "cell_type": "code",
   "execution_count": null,
   "metadata": {},
   "outputs": [],
   "source": [
    "price_=soup.find_all('div',class_=\"nb__2NPHR\" ,id='minDeposit')\n",
    "price_"
   ]
  },
  {
   "cell_type": "code",
   "execution_count": null,
   "metadata": {},
   "outputs": [],
   "source": [
    "a = price_[0]"
   ]
  },
  {
   "cell_type": "code",
   "execution_count": null,
   "metadata": {},
   "outputs": [],
   "source": [
    "a.find('span')"
   ]
  },
  {
   "cell_type": "code",
   "execution_count": null,
   "metadata": {},
   "outputs": [],
   "source": [
    "price=[]\n",
    "for i in price_:\n",
    "    price.append(i.find('span').text)\n",
    "price"
   ]
  },
  {
   "cell_type": "code",
   "execution_count": null,
   "metadata": {},
   "outputs": [],
   "source": [
    "import pandas as pd\n",
    "house_detail=pd.DataFrame({})\n",
    "house_detail['house_title']=House_title\n",
    "house_detail['location']=location_\n",
    "house_detail['EMI']=l\n",
    "house_detail['price']=price\n",
    "house_detail"
   ]
  },
  {
   "cell_type": "markdown",
   "metadata": {},
   "source": [
    "## Weather Forecast"
   ]
  },
  {
   "cell_type": "code",
   "execution_count": null,
   "metadata": {},
   "outputs": [],
   "source": [
    "!pip install bs4\n",
    "!pip install requests"
   ]
  },
  {
   "cell_type": "code",
   "execution_count": null,
   "metadata": {},
   "outputs": [],
   "source": [
    "from bs4 import BeautifulSoup\n",
    "import requests"
   ]
  },
  {
   "cell_type": "code",
   "execution_count": null,
   "metadata": {},
   "outputs": [],
   "source": [
    "page=requests.get(\"https://forecast.weather.gov/MapClick.php?textField1=37.78&textField2=-122.42#.YM8q6r4zbIU\")\n",
    "page"
   ]
  },
  {
   "cell_type": "code",
   "execution_count": null,
   "metadata": {},
   "outputs": [],
   "source": [
    "soup=BeautifulSoup(page.content)\n",
    "soup"
   ]
  },
  {
   "cell_type": "code",
   "execution_count": null,
   "metadata": {},
   "outputs": [],
   "source": [
    "forecast=soup.find_all('div',class_=\"row row-odd row-forecast\")\n",
    "forecast"
   ]
  },
  {
   "cell_type": "code",
   "execution_count": null,
   "metadata": {},
   "outputs": [],
   "source": [
    "period_name=[]\n",
    "short_desc=[]\n",
    "for i in forecast:\n",
    "     period_name.append(i.find_all('div',class_=\"col-sm-2 forecast-label\")[0].text.strip())\n",
    "        #short_desc.append(i.find_all('div',class_=\"col-sm-10 forecast-text\")[0].text.strip())\n",
    "     #templow_.append(i.find_all('p',class_=\"temp temp-low\")[3].text.strip())"
   ]
  },
  {
   "cell_type": "code",
   "execution_count": null,
   "metadata": {},
   "outputs": [],
   "source": [
    "period_name"
   ]
  },
  {
   "cell_type": "code",
   "execution_count": null,
   "metadata": {},
   "outputs": [],
   "source": [
    "short_desc=[]\n",
    "for i in forecast:\n",
    "    short_desc.append(i.find_all('div',class_=\"col-sm-10 forecast-text\")[-1].text.strip())"
   ]
  },
  {
   "cell_type": "code",
   "execution_count": null,
   "metadata": {},
   "outputs": [],
   "source": [
    "short_desc"
   ]
  },
  {
   "cell_type": "code",
   "execution_count": null,
   "metadata": {},
   "outputs": [],
   "source": [
    "import pandas as pd\n",
    "Forecast_=pd.DataFrame({})\n",
    "Forecast_['Period Name']=period_name\n",
    "Forecast_['short Desc with Temp']=short_desc\n",
    "Forecast_"
   ]
  }
 ],
 "metadata": {
  "kernelspec": {
   "display_name": "Python 3",
   "language": "python",
   "name": "python3"
  },
  "language_info": {
   "codemirror_mode": {
    "name": "ipython",
    "version": 3
   },
   "file_extension": ".py",
   "mimetype": "text/x-python",
   "name": "python",
   "nbconvert_exporter": "python",
   "pygments_lexer": "ipython3",
   "version": "3.8.5"
  }
 },
 "nbformat": 4,
 "nbformat_minor": 4
}
